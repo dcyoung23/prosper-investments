{
 "cells": [
  {
   "cell_type": "markdown",
   "id": "animal-trading",
   "metadata": {},
   "source": [
    "# Prosper Investments Loan Chargeoff Modeling"
   ]
  },
  {
   "cell_type": "markdown",
   "id": "meaningful-pavilion",
   "metadata": {},
   "source": [
    "## Context"
   ]
  },
  {
   "cell_type": "markdown",
   "id": "canadian-deposit",
   "metadata": {},
   "source": [
    "Prosper is a peer-to-peer lending marketplace that was founded in 2005 and has facilitated more than \\\\$18 billion in loans to more than 1 million people in the United States.  Borrowers apply online for personal loans ranging between \\\\$2,000 and \\\\$40,000 and individuals can invest in these loans.\n",
    "\n",
    "Personal loans are unsecured notes since they are not collateralized by property such as an automobile or real estate.  These loans typically have higher interest rates to account for the higher risk of borrower default.  Prosper investments have historically yielded return of 5.3% so they can offer a way for individuals to diversify their portfolio beyond traditional investments.\n",
    "\n",
    "The goal is to identify the highest quality loans to invest in to maximum rate of return.  The borrower can either:\n",
    "\n",
    "1) Pay off the entire principal of the loan or<br>\n",
    "2) Default on their loan and some percentage of the original principal loan amount charges off.  \n",
    "\n",
    "We are most concerned with False negatives (FN), Type II errors, since this is the situation when the true status of the loan is `chargeoff` but the model predicted the full principal amount will be be `paid off`.  FN prediction errors increase the loss exposure in the pool of potential investments.\n",
    "\n",
    "False positives (FP), Type I errors, is not as much of a concern since there is a finite amount of capital available for investing.  We will exclude all predicted `chargeoff` loans from the pool of potential investments but FP errors do represent, to some degree, opportunity cost for potential higher yield investments."
   ]
  },
  {
   "cell_type": "markdown",
   "id": "likely-penetration",
   "metadata": {},
   "source": [
    "# 3 Preprocessing<a id='3_preprocessing'></a>"
   ]
  },
  {
   "cell_type": "code",
   "execution_count": 1,
   "id": "french-capitol",
   "metadata": {},
   "outputs": [],
   "source": [
    "# Import libraries\n",
    "import itertools\n",
    "from time import time\n",
    "import os\n",
    "import csv\n",
    "import json\n",
    "import numpy as np\n",
    "import pandas as pd\n",
    "import matplotlib.pyplot as plt\n",
    "import seaborn as sns\n",
    "\n",
    "# Ignore warnings for clean output in notebook\n",
    "import warnings\n",
    "warnings.filterwarnings('ignore')"
   ]
  },
  {
   "cell_type": "markdown",
   "id": "romance-adventure",
   "metadata": {},
   "source": [
    "## 3.1 Load Data"
   ]
  },
  {
   "cell_type": "code",
   "execution_count": 2,
   "id": "joined-universal",
   "metadata": {},
   "outputs": [],
   "source": [
    "# Data directory references\n",
    "intermediate_dir = r'..\\data\\intermediate'"
   ]
  },
  {
   "cell_type": "code",
   "execution_count": 3,
   "id": "combined-square",
   "metadata": {},
   "outputs": [],
   "source": [
    "# Load dtypes from df_clean from data wrangling step\n",
    "dtypes_fn = 'clean_dtypes.json'\n",
    "with open(os.path.join(intermediate_dir, dtypes_fn)) as f:\n",
    "          clean_dtypes = json.load(f)\n",
    "# Some models cannot handle Int16 data types\n",
    "clean_dtypes['prosper_score'] = 'int32'\n",
    "clean_dtypes['income_range'] = 'int32'"
   ]
  },
  {
   "cell_type": "code",
   "execution_count": 4,
   "id": "solved-boulder",
   "metadata": {},
   "outputs": [
    {
     "name": "stdout",
     "output_type": "stream",
     "text": [
      "<class 'pandas.core.frame.DataFrame'>\n",
      "RangeIndex: 579634 entries, 0 to 579633\n",
      "Data columns (total 67 columns):\n",
      " #   Column                                            Non-Null Count   Dtype         \n",
      "---  ------                                            --------------   -----         \n",
      " 0   listing_number                                    579634 non-null  int64         \n",
      " 1   chargeoff_amount                                  579634 non-null  float32       \n",
      " 2   chargeoff                                         579634 non-null  int8          \n",
      " 3   closed_month                                      579634 non-null  float32       \n",
      " 4   listing_creation_date                             579634 non-null  datetime64[ns]\n",
      " 5   loan_origination_date                             579634 non-null  datetime64[ns]\n",
      " 6   listing_status                                    579634 non-null  Int16         \n",
      " 7   listing_amount                                    579634 non-null  float32       \n",
      " 8   prosper_rating                                    579634 non-null  object        \n",
      " 9   lender_yield                                      579634 non-null  float32       \n",
      " 10  borrower_rate                                     579634 non-null  float32       \n",
      " 11  borrower_apr                                      579634 non-null  float32       \n",
      " 12  listing_term                                      579634 non-null  Int16         \n",
      " 13  listing_monthly_payment                           579634 non-null  float32       \n",
      " 14  prosper_score                                     579634 non-null  int32         \n",
      " 15  income_range                                      579634 non-null  int32         \n",
      " 16  stated_monthly_income                             579634 non-null  float32       \n",
      " 17  income_verifiable                                 579634 non-null  object        \n",
      " 18  employment_status_description                     579634 non-null  object        \n",
      " 19  occupation                                        579634 non-null  object        \n",
      " 20  months_employed                                   579634 non-null  Int32         \n",
      " 21  borrower_state                                    579634 non-null  object        \n",
      " 22  prior_prosper_loans_active                        579634 non-null  float32       \n",
      " 23  prior_prosper_loans                               579634 non-null  float32       \n",
      " 24  prior_prosper_loans_principal_borrowed            579634 non-null  float32       \n",
      " 25  prior_prosper_loans_principal_outstanding         579634 non-null  float32       \n",
      " 26  prior_prosper_loans_balance_outstanding           579634 non-null  float32       \n",
      " 27  prior_prosper_loans_cycles_billed                 579634 non-null  float32       \n",
      " 28  prior_prosper_loans_ontime_payments               579634 non-null  float32       \n",
      " 29  prior_prosper_loans_late_cycles                   579634 non-null  float32       \n",
      " 30  prior_prosper_loans_late_payments_one_month_plus  579634 non-null  float32       \n",
      " 31  max_prior_prosper_loan                            579634 non-null  float32       \n",
      " 32  min_prior_prosper_loan                            579634 non-null  float32       \n",
      " 33  prior_prosper_loan_earliest_pay_off               579634 non-null  float32       \n",
      " 34  prior_prosper_loans31dpd                          579634 non-null  float32       \n",
      " 35  prior_prosper_loans61dpd                          579634 non-null  float32       \n",
      " 36  lender_indicator                                  579634 non-null  Int32         \n",
      " 37  AT01S                                             579634 non-null  float32       \n",
      " 38  AT02S                                             579634 non-null  float32       \n",
      " 39  AU01S                                             579634 non-null  float32       \n",
      " 40  G020S                                             579634 non-null  float32       \n",
      " 41  G041S                                             579634 non-null  float32       \n",
      " 42  G042S                                             579634 non-null  float32       \n",
      " 43  G043S                                             579634 non-null  float32       \n",
      " 44  G058S                                             579634 non-null  float32       \n",
      " 45  G059S                                             579634 non-null  float32       \n",
      " 46  G061S                                             579634 non-null  float32       \n",
      " 47  G063S                                             579634 non-null  float32       \n",
      " 48  G064S                                             579634 non-null  float32       \n",
      " 49  G066S                                             579634 non-null  float32       \n",
      " 50  G068S                                             579634 non-null  float32       \n",
      " 51  G069S                                             579634 non-null  float32       \n",
      " 52  G071S                                             579634 non-null  float32       \n",
      " 53  G093S                                             579634 non-null  float32       \n",
      " 54  G103S                                             579634 non-null  float32       \n",
      " 55  HI01S                                             579634 non-null  float32       \n",
      " 56  IN01S                                             579634 non-null  float32       \n",
      " 57  IN09S                                             579634 non-null  float32       \n",
      " 58  IN21S                                             579634 non-null  float32       \n",
      " 59  MT01S                                             579634 non-null  float32       \n",
      " 60  OF01S                                             579634 non-null  float32       \n",
      " 61  RE01S                                             579634 non-null  float32       \n",
      " 62  RE21S                                             579634 non-null  float32       \n",
      " 63  RT01S                                             579634 non-null  float32       \n",
      " 64  S207S                                             579634 non-null  float32       \n",
      " 65  dti_wprosper_loan                                 579634 non-null  float32       \n",
      " 66  co_borrower_application                           579634 non-null  object        \n",
      "dtypes: Int16(2), Int32(2), datetime64[ns](2), float32(51), int32(2), int64(1), int8(1), object(6)\n",
      "memory usage: 166.4+ MB\n"
     ]
    }
   ],
   "source": [
    "clean_fn = 'listings_clean.csv'\n",
    "# Pass datetime fields to parse_dates\n",
    "dtype = {k: v for k, v in clean_dtypes.items() if v != 'datetime64[ns]'}\n",
    "parse_dates = [k for k, v in clean_dtypes.items() if v == 'datetime64[ns]']\n",
    "df_clean = pd.read_csv(os.path.join(intermediate_dir, clean_fn), dtype=dtype, parse_dates=parse_dates)\n",
    "df_clean.info()"
   ]
  },
  {
   "cell_type": "code",
   "execution_count": 5,
   "id": "dutch-devon",
   "metadata": {},
   "outputs": [
    {
     "data": {
      "text/html": [
       "<div>\n",
       "<style scoped>\n",
       "    .dataframe tbody tr th:only-of-type {\n",
       "        vertical-align: middle;\n",
       "    }\n",
       "\n",
       "    .dataframe tbody tr th {\n",
       "        vertical-align: top;\n",
       "    }\n",
       "\n",
       "    .dataframe thead th {\n",
       "        text-align: right;\n",
       "    }\n",
       "</style>\n",
       "<table border=\"1\" class=\"dataframe\">\n",
       "  <thead>\n",
       "    <tr style=\"text-align: right;\">\n",
       "      <th></th>\n",
       "      <th>listing_number</th>\n",
       "      <th>chargeoff_amount</th>\n",
       "      <th>chargeoff</th>\n",
       "      <th>closed_month</th>\n",
       "      <th>listing_status</th>\n",
       "      <th>listing_amount</th>\n",
       "      <th>lender_yield</th>\n",
       "      <th>borrower_rate</th>\n",
       "      <th>borrower_apr</th>\n",
       "      <th>listing_term</th>\n",
       "      <th>...</th>\n",
       "      <th>IN01S</th>\n",
       "      <th>IN09S</th>\n",
       "      <th>IN21S</th>\n",
       "      <th>MT01S</th>\n",
       "      <th>OF01S</th>\n",
       "      <th>RE01S</th>\n",
       "      <th>RE21S</th>\n",
       "      <th>RT01S</th>\n",
       "      <th>S207S</th>\n",
       "      <th>dti_wprosper_loan</th>\n",
       "    </tr>\n",
       "  </thead>\n",
       "  <tbody>\n",
       "    <tr>\n",
       "      <th>count</th>\n",
       "      <td>5.796340e+05</td>\n",
       "      <td>579634.000000</td>\n",
       "      <td>579634.00000</td>\n",
       "      <td>579634.00000</td>\n",
       "      <td>579634.0</td>\n",
       "      <td>579634.000000</td>\n",
       "      <td>579634.000000</td>\n",
       "      <td>579634.000000</td>\n",
       "      <td>579634.000000</td>\n",
       "      <td>579634.000000</td>\n",
       "      <td>...</td>\n",
       "      <td>579634.000000</td>\n",
       "      <td>579634.000000</td>\n",
       "      <td>579634.000000</td>\n",
       "      <td>579634.000000</td>\n",
       "      <td>579634.000000</td>\n",
       "      <td>579634.000000</td>\n",
       "      <td>579634.000000</td>\n",
       "      <td>579634.000000</td>\n",
       "      <td>579634.000000</td>\n",
       "      <td>579634.000000</td>\n",
       "    </tr>\n",
       "    <tr>\n",
       "      <th>mean</th>\n",
       "      <td>6.262138e+06</td>\n",
       "      <td>1691.917725</td>\n",
       "      <td>0.18536</td>\n",
       "      <td>201900.40625</td>\n",
       "      <td>6.0</td>\n",
       "      <td>13379.106445</td>\n",
       "      <td>0.143525</td>\n",
       "      <td>0.153525</td>\n",
       "      <td>0.184540</td>\n",
       "      <td>42.506658</td>\n",
       "      <td>...</td>\n",
       "      <td>7.283216</td>\n",
       "      <td>1.523641</td>\n",
       "      <td>20.731136</td>\n",
       "      <td>1.412691</td>\n",
       "      <td>1.492154</td>\n",
       "      <td>13.605087</td>\n",
       "      <td>13.210032</td>\n",
       "      <td>5.201783</td>\n",
       "      <td>3.714865</td>\n",
       "      <td>0.261039</td>\n",
       "    </tr>\n",
       "    <tr>\n",
       "      <th>std</th>\n",
       "      <td>2.295038e+06</td>\n",
       "      <td>4561.408203</td>\n",
       "      <td>0.38859</td>\n",
       "      <td>81.94915</td>\n",
       "      <td>0.0</td>\n",
       "      <td>8099.694824</td>\n",
       "      <td>0.068712</td>\n",
       "      <td>0.068712</td>\n",
       "      <td>0.072761</td>\n",
       "      <td>10.668804</td>\n",
       "      <td>...</td>\n",
       "      <td>6.726820</td>\n",
       "      <td>1.659852</td>\n",
       "      <td>27.767914</td>\n",
       "      <td>1.683995</td>\n",
       "      <td>2.742183</td>\n",
       "      <td>8.163167</td>\n",
       "      <td>30.788761</td>\n",
       "      <td>4.533339</td>\n",
       "      <td>25.884546</td>\n",
       "      <td>0.117930</td>\n",
       "    </tr>\n",
       "    <tr>\n",
       "      <th>min</th>\n",
       "      <td>6.935680e+05</td>\n",
       "      <td>0.000000</td>\n",
       "      <td>0.00000</td>\n",
       "      <td>201801.00000</td>\n",
       "      <td>6.0</td>\n",
       "      <td>2000.000000</td>\n",
       "      <td>0.043100</td>\n",
       "      <td>0.053100</td>\n",
       "      <td>0.056500</td>\n",
       "      <td>36.000000</td>\n",
       "      <td>...</td>\n",
       "      <td>-4.000000</td>\n",
       "      <td>-5.000000</td>\n",
       "      <td>-5.000000</td>\n",
       "      <td>-4.000000</td>\n",
       "      <td>-4.000000</td>\n",
       "      <td>-4.000000</td>\n",
       "      <td>-4.000000</td>\n",
       "      <td>-4.000000</td>\n",
       "      <td>-4.000000</td>\n",
       "      <td>0.000000</td>\n",
       "    </tr>\n",
       "    <tr>\n",
       "      <th>25%</th>\n",
       "      <td>4.459776e+06</td>\n",
       "      <td>0.000000</td>\n",
       "      <td>0.00000</td>\n",
       "      <td>201809.00000</td>\n",
       "      <td>6.0</td>\n",
       "      <td>7500.000000</td>\n",
       "      <td>0.090900</td>\n",
       "      <td>0.100900</td>\n",
       "      <td>0.132600</td>\n",
       "      <td>36.000000</td>\n",
       "      <td>...</td>\n",
       "      <td>3.000000</td>\n",
       "      <td>0.000000</td>\n",
       "      <td>6.000000</td>\n",
       "      <td>0.000000</td>\n",
       "      <td>0.000000</td>\n",
       "      <td>8.000000</td>\n",
       "      <td>4.000000</td>\n",
       "      <td>2.000000</td>\n",
       "      <td>-4.000000</td>\n",
       "      <td>0.170000</td>\n",
       "    </tr>\n",
       "    <tr>\n",
       "      <th>50%</th>\n",
       "      <td>6.347226e+06</td>\n",
       "      <td>0.000000</td>\n",
       "      <td>0.00000</td>\n",
       "      <td>201905.00000</td>\n",
       "      <td>6.0</td>\n",
       "      <td>12000.000000</td>\n",
       "      <td>0.125900</td>\n",
       "      <td>0.135900</td>\n",
       "      <td>0.168210</td>\n",
       "      <td>36.000000</td>\n",
       "      <td>...</td>\n",
       "      <td>6.000000</td>\n",
       "      <td>1.000000</td>\n",
       "      <td>12.000000</td>\n",
       "      <td>1.000000</td>\n",
       "      <td>0.000000</td>\n",
       "      <td>12.000000</td>\n",
       "      <td>8.000000</td>\n",
       "      <td>4.000000</td>\n",
       "      <td>-4.000000</td>\n",
       "      <td>0.250000</td>\n",
       "    </tr>\n",
       "    <tr>\n",
       "      <th>75%</th>\n",
       "      <td>7.896140e+06</td>\n",
       "      <td>0.000000</td>\n",
       "      <td>0.00000</td>\n",
       "      <td>202003.00000</td>\n",
       "      <td>6.0</td>\n",
       "      <td>18000.000000</td>\n",
       "      <td>0.182400</td>\n",
       "      <td>0.192400</td>\n",
       "      <td>0.226060</td>\n",
       "      <td>60.000000</td>\n",
       "      <td>...</td>\n",
       "      <td>10.000000</td>\n",
       "      <td>2.000000</td>\n",
       "      <td>23.000000</td>\n",
       "      <td>2.000000</td>\n",
       "      <td>2.000000</td>\n",
       "      <td>18.000000</td>\n",
       "      <td>16.000000</td>\n",
       "      <td>7.000000</td>\n",
       "      <td>-4.000000</td>\n",
       "      <td>0.330000</td>\n",
       "    </tr>\n",
       "    <tr>\n",
       "      <th>max</th>\n",
       "      <td>1.186894e+07</td>\n",
       "      <td>40000.000000</td>\n",
       "      <td>1.00000</td>\n",
       "      <td>202012.00000</td>\n",
       "      <td>6.0</td>\n",
       "      <td>40000.000000</td>\n",
       "      <td>0.309200</td>\n",
       "      <td>0.319200</td>\n",
       "      <td>0.360000</td>\n",
       "      <td>60.000000</td>\n",
       "      <td>...</td>\n",
       "      <td>281.000000</td>\n",
       "      <td>50.000000</td>\n",
       "      <td>528.000000</td>\n",
       "      <td>71.000000</td>\n",
       "      <td>118.000000</td>\n",
       "      <td>150.000000</td>\n",
       "      <td>9999.000000</td>\n",
       "      <td>85.000000</td>\n",
       "      <td>999.000000</td>\n",
       "      <td>0.860000</td>\n",
       "    </tr>\n",
       "  </tbody>\n",
       "</table>\n",
       "<p>8 rows × 59 columns</p>\n",
       "</div>"
      ],
      "text/plain": [
       "       listing_number  chargeoff_amount     chargeoff  closed_month  \\\n",
       "count    5.796340e+05     579634.000000  579634.00000  579634.00000   \n",
       "mean     6.262138e+06       1691.917725       0.18536  201900.40625   \n",
       "std      2.295038e+06       4561.408203       0.38859      81.94915   \n",
       "min      6.935680e+05          0.000000       0.00000  201801.00000   \n",
       "25%      4.459776e+06          0.000000       0.00000  201809.00000   \n",
       "50%      6.347226e+06          0.000000       0.00000  201905.00000   \n",
       "75%      7.896140e+06          0.000000       0.00000  202003.00000   \n",
       "max      1.186894e+07      40000.000000       1.00000  202012.00000   \n",
       "\n",
       "       listing_status  listing_amount   lender_yield  borrower_rate  \\\n",
       "count        579634.0   579634.000000  579634.000000  579634.000000   \n",
       "mean              6.0    13379.106445       0.143525       0.153525   \n",
       "std               0.0     8099.694824       0.068712       0.068712   \n",
       "min               6.0     2000.000000       0.043100       0.053100   \n",
       "25%               6.0     7500.000000       0.090900       0.100900   \n",
       "50%               6.0    12000.000000       0.125900       0.135900   \n",
       "75%               6.0    18000.000000       0.182400       0.192400   \n",
       "max               6.0    40000.000000       0.309200       0.319200   \n",
       "\n",
       "        borrower_apr   listing_term  ...          IN01S          IN09S  \\\n",
       "count  579634.000000  579634.000000  ...  579634.000000  579634.000000   \n",
       "mean        0.184540      42.506658  ...       7.283216       1.523641   \n",
       "std         0.072761      10.668804  ...       6.726820       1.659852   \n",
       "min         0.056500      36.000000  ...      -4.000000      -5.000000   \n",
       "25%         0.132600      36.000000  ...       3.000000       0.000000   \n",
       "50%         0.168210      36.000000  ...       6.000000       1.000000   \n",
       "75%         0.226060      60.000000  ...      10.000000       2.000000   \n",
       "max         0.360000      60.000000  ...     281.000000      50.000000   \n",
       "\n",
       "               IN21S          MT01S          OF01S          RE01S  \\\n",
       "count  579634.000000  579634.000000  579634.000000  579634.000000   \n",
       "mean       20.731136       1.412691       1.492154      13.605087   \n",
       "std        27.767914       1.683995       2.742183       8.163167   \n",
       "min        -5.000000      -4.000000      -4.000000      -4.000000   \n",
       "25%         6.000000       0.000000       0.000000       8.000000   \n",
       "50%        12.000000       1.000000       0.000000      12.000000   \n",
       "75%        23.000000       2.000000       2.000000      18.000000   \n",
       "max       528.000000      71.000000     118.000000     150.000000   \n",
       "\n",
       "               RE21S          RT01S          S207S  dti_wprosper_loan  \n",
       "count  579634.000000  579634.000000  579634.000000      579634.000000  \n",
       "mean       13.210032       5.201783       3.714865           0.261039  \n",
       "std        30.788761       4.533339      25.884546           0.117930  \n",
       "min        -4.000000      -4.000000      -4.000000           0.000000  \n",
       "25%         4.000000       2.000000      -4.000000           0.170000  \n",
       "50%         8.000000       4.000000      -4.000000           0.250000  \n",
       "75%        16.000000       7.000000      -4.000000           0.330000  \n",
       "max      9999.000000      85.000000     999.000000           0.860000  \n",
       "\n",
       "[8 rows x 59 columns]"
      ]
     },
     "execution_count": 5,
     "metadata": {},
     "output_type": "execute_result"
    }
   ],
   "source": [
    "df_clean.describe()"
   ]
  },
  {
   "cell_type": "code",
   "execution_count": 6,
   "id": "religious-nevada",
   "metadata": {},
   "outputs": [
    {
     "data": {
      "text/html": [
       "<div>\n",
       "<style scoped>\n",
       "    .dataframe tbody tr th:only-of-type {\n",
       "        vertical-align: middle;\n",
       "    }\n",
       "\n",
       "    .dataframe tbody tr th {\n",
       "        vertical-align: top;\n",
       "    }\n",
       "\n",
       "    .dataframe thead th {\n",
       "        text-align: right;\n",
       "    }\n",
       "</style>\n",
       "<table border=\"1\" class=\"dataframe\">\n",
       "  <thead>\n",
       "    <tr style=\"text-align: right;\">\n",
       "      <th></th>\n",
       "      <th>listing_number</th>\n",
       "      <th>chargeoff_amount</th>\n",
       "      <th>chargeoff</th>\n",
       "      <th>closed_month</th>\n",
       "      <th>listing_status</th>\n",
       "      <th>listing_amount</th>\n",
       "      <th>lender_yield</th>\n",
       "      <th>borrower_rate</th>\n",
       "      <th>borrower_apr</th>\n",
       "      <th>listing_term</th>\n",
       "      <th>...</th>\n",
       "      <th>IN01S</th>\n",
       "      <th>IN09S</th>\n",
       "      <th>IN21S</th>\n",
       "      <th>MT01S</th>\n",
       "      <th>OF01S</th>\n",
       "      <th>RE01S</th>\n",
       "      <th>RE21S</th>\n",
       "      <th>RT01S</th>\n",
       "      <th>S207S</th>\n",
       "      <th>dti_wprosper_loan</th>\n",
       "    </tr>\n",
       "  </thead>\n",
       "  <tbody>\n",
       "    <tr>\n",
       "      <th>count</th>\n",
       "      <td>4.325510e+05</td>\n",
       "      <td>432551.000000</td>\n",
       "      <td>432551.000000</td>\n",
       "      <td>432551.000000</td>\n",
       "      <td>432551.0</td>\n",
       "      <td>432551.000000</td>\n",
       "      <td>432551.000000</td>\n",
       "      <td>432551.000000</td>\n",
       "      <td>432551.000000</td>\n",
       "      <td>432551.000000</td>\n",
       "      <td>...</td>\n",
       "      <td>432551.000000</td>\n",
       "      <td>432551.000000</td>\n",
       "      <td>432551.000000</td>\n",
       "      <td>432551.000000</td>\n",
       "      <td>432551.000000</td>\n",
       "      <td>432551.000000</td>\n",
       "      <td>432551.000000</td>\n",
       "      <td>432551.000000</td>\n",
       "      <td>432551.000000</td>\n",
       "      <td>432551.000000</td>\n",
       "    </tr>\n",
       "    <tr>\n",
       "      <th>mean</th>\n",
       "      <td>5.760034e+06</td>\n",
       "      <td>1854.869873</td>\n",
       "      <td>0.201856</td>\n",
       "      <td>201864.031250</td>\n",
       "      <td>6.0</td>\n",
       "      <td>13366.694336</td>\n",
       "      <td>0.143864</td>\n",
       "      <td>0.153864</td>\n",
       "      <td>0.184801</td>\n",
       "      <td>42.289977</td>\n",
       "      <td>...</td>\n",
       "      <td>7.113645</td>\n",
       "      <td>1.505249</td>\n",
       "      <td>21.232773</td>\n",
       "      <td>1.400318</td>\n",
       "      <td>1.496325</td>\n",
       "      <td>13.845487</td>\n",
       "      <td>13.016334</td>\n",
       "      <td>5.159584</td>\n",
       "      <td>3.164811</td>\n",
       "      <td>0.263984</td>\n",
       "    </tr>\n",
       "    <tr>\n",
       "      <th>std</th>\n",
       "      <td>2.135328e+06</td>\n",
       "      <td>4739.128418</td>\n",
       "      <td>0.401386</td>\n",
       "      <td>61.580696</td>\n",
       "      <td>0.0</td>\n",
       "      <td>8041.244629</td>\n",
       "      <td>0.069078</td>\n",
       "      <td>0.069078</td>\n",
       "      <td>0.073223</td>\n",
       "      <td>10.554426</td>\n",
       "      <td>...</td>\n",
       "      <td>6.556548</td>\n",
       "      <td>1.645911</td>\n",
       "      <td>28.675198</td>\n",
       "      <td>1.664719</td>\n",
       "      <td>2.741379</td>\n",
       "      <td>8.177282</td>\n",
       "      <td>34.246483</td>\n",
       "      <td>4.468955</td>\n",
       "      <td>24.666348</td>\n",
       "      <td>0.118422</td>\n",
       "    </tr>\n",
       "    <tr>\n",
       "      <th>min</th>\n",
       "      <td>6.935680e+05</td>\n",
       "      <td>0.000000</td>\n",
       "      <td>0.000000</td>\n",
       "      <td>201801.000000</td>\n",
       "      <td>6.0</td>\n",
       "      <td>2000.000000</td>\n",
       "      <td>0.043100</td>\n",
       "      <td>0.053100</td>\n",
       "      <td>0.056500</td>\n",
       "      <td>36.000000</td>\n",
       "      <td>...</td>\n",
       "      <td>-4.000000</td>\n",
       "      <td>-5.000000</td>\n",
       "      <td>-5.000000</td>\n",
       "      <td>-4.000000</td>\n",
       "      <td>-4.000000</td>\n",
       "      <td>-4.000000</td>\n",
       "      <td>-4.000000</td>\n",
       "      <td>-4.000000</td>\n",
       "      <td>-4.000000</td>\n",
       "      <td>0.000000</td>\n",
       "    </tr>\n",
       "    <tr>\n",
       "      <th>25%</th>\n",
       "      <td>4.115003e+06</td>\n",
       "      <td>0.000000</td>\n",
       "      <td>0.000000</td>\n",
       "      <td>201807.000000</td>\n",
       "      <td>6.0</td>\n",
       "      <td>7500.000000</td>\n",
       "      <td>0.090500</td>\n",
       "      <td>0.100500</td>\n",
       "      <td>0.132000</td>\n",
       "      <td>36.000000</td>\n",
       "      <td>...</td>\n",
       "      <td>3.000000</td>\n",
       "      <td>0.000000</td>\n",
       "      <td>6.000000</td>\n",
       "      <td>0.000000</td>\n",
       "      <td>0.000000</td>\n",
       "      <td>8.000000</td>\n",
       "      <td>4.000000</td>\n",
       "      <td>2.000000</td>\n",
       "      <td>-4.000000</td>\n",
       "      <td>0.170000</td>\n",
       "    </tr>\n",
       "    <tr>\n",
       "      <th>50%</th>\n",
       "      <td>5.801216e+06</td>\n",
       "      <td>0.000000</td>\n",
       "      <td>0.000000</td>\n",
       "      <td>201901.000000</td>\n",
       "      <td>6.0</td>\n",
       "      <td>12000.000000</td>\n",
       "      <td>0.125900</td>\n",
       "      <td>0.135900</td>\n",
       "      <td>0.168400</td>\n",
       "      <td>36.000000</td>\n",
       "      <td>...</td>\n",
       "      <td>5.000000</td>\n",
       "      <td>1.000000</td>\n",
       "      <td>12.000000</td>\n",
       "      <td>1.000000</td>\n",
       "      <td>0.000000</td>\n",
       "      <td>12.000000</td>\n",
       "      <td>8.000000</td>\n",
       "      <td>4.000000</td>\n",
       "      <td>-4.000000</td>\n",
       "      <td>0.250000</td>\n",
       "    </tr>\n",
       "    <tr>\n",
       "      <th>75%</th>\n",
       "      <td>7.356352e+06</td>\n",
       "      <td>0.000000</td>\n",
       "      <td>0.000000</td>\n",
       "      <td>201907.000000</td>\n",
       "      <td>6.0</td>\n",
       "      <td>18000.000000</td>\n",
       "      <td>0.184700</td>\n",
       "      <td>0.194700</td>\n",
       "      <td>0.226800</td>\n",
       "      <td>60.000000</td>\n",
       "      <td>...</td>\n",
       "      <td>9.000000</td>\n",
       "      <td>2.000000</td>\n",
       "      <td>24.000000</td>\n",
       "      <td>2.000000</td>\n",
       "      <td>2.000000</td>\n",
       "      <td>18.000000</td>\n",
       "      <td>16.000000</td>\n",
       "      <td>7.000000</td>\n",
       "      <td>-4.000000</td>\n",
       "      <td>0.340000</td>\n",
       "    </tr>\n",
       "    <tr>\n",
       "      <th>max</th>\n",
       "      <td>1.113610e+07</td>\n",
       "      <td>40000.000000</td>\n",
       "      <td>1.000000</td>\n",
       "      <td>202002.000000</td>\n",
       "      <td>6.0</td>\n",
       "      <td>40000.000000</td>\n",
       "      <td>0.309200</td>\n",
       "      <td>0.319200</td>\n",
       "      <td>0.360000</td>\n",
       "      <td>60.000000</td>\n",
       "      <td>...</td>\n",
       "      <td>138.000000</td>\n",
       "      <td>50.000000</td>\n",
       "      <td>528.000000</td>\n",
       "      <td>49.000000</td>\n",
       "      <td>118.000000</td>\n",
       "      <td>128.000000</td>\n",
       "      <td>9999.000000</td>\n",
       "      <td>85.000000</td>\n",
       "      <td>124.000000</td>\n",
       "      <td>0.860000</td>\n",
       "    </tr>\n",
       "  </tbody>\n",
       "</table>\n",
       "<p>8 rows × 59 columns</p>\n",
       "</div>"
      ],
      "text/plain": [
       "       listing_number  chargeoff_amount      chargeoff   closed_month  \\\n",
       "count    4.325510e+05     432551.000000  432551.000000  432551.000000   \n",
       "mean     5.760034e+06       1854.869873       0.201856  201864.031250   \n",
       "std      2.135328e+06       4739.128418       0.401386      61.580696   \n",
       "min      6.935680e+05          0.000000       0.000000  201801.000000   \n",
       "25%      4.115003e+06          0.000000       0.000000  201807.000000   \n",
       "50%      5.801216e+06          0.000000       0.000000  201901.000000   \n",
       "75%      7.356352e+06          0.000000       0.000000  201907.000000   \n",
       "max      1.113610e+07      40000.000000       1.000000  202002.000000   \n",
       "\n",
       "       listing_status  listing_amount   lender_yield  borrower_rate  \\\n",
       "count        432551.0   432551.000000  432551.000000  432551.000000   \n",
       "mean              6.0    13366.694336       0.143864       0.153864   \n",
       "std               0.0     8041.244629       0.069078       0.069078   \n",
       "min               6.0     2000.000000       0.043100       0.053100   \n",
       "25%               6.0     7500.000000       0.090500       0.100500   \n",
       "50%               6.0    12000.000000       0.125900       0.135900   \n",
       "75%               6.0    18000.000000       0.184700       0.194700   \n",
       "max               6.0    40000.000000       0.309200       0.319200   \n",
       "\n",
       "        borrower_apr   listing_term  ...          IN01S          IN09S  \\\n",
       "count  432551.000000  432551.000000  ...  432551.000000  432551.000000   \n",
       "mean        0.184801      42.289977  ...       7.113645       1.505249   \n",
       "std         0.073223      10.554426  ...       6.556548       1.645911   \n",
       "min         0.056500      36.000000  ...      -4.000000      -5.000000   \n",
       "25%         0.132000      36.000000  ...       3.000000       0.000000   \n",
       "50%         0.168400      36.000000  ...       5.000000       1.000000   \n",
       "75%         0.226800      60.000000  ...       9.000000       2.000000   \n",
       "max         0.360000      60.000000  ...     138.000000      50.000000   \n",
       "\n",
       "               IN21S          MT01S          OF01S          RE01S  \\\n",
       "count  432551.000000  432551.000000  432551.000000  432551.000000   \n",
       "mean       21.232773       1.400318       1.496325      13.845487   \n",
       "std        28.675198       1.664719       2.741379       8.177282   \n",
       "min        -5.000000      -4.000000      -4.000000      -4.000000   \n",
       "25%         6.000000       0.000000       0.000000       8.000000   \n",
       "50%        12.000000       1.000000       0.000000      12.000000   \n",
       "75%        24.000000       2.000000       2.000000      18.000000   \n",
       "max       528.000000      49.000000     118.000000     128.000000   \n",
       "\n",
       "               RE21S          RT01S          S207S  dti_wprosper_loan  \n",
       "count  432551.000000  432551.000000  432551.000000      432551.000000  \n",
       "mean       13.016334       5.159584       3.164811           0.263984  \n",
       "std        34.246483       4.468955      24.666348           0.118422  \n",
       "min        -4.000000      -4.000000      -4.000000           0.000000  \n",
       "25%         4.000000       2.000000      -4.000000           0.170000  \n",
       "50%         8.000000       4.000000      -4.000000           0.250000  \n",
       "75%        16.000000       7.000000      -4.000000           0.340000  \n",
       "max      9999.000000      85.000000     124.000000           0.860000  \n",
       "\n",
       "[8 rows x 59 columns]"
      ]
     },
     "execution_count": 6,
     "metadata": {},
     "output_type": "execute_result"
    }
   ],
   "source": [
    "# Remove all loans closed prior to March 2020 as identified in EDA\n",
    "df_clean = df_clean[df_clean['closed_month'] < 202003]\n",
    "df_clean.describe()"
   ]
  },
  {
   "cell_type": "code",
   "execution_count": 7,
   "id": "metric-steam",
   "metadata": {},
   "outputs": [
    {
     "data": {
      "text/html": [
       "<div>\n",
       "<style scoped>\n",
       "    .dataframe tbody tr th:only-of-type {\n",
       "        vertical-align: middle;\n",
       "    }\n",
       "\n",
       "    .dataframe tbody tr th {\n",
       "        vertical-align: top;\n",
       "    }\n",
       "\n",
       "    .dataframe thead th {\n",
       "        text-align: right;\n",
       "    }\n",
       "</style>\n",
       "<table border=\"1\" class=\"dataframe\">\n",
       "  <thead>\n",
       "    <tr style=\"text-align: right;\">\n",
       "      <th></th>\n",
       "      <th>chargeoff</th>\n",
       "      <th>listing_amount</th>\n",
       "      <th>prosper_rating</th>\n",
       "      <th>borrower_rate</th>\n",
       "      <th>listing_term</th>\n",
       "      <th>prosper_score</th>\n",
       "      <th>income_range</th>\n",
       "      <th>employment_status_description</th>\n",
       "      <th>occupation</th>\n",
       "      <th>borrower_state</th>\n",
       "      <th>...</th>\n",
       "      <th>G093S</th>\n",
       "      <th>G103S</th>\n",
       "      <th>HI01S</th>\n",
       "      <th>IN09S</th>\n",
       "      <th>IN21S</th>\n",
       "      <th>OF01S</th>\n",
       "      <th>RE21S</th>\n",
       "      <th>RT01S</th>\n",
       "      <th>S207S</th>\n",
       "      <th>dti_wprosper_loan</th>\n",
       "    </tr>\n",
       "  </thead>\n",
       "  <tbody>\n",
       "    <tr>\n",
       "      <th>0</th>\n",
       "      <td>0</td>\n",
       "      <td>10000.0</td>\n",
       "      <td>AA</td>\n",
       "      <td>0.0869</td>\n",
       "      <td>60</td>\n",
       "      <td>10</td>\n",
       "      <td>3</td>\n",
       "      <td>Employed</td>\n",
       "      <td>Food Service Management</td>\n",
       "      <td>IN</td>\n",
       "      <td>...</td>\n",
       "      <td>0.0</td>\n",
       "      <td>19.0</td>\n",
       "      <td>0.0</td>\n",
       "      <td>0.0</td>\n",
       "      <td>25.0</td>\n",
       "      <td>1.0</td>\n",
       "      <td>6.0</td>\n",
       "      <td>7.0</td>\n",
       "      <td>-4.0</td>\n",
       "      <td>0.47</td>\n",
       "    </tr>\n",
       "    <tr>\n",
       "      <th>1</th>\n",
       "      <td>0</td>\n",
       "      <td>3500.0</td>\n",
       "      <td>AA</td>\n",
       "      <td>0.0869</td>\n",
       "      <td>60</td>\n",
       "      <td>10</td>\n",
       "      <td>5</td>\n",
       "      <td>Employed</td>\n",
       "      <td>Tradesman - Mechanic</td>\n",
       "      <td>CA</td>\n",
       "      <td>...</td>\n",
       "      <td>0.0</td>\n",
       "      <td>7.0</td>\n",
       "      <td>0.0</td>\n",
       "      <td>1.0</td>\n",
       "      <td>11.0</td>\n",
       "      <td>4.0</td>\n",
       "      <td>7.0</td>\n",
       "      <td>2.0</td>\n",
       "      <td>-4.0</td>\n",
       "      <td>0.10</td>\n",
       "    </tr>\n",
       "    <tr>\n",
       "      <th>2</th>\n",
       "      <td>0</td>\n",
       "      <td>3500.0</td>\n",
       "      <td>AA</td>\n",
       "      <td>0.0869</td>\n",
       "      <td>60</td>\n",
       "      <td>10</td>\n",
       "      <td>6</td>\n",
       "      <td>Employed</td>\n",
       "      <td>Civil Service</td>\n",
       "      <td>MD</td>\n",
       "      <td>...</td>\n",
       "      <td>0.0</td>\n",
       "      <td>3.0</td>\n",
       "      <td>1.0</td>\n",
       "      <td>3.0</td>\n",
       "      <td>14.0</td>\n",
       "      <td>3.0</td>\n",
       "      <td>13.0</td>\n",
       "      <td>7.0</td>\n",
       "      <td>-4.0</td>\n",
       "      <td>0.12</td>\n",
       "    </tr>\n",
       "    <tr>\n",
       "      <th>3</th>\n",
       "      <td>0</td>\n",
       "      <td>10000.0</td>\n",
       "      <td>AA</td>\n",
       "      <td>0.0869</td>\n",
       "      <td>60</td>\n",
       "      <td>10</td>\n",
       "      <td>3</td>\n",
       "      <td>Other</td>\n",
       "      <td>Other</td>\n",
       "      <td>MO</td>\n",
       "      <td>...</td>\n",
       "      <td>0.0</td>\n",
       "      <td>15.0</td>\n",
       "      <td>0.0</td>\n",
       "      <td>1.0</td>\n",
       "      <td>15.0</td>\n",
       "      <td>1.0</td>\n",
       "      <td>104.0</td>\n",
       "      <td>4.0</td>\n",
       "      <td>-4.0</td>\n",
       "      <td>0.22</td>\n",
       "    </tr>\n",
       "    <tr>\n",
       "      <th>4</th>\n",
       "      <td>1</td>\n",
       "      <td>15000.0</td>\n",
       "      <td>AA</td>\n",
       "      <td>0.0869</td>\n",
       "      <td>60</td>\n",
       "      <td>7</td>\n",
       "      <td>5</td>\n",
       "      <td>Employed</td>\n",
       "      <td>Other</td>\n",
       "      <td>OH</td>\n",
       "      <td>...</td>\n",
       "      <td>0.0</td>\n",
       "      <td>-4.0</td>\n",
       "      <td>1.0</td>\n",
       "      <td>2.0</td>\n",
       "      <td>13.0</td>\n",
       "      <td>0.0</td>\n",
       "      <td>21.0</td>\n",
       "      <td>4.0</td>\n",
       "      <td>-4.0</td>\n",
       "      <td>0.28</td>\n",
       "    </tr>\n",
       "  </tbody>\n",
       "</table>\n",
       "<p>5 rows × 23 columns</p>\n",
       "</div>"
      ],
      "text/plain": [
       "   chargeoff  listing_amount prosper_rating  borrower_rate  listing_term  \\\n",
       "0          0         10000.0             AA         0.0869            60   \n",
       "1          0          3500.0             AA         0.0869            60   \n",
       "2          0          3500.0             AA         0.0869            60   \n",
       "3          0         10000.0             AA         0.0869            60   \n",
       "4          1         15000.0             AA         0.0869            60   \n",
       "\n",
       "   prosper_score  income_range employment_status_description  \\\n",
       "0             10             3                      Employed   \n",
       "1             10             5                      Employed   \n",
       "2             10             6                      Employed   \n",
       "3             10             3                         Other   \n",
       "4              7             5                      Employed   \n",
       "\n",
       "                occupation borrower_state  ...  G093S  G103S  HI01S  IN09S  \\\n",
       "0  Food Service Management             IN  ...    0.0   19.0    0.0    0.0   \n",
       "1     Tradesman - Mechanic             CA  ...    0.0    7.0    0.0    1.0   \n",
       "2            Civil Service             MD  ...    0.0    3.0    1.0    3.0   \n",
       "3                    Other             MO  ...    0.0   15.0    0.0    1.0   \n",
       "4                    Other             OH  ...    0.0   -4.0    1.0    2.0   \n",
       "\n",
       "   IN21S  OF01S  RE21S  RT01S  S207S  dti_wprosper_loan  \n",
       "0   25.0    1.0    6.0    7.0   -4.0               0.47  \n",
       "1   11.0    4.0    7.0    2.0   -4.0               0.10  \n",
       "2   14.0    3.0   13.0    7.0   -4.0               0.12  \n",
       "3   15.0    1.0  104.0    4.0   -4.0               0.22  \n",
       "4   13.0    0.0   21.0    4.0   -4.0               0.28  \n",
       "\n",
       "[5 rows x 23 columns]"
      ]
     },
     "execution_count": 7,
     "metadata": {},
     "output_type": "execute_result"
    }
   ],
   "source": [
    "# Drop columns identified in EDA stage\n",
    "df = df_clean.drop(['listing_number', 'chargeoff_amount', 'closed_month', 'listing_creation_date', 'loan_origination_date', \n",
    "                    'listing_status', 'lender_yield', 'borrower_apr', 'listing_monthly_payment', 'stated_monthly_income',\n",
    "                    'income_verifiable', 'months_employed',\n",
    "                    'prior_prosper_loans_active', 'prior_prosper_loans', 'prior_prosper_loans_principal_borrowed',\n",
    "                    'prior_prosper_loans_principal_outstanding', 'prior_prosper_loans_balance_outstanding',\n",
    "                    'prior_prosper_loans_cycles_billed', 'prior_prosper_loans_ontime_payments',\n",
    "                    'prior_prosper_loans_late_cycles', 'prior_prosper_loans_late_payments_one_month_plus',\n",
    "                    'max_prior_prosper_loan', 'min_prior_prosper_loan', 'prior_prosper_loan_earliest_pay_off', \n",
    "                    'prior_prosper_loans31dpd', 'prior_prosper_loans61dpd', \n",
    "                    'AT01S', 'G041S', 'G042S', 'G043S', 'G058S','G059S','G061S', 'G063S', 'G064S', 'G066S', 'G068S', \n",
    "                    'G069S','G071S', 'IN01S', 'MT01S', 'RE01S',\n",
    "                    'lender_indicator', 'co_borrower_application'\n",
    "                   ], errors='ignore', axis=1)\n",
    "\n",
    "\n",
    "df.head()"
   ]
  },
  {
   "cell_type": "markdown",
   "id": "physical-basketball",
   "metadata": {},
   "source": [
    "## 3.2 Transform Data"
   ]
  },
  {
   "cell_type": "markdown",
   "id": "sixth-brother",
   "metadata": {},
   "source": [
    "### 3.2.1 Clean Columns"
   ]
  },
  {
   "cell_type": "code",
   "execution_count": 8,
   "id": "stuck-default",
   "metadata": {},
   "outputs": [
    {
     "data": {
      "text/plain": [
       "Employed         370056\n",
       "Self-employed     31217\n",
       "Other             30674\n",
       "Full-time           574\n",
       "Retired              13\n",
       "Part-time            11\n",
       "Not employed          6\n",
       "Name: employment_status_description, dtype: int64"
      ]
     },
     "execution_count": 8,
     "metadata": {},
     "output_type": "execute_result"
    }
   ],
   "source": [
    "# Review counts of employment_status_description before\n",
    "df['employment_status_description'].value_counts()"
   ]
  },
  {
   "cell_type": "code",
   "execution_count": 9,
   "id": "outside-wednesday",
   "metadata": {},
   "outputs": [
    {
     "data": {
      "text/plain": [
       "Employed         370630\n",
       "Self-employed     31217\n",
       "Other             30704\n",
       "Name: employment_type, dtype: int64"
      ]
     },
     "execution_count": 9,
     "metadata": {},
     "output_type": "execute_result"
    }
   ],
   "source": [
    "# Clean employment_status_description field\n",
    "emp_dict = {'Full-time': 'Employed', 'Retired': 'Other', 'Not employed': 'Other', 'Part-time': 'Other'}\n",
    "df['employment_type'] = df['employment_status_description'].map(emp_dict).fillna(df['employment_status_description'])\n",
    "df['employment_type'].value_counts()"
   ]
  },
  {
   "cell_type": "markdown",
   "id": "opposed-algorithm",
   "metadata": {},
   "source": [
    "### 3.2.2 One-Hot Encoding"
   ]
  },
  {
   "cell_type": "code",
   "execution_count": 10,
   "id": "promising-committee",
   "metadata": {},
   "outputs": [
    {
     "name": "stdout",
     "output_type": "stream",
     "text": [
      "<class 'pandas.core.frame.DataFrame'>\n",
      "Int64Index: 432551 entries, 0 to 575938\n",
      "Data columns (total 41 columns):\n",
      " #   Column                         Non-Null Count   Dtype  \n",
      "---  ------                         --------------   -----  \n",
      " 0   chargeoff                      432551 non-null  int8   \n",
      " 1   listing_amount                 432551 non-null  float32\n",
      " 2   borrower_rate                  432551 non-null  float32\n",
      " 3   occupation                     432551 non-null  object \n",
      " 4   borrower_state                 432551 non-null  object \n",
      " 5   AT02S                          432551 non-null  float32\n",
      " 6   AU01S                          432551 non-null  float32\n",
      " 7   G020S                          432551 non-null  float32\n",
      " 8   G093S                          432551 non-null  float32\n",
      " 9   G103S                          432551 non-null  float32\n",
      " 10  HI01S                          432551 non-null  float32\n",
      " 11  IN09S                          432551 non-null  float32\n",
      " 12  IN21S                          432551 non-null  float32\n",
      " 13  OF01S                          432551 non-null  float32\n",
      " 14  RE21S                          432551 non-null  float32\n",
      " 15  RT01S                          432551 non-null  float32\n",
      " 16  S207S                          432551 non-null  float32\n",
      " 17  dti_wprosper_loan              432551 non-null  float32\n",
      " 18  prosper_score_2                432551 non-null  uint8  \n",
      " 19  prosper_score_3                432551 non-null  uint8  \n",
      " 20  prosper_score_4                432551 non-null  uint8  \n",
      " 21  prosper_score_5                432551 non-null  uint8  \n",
      " 22  prosper_score_6                432551 non-null  uint8  \n",
      " 23  prosper_score_7                432551 non-null  uint8  \n",
      " 24  prosper_score_8                432551 non-null  uint8  \n",
      " 25  prosper_score_9                432551 non-null  uint8  \n",
      " 26  prosper_score_10               432551 non-null  uint8  \n",
      " 27  prosper_score_11               432551 non-null  uint8  \n",
      " 28  income_range_3                 432551 non-null  uint8  \n",
      " 29  income_range_4                 432551 non-null  uint8  \n",
      " 30  income_range_5                 432551 non-null  uint8  \n",
      " 31  income_range_6                 432551 non-null  uint8  \n",
      " 32  prosper_rating_AA              432551 non-null  uint8  \n",
      " 33  prosper_rating_B               432551 non-null  uint8  \n",
      " 34  prosper_rating_C               432551 non-null  uint8  \n",
      " 35  prosper_rating_D               432551 non-null  uint8  \n",
      " 36  prosper_rating_E               432551 non-null  uint8  \n",
      " 37  prosper_rating_HR              432551 non-null  uint8  \n",
      " 38  listing_term_60                432551 non-null  uint8  \n",
      " 39  employment_type_Other          432551 non-null  uint8  \n",
      " 40  employment_type_Self-employed  432551 non-null  uint8  \n",
      "dtypes: float32(15), int8(1), object(2), uint8(23)\n",
      "memory usage: 44.6+ MB\n"
     ]
    }
   ],
   "source": [
    "# Categorical columns that will utilize unsupervised one-hot encoding\n",
    "dummy_cols = ['prosper_score', 'income_range', 'prosper_rating', 'listing_term', 'employment_type']\n",
    "\n",
    "df_transformed = pd.get_dummies(data=df, columns=dummy_cols, drop_first=True)\n",
    "\n",
    "# Drop employment_status_description columns\n",
    "df_transformed = df_transformed.drop(['employment_status_description'], axis=1, errors='ignore')\n",
    "\n",
    "df_transformed.info()"
   ]
  },
  {
   "cell_type": "markdown",
   "id": "above-problem",
   "metadata": {},
   "source": [
    "### 3.2.3 Supervised Categorical Encoding"
   ]
  },
  {
   "cell_type": "code",
   "execution_count": 11,
   "id": "empty-sixth",
   "metadata": {},
   "outputs": [
    {
     "data": {
      "text/html": [
       "<div>\n",
       "<style scoped>\n",
       "    .dataframe tbody tr th:only-of-type {\n",
       "        vertical-align: middle;\n",
       "    }\n",
       "\n",
       "    .dataframe tbody tr th {\n",
       "        vertical-align: top;\n",
       "    }\n",
       "\n",
       "    .dataframe thead th {\n",
       "        text-align: right;\n",
       "    }\n",
       "</style>\n",
       "<table border=\"1\" class=\"dataframe\">\n",
       "  <thead>\n",
       "    <tr style=\"text-align: right;\">\n",
       "      <th></th>\n",
       "      <th>listing_amount</th>\n",
       "      <th>borrower_rate</th>\n",
       "      <th>occupation</th>\n",
       "      <th>borrower_state</th>\n",
       "      <th>AT02S</th>\n",
       "      <th>AU01S</th>\n",
       "      <th>G020S</th>\n",
       "      <th>G093S</th>\n",
       "      <th>G103S</th>\n",
       "      <th>HI01S</th>\n",
       "      <th>...</th>\n",
       "      <th>income_range_6</th>\n",
       "      <th>prosper_rating_AA</th>\n",
       "      <th>prosper_rating_B</th>\n",
       "      <th>prosper_rating_C</th>\n",
       "      <th>prosper_rating_D</th>\n",
       "      <th>prosper_rating_E</th>\n",
       "      <th>prosper_rating_HR</th>\n",
       "      <th>listing_term_60</th>\n",
       "      <th>employment_type_Other</th>\n",
       "      <th>employment_type_Self-employed</th>\n",
       "    </tr>\n",
       "  </thead>\n",
       "  <tbody>\n",
       "    <tr>\n",
       "      <th>313456</th>\n",
       "      <td>20000.0</td>\n",
       "      <td>0.1479</td>\n",
       "      <td>Other</td>\n",
       "      <td>TX</td>\n",
       "      <td>14.0</td>\n",
       "      <td>4.0</td>\n",
       "      <td>16.0</td>\n",
       "      <td>0.0</td>\n",
       "      <td>0.0</td>\n",
       "      <td>0.0</td>\n",
       "      <td>...</td>\n",
       "      <td>0</td>\n",
       "      <td>0</td>\n",
       "      <td>0</td>\n",
       "      <td>1</td>\n",
       "      <td>0</td>\n",
       "      <td>0</td>\n",
       "      <td>0</td>\n",
       "      <td>1</td>\n",
       "      <td>1</td>\n",
       "      <td>0</td>\n",
       "    </tr>\n",
       "    <tr>\n",
       "      <th>218861</th>\n",
       "      <td>7500.0</td>\n",
       "      <td>0.0600</td>\n",
       "      <td>Other</td>\n",
       "      <td>CA</td>\n",
       "      <td>14.0</td>\n",
       "      <td>3.0</td>\n",
       "      <td>0.0</td>\n",
       "      <td>0.0</td>\n",
       "      <td>13.0</td>\n",
       "      <td>0.0</td>\n",
       "      <td>...</td>\n",
       "      <td>0</td>\n",
       "      <td>1</td>\n",
       "      <td>0</td>\n",
       "      <td>0</td>\n",
       "      <td>0</td>\n",
       "      <td>0</td>\n",
       "      <td>0</td>\n",
       "      <td>0</td>\n",
       "      <td>0</td>\n",
       "      <td>0</td>\n",
       "    </tr>\n",
       "    <tr>\n",
       "      <th>285445</th>\n",
       "      <td>10000.0</td>\n",
       "      <td>0.0870</td>\n",
       "      <td>Unknown</td>\n",
       "      <td>TX</td>\n",
       "      <td>16.0</td>\n",
       "      <td>2.0</td>\n",
       "      <td>25.0</td>\n",
       "      <td>0.0</td>\n",
       "      <td>5.0</td>\n",
       "      <td>1.0</td>\n",
       "      <td>...</td>\n",
       "      <td>0</td>\n",
       "      <td>0</td>\n",
       "      <td>0</td>\n",
       "      <td>0</td>\n",
       "      <td>0</td>\n",
       "      <td>0</td>\n",
       "      <td>0</td>\n",
       "      <td>0</td>\n",
       "      <td>1</td>\n",
       "      <td>0</td>\n",
       "    </tr>\n",
       "    <tr>\n",
       "      <th>113452</th>\n",
       "      <td>12000.0</td>\n",
       "      <td>0.1601</td>\n",
       "      <td>Other</td>\n",
       "      <td>WA</td>\n",
       "      <td>11.0</td>\n",
       "      <td>0.0</td>\n",
       "      <td>0.0</td>\n",
       "      <td>0.0</td>\n",
       "      <td>3.0</td>\n",
       "      <td>0.0</td>\n",
       "      <td>...</td>\n",
       "      <td>0</td>\n",
       "      <td>0</td>\n",
       "      <td>0</td>\n",
       "      <td>1</td>\n",
       "      <td>0</td>\n",
       "      <td>0</td>\n",
       "      <td>0</td>\n",
       "      <td>0</td>\n",
       "      <td>0</td>\n",
       "      <td>0</td>\n",
       "    </tr>\n",
       "    <tr>\n",
       "      <th>233219</th>\n",
       "      <td>18000.0</td>\n",
       "      <td>0.1030</td>\n",
       "      <td>Clerical</td>\n",
       "      <td>AZ</td>\n",
       "      <td>14.0</td>\n",
       "      <td>2.0</td>\n",
       "      <td>14.0</td>\n",
       "      <td>0.0</td>\n",
       "      <td>1.0</td>\n",
       "      <td>0.0</td>\n",
       "      <td>...</td>\n",
       "      <td>0</td>\n",
       "      <td>0</td>\n",
       "      <td>1</td>\n",
       "      <td>0</td>\n",
       "      <td>0</td>\n",
       "      <td>0</td>\n",
       "      <td>0</td>\n",
       "      <td>1</td>\n",
       "      <td>0</td>\n",
       "      <td>0</td>\n",
       "    </tr>\n",
       "  </tbody>\n",
       "</table>\n",
       "<p>5 rows × 40 columns</p>\n",
       "</div>"
      ],
      "text/plain": [
       "        listing_amount  borrower_rate occupation borrower_state  AT02S  AU01S  \\\n",
       "313456         20000.0         0.1479      Other             TX   14.0    4.0   \n",
       "218861          7500.0         0.0600      Other             CA   14.0    3.0   \n",
       "285445         10000.0         0.0870    Unknown             TX   16.0    2.0   \n",
       "113452         12000.0         0.1601      Other             WA   11.0    0.0   \n",
       "233219         18000.0         0.1030   Clerical             AZ   14.0    2.0   \n",
       "\n",
       "        G020S  G093S  G103S  HI01S  ...  income_range_6  prosper_rating_AA  \\\n",
       "313456   16.0    0.0    0.0    0.0  ...               0                  0   \n",
       "218861    0.0    0.0   13.0    0.0  ...               0                  1   \n",
       "285445   25.0    0.0    5.0    1.0  ...               0                  0   \n",
       "113452    0.0    0.0    3.0    0.0  ...               0                  0   \n",
       "233219   14.0    0.0    1.0    0.0  ...               0                  0   \n",
       "\n",
       "        prosper_rating_B  prosper_rating_C  prosper_rating_D  \\\n",
       "313456                 0                 1                 0   \n",
       "218861                 0                 0                 0   \n",
       "285445                 0                 0                 0   \n",
       "113452                 0                 1                 0   \n",
       "233219                 1                 0                 0   \n",
       "\n",
       "        prosper_rating_E  prosper_rating_HR  listing_term_60  \\\n",
       "313456                 0                  0                1   \n",
       "218861                 0                  0                0   \n",
       "285445                 0                  0                0   \n",
       "113452                 0                  0                0   \n",
       "233219                 0                  0                1   \n",
       "\n",
       "        employment_type_Other  employment_type_Self-employed  \n",
       "313456                      1                              0  \n",
       "218861                      0                              0  \n",
       "285445                      1                              0  \n",
       "113452                      0                              0  \n",
       "233219                      0                              0  \n",
       "\n",
       "[5 rows x 40 columns]"
      ]
     },
     "execution_count": 11,
     "metadata": {},
     "output_type": "execute_result"
    }
   ],
   "source": [
    "# Split data for train and test sets\n",
    "SEED = 42\n",
    "from sklearn.model_selection import train_test_split\n",
    "X = df_transformed.drop(['chargeoff'], axis=1)\n",
    "y = df_transformed['chargeoff']\n",
    "X_train, X_test, y_train, y_test = train_test_split(X, y, test_size=0.30, random_state=SEED)\n",
    "\n",
    "X_train.head()"
   ]
  },
  {
   "cell_type": "code",
   "execution_count": 12,
   "id": "dense-vanilla",
   "metadata": {},
   "outputs": [
    {
     "data": {
      "text/html": [
       "<div>\n",
       "<style scoped>\n",
       "    .dataframe tbody tr th:only-of-type {\n",
       "        vertical-align: middle;\n",
       "    }\n",
       "\n",
       "    .dataframe tbody tr th {\n",
       "        vertical-align: top;\n",
       "    }\n",
       "\n",
       "    .dataframe thead th {\n",
       "        text-align: right;\n",
       "    }\n",
       "</style>\n",
       "<table border=\"1\" class=\"dataframe\">\n",
       "  <thead>\n",
       "    <tr style=\"text-align: right;\">\n",
       "      <th></th>\n",
       "      <th>listing_amount</th>\n",
       "      <th>borrower_rate</th>\n",
       "      <th>occupation</th>\n",
       "      <th>borrower_state</th>\n",
       "      <th>AT02S</th>\n",
       "      <th>AU01S</th>\n",
       "      <th>G020S</th>\n",
       "      <th>G093S</th>\n",
       "      <th>G103S</th>\n",
       "      <th>HI01S</th>\n",
       "      <th>...</th>\n",
       "      <th>income_range_6</th>\n",
       "      <th>prosper_rating_AA</th>\n",
       "      <th>prosper_rating_B</th>\n",
       "      <th>prosper_rating_C</th>\n",
       "      <th>prosper_rating_D</th>\n",
       "      <th>prosper_rating_E</th>\n",
       "      <th>prosper_rating_HR</th>\n",
       "      <th>listing_term_60</th>\n",
       "      <th>employment_type_Other</th>\n",
       "      <th>employment_type_Self-employed</th>\n",
       "    </tr>\n",
       "  </thead>\n",
       "  <tbody>\n",
       "    <tr>\n",
       "      <th>313456</th>\n",
       "      <td>20000.0</td>\n",
       "      <td>0.1479</td>\n",
       "      <td>-0.001976</td>\n",
       "      <td>0.041690</td>\n",
       "      <td>14.0</td>\n",
       "      <td>4.0</td>\n",
       "      <td>16.0</td>\n",
       "      <td>0.0</td>\n",
       "      <td>0.0</td>\n",
       "      <td>0.0</td>\n",
       "      <td>...</td>\n",
       "      <td>0</td>\n",
       "      <td>0</td>\n",
       "      <td>0</td>\n",
       "      <td>1</td>\n",
       "      <td>0</td>\n",
       "      <td>0</td>\n",
       "      <td>0</td>\n",
       "      <td>1</td>\n",
       "      <td>1</td>\n",
       "      <td>0</td>\n",
       "    </tr>\n",
       "    <tr>\n",
       "      <th>218861</th>\n",
       "      <td>7500.0</td>\n",
       "      <td>0.0600</td>\n",
       "      <td>-0.001976</td>\n",
       "      <td>0.040204</td>\n",
       "      <td>14.0</td>\n",
       "      <td>3.0</td>\n",
       "      <td>0.0</td>\n",
       "      <td>0.0</td>\n",
       "      <td>13.0</td>\n",
       "      <td>0.0</td>\n",
       "      <td>...</td>\n",
       "      <td>0</td>\n",
       "      <td>1</td>\n",
       "      <td>0</td>\n",
       "      <td>0</td>\n",
       "      <td>0</td>\n",
       "      <td>0</td>\n",
       "      <td>0</td>\n",
       "      <td>0</td>\n",
       "      <td>0</td>\n",
       "      <td>0</td>\n",
       "    </tr>\n",
       "    <tr>\n",
       "      <th>285445</th>\n",
       "      <td>10000.0</td>\n",
       "      <td>0.0870</td>\n",
       "      <td>0.275676</td>\n",
       "      <td>0.041690</td>\n",
       "      <td>16.0</td>\n",
       "      <td>2.0</td>\n",
       "      <td>25.0</td>\n",
       "      <td>0.0</td>\n",
       "      <td>5.0</td>\n",
       "      <td>1.0</td>\n",
       "      <td>...</td>\n",
       "      <td>0</td>\n",
       "      <td>0</td>\n",
       "      <td>0</td>\n",
       "      <td>0</td>\n",
       "      <td>0</td>\n",
       "      <td>0</td>\n",
       "      <td>0</td>\n",
       "      <td>0</td>\n",
       "      <td>1</td>\n",
       "      <td>0</td>\n",
       "    </tr>\n",
       "    <tr>\n",
       "      <th>113452</th>\n",
       "      <td>12000.0</td>\n",
       "      <td>0.1601</td>\n",
       "      <td>-0.001976</td>\n",
       "      <td>-0.357708</td>\n",
       "      <td>11.0</td>\n",
       "      <td>0.0</td>\n",
       "      <td>0.0</td>\n",
       "      <td>0.0</td>\n",
       "      <td>3.0</td>\n",
       "      <td>0.0</td>\n",
       "      <td>...</td>\n",
       "      <td>0</td>\n",
       "      <td>0</td>\n",
       "      <td>0</td>\n",
       "      <td>1</td>\n",
       "      <td>0</td>\n",
       "      <td>0</td>\n",
       "      <td>0</td>\n",
       "      <td>0</td>\n",
       "      <td>0</td>\n",
       "      <td>0</td>\n",
       "    </tr>\n",
       "    <tr>\n",
       "      <th>233219</th>\n",
       "      <td>18000.0</td>\n",
       "      <td>0.1030</td>\n",
       "      <td>-0.017027</td>\n",
       "      <td>0.069969</td>\n",
       "      <td>14.0</td>\n",
       "      <td>2.0</td>\n",
       "      <td>14.0</td>\n",
       "      <td>0.0</td>\n",
       "      <td>1.0</td>\n",
       "      <td>0.0</td>\n",
       "      <td>...</td>\n",
       "      <td>0</td>\n",
       "      <td>0</td>\n",
       "      <td>1</td>\n",
       "      <td>0</td>\n",
       "      <td>0</td>\n",
       "      <td>0</td>\n",
       "      <td>0</td>\n",
       "      <td>1</td>\n",
       "      <td>0</td>\n",
       "      <td>0</td>\n",
       "    </tr>\n",
       "  </tbody>\n",
       "</table>\n",
       "<p>5 rows × 40 columns</p>\n",
       "</div>"
      ],
      "text/plain": [
       "        listing_amount  borrower_rate  occupation  borrower_state  AT02S  \\\n",
       "313456         20000.0         0.1479   -0.001976        0.041690   14.0   \n",
       "218861          7500.0         0.0600   -0.001976        0.040204   14.0   \n",
       "285445         10000.0         0.0870    0.275676        0.041690   16.0   \n",
       "113452         12000.0         0.1601   -0.001976       -0.357708   11.0   \n",
       "233219         18000.0         0.1030   -0.017027        0.069969   14.0   \n",
       "\n",
       "        AU01S  G020S  G093S  G103S  HI01S  ...  income_range_6  \\\n",
       "313456    4.0   16.0    0.0    0.0    0.0  ...               0   \n",
       "218861    3.0    0.0    0.0   13.0    0.0  ...               0   \n",
       "285445    2.0   25.0    0.0    5.0    1.0  ...               0   \n",
       "113452    0.0    0.0    0.0    3.0    0.0  ...               0   \n",
       "233219    2.0   14.0    0.0    1.0    0.0  ...               0   \n",
       "\n",
       "        prosper_rating_AA  prosper_rating_B  prosper_rating_C  \\\n",
       "313456                  0                 0                 1   \n",
       "218861                  1                 0                 0   \n",
       "285445                  0                 0                 0   \n",
       "113452                  0                 0                 1   \n",
       "233219                  0                 1                 0   \n",
       "\n",
       "        prosper_rating_D  prosper_rating_E  prosper_rating_HR  \\\n",
       "313456                 0                 0                  0   \n",
       "218861                 0                 0                  0   \n",
       "285445                 0                 0                  0   \n",
       "113452                 0                 0                  0   \n",
       "233219                 0                 0                  0   \n",
       "\n",
       "        listing_term_60  employment_type_Other  employment_type_Self-employed  \n",
       "313456                1                      1                              0  \n",
       "218861                0                      0                              0  \n",
       "285445                0                      1                              0  \n",
       "113452                0                      0                              0  \n",
       "233219                1                      0                              0  \n",
       "\n",
       "[5 rows x 40 columns]"
      ]
     },
     "execution_count": 12,
     "metadata": {},
     "output_type": "execute_result"
    }
   ],
   "source": [
    "from feature_engine.encoding import WoEEncoder, RareLabelEncoder\n",
    "\n",
    "woe_cols = ['occupation', 'borrower_state']\n",
    "\n",
    "# Set up a rare label encoder\n",
    "rare_encoder = RareLabelEncoder(tol=0.01, variables=woe_cols, replace_with='Other')\n",
    "\n",
    "# fit and transform data\n",
    "X_train = rare_encoder.fit_transform(X_train)\n",
    "X_test = rare_encoder.transform(X_test)\n",
    "\n",
    "# Set up a weight of evidence encoder\n",
    "woe_encoder = WoEEncoder(variables=woe_cols)\n",
    "\n",
    "# fit the encoder\n",
    "woe_encoder.fit(X_train, y_train)\n",
    "\n",
    "# transform\n",
    "X_train = woe_encoder.transform(X_train)\n",
    "X_test = woe_encoder.transform(X_test)\n",
    "\n",
    "X_train.head()"
   ]
  },
  {
   "cell_type": "markdown",
   "id": "postal-hundred",
   "metadata": {},
   "source": [
    "### 3.2.4 Supervised Numerical Scaling"
   ]
  },
  {
   "cell_type": "code",
   "execution_count": 13,
   "id": "valuable-upper",
   "metadata": {},
   "outputs": [
    {
     "data": {
      "text/html": [
       "<div>\n",
       "<style scoped>\n",
       "    .dataframe tbody tr th:only-of-type {\n",
       "        vertical-align: middle;\n",
       "    }\n",
       "\n",
       "    .dataframe tbody tr th {\n",
       "        vertical-align: top;\n",
       "    }\n",
       "\n",
       "    .dataframe thead th {\n",
       "        text-align: right;\n",
       "    }\n",
       "</style>\n",
       "<table border=\"1\" class=\"dataframe\">\n",
       "  <thead>\n",
       "    <tr style=\"text-align: right;\">\n",
       "      <th></th>\n",
       "      <th>listing_amount</th>\n",
       "      <th>borrower_rate</th>\n",
       "      <th>occupation</th>\n",
       "      <th>borrower_state</th>\n",
       "      <th>AT02S</th>\n",
       "      <th>AU01S</th>\n",
       "      <th>G020S</th>\n",
       "      <th>G093S</th>\n",
       "      <th>G103S</th>\n",
       "      <th>HI01S</th>\n",
       "      <th>...</th>\n",
       "      <th>income_range_6</th>\n",
       "      <th>prosper_rating_AA</th>\n",
       "      <th>prosper_rating_B</th>\n",
       "      <th>prosper_rating_C</th>\n",
       "      <th>prosper_rating_D</th>\n",
       "      <th>prosper_rating_E</th>\n",
       "      <th>prosper_rating_HR</th>\n",
       "      <th>listing_term_60</th>\n",
       "      <th>employment_type_Other</th>\n",
       "      <th>employment_type_Self-employed</th>\n",
       "    </tr>\n",
       "  </thead>\n",
       "  <tbody>\n",
       "    <tr>\n",
       "      <th>313456</th>\n",
       "      <td>0.824690</td>\n",
       "      <td>-0.087115</td>\n",
       "      <td>-0.001976</td>\n",
       "      <td>0.041690</td>\n",
       "      <td>0.486137</td>\n",
       "      <td>0.450181</td>\n",
       "      <td>0.812017</td>\n",
       "      <td>-0.366411</td>\n",
       "      <td>-0.983008</td>\n",
       "      <td>-0.281440</td>\n",
       "      <td>...</td>\n",
       "      <td>0</td>\n",
       "      <td>0</td>\n",
       "      <td>0</td>\n",
       "      <td>1</td>\n",
       "      <td>0</td>\n",
       "      <td>0</td>\n",
       "      <td>0</td>\n",
       "      <td>1</td>\n",
       "      <td>1</td>\n",
       "      <td>0</td>\n",
       "    </tr>\n",
       "    <tr>\n",
       "      <th>218861</th>\n",
       "      <td>-0.729473</td>\n",
       "      <td>-1.358976</td>\n",
       "      <td>-0.001976</td>\n",
       "      <td>0.040204</td>\n",
       "      <td>0.486137</td>\n",
       "      <td>0.064295</td>\n",
       "      <td>-0.852607</td>\n",
       "      <td>-0.366411</td>\n",
       "      <td>1.149512</td>\n",
       "      <td>-0.281440</td>\n",
       "      <td>...</td>\n",
       "      <td>0</td>\n",
       "      <td>1</td>\n",
       "      <td>0</td>\n",
       "      <td>0</td>\n",
       "      <td>0</td>\n",
       "      <td>0</td>\n",
       "      <td>0</td>\n",
       "      <td>0</td>\n",
       "      <td>0</td>\n",
       "      <td>0</td>\n",
       "    </tr>\n",
       "    <tr>\n",
       "      <th>285445</th>\n",
       "      <td>-0.418640</td>\n",
       "      <td>-0.968302</td>\n",
       "      <td>0.275676</td>\n",
       "      <td>0.041690</td>\n",
       "      <td>0.835934</td>\n",
       "      <td>-0.321591</td>\n",
       "      <td>1.748368</td>\n",
       "      <td>-0.366411</td>\n",
       "      <td>-0.162808</td>\n",
       "      <td>2.349005</td>\n",
       "      <td>...</td>\n",
       "      <td>0</td>\n",
       "      <td>0</td>\n",
       "      <td>0</td>\n",
       "      <td>0</td>\n",
       "      <td>0</td>\n",
       "      <td>0</td>\n",
       "      <td>0</td>\n",
       "      <td>0</td>\n",
       "      <td>1</td>\n",
       "      <td>0</td>\n",
       "    </tr>\n",
       "    <tr>\n",
       "      <th>113452</th>\n",
       "      <td>-0.169974</td>\n",
       "      <td>0.089411</td>\n",
       "      <td>-0.001976</td>\n",
       "      <td>-0.357708</td>\n",
       "      <td>-0.038558</td>\n",
       "      <td>-1.093363</td>\n",
       "      <td>-0.852607</td>\n",
       "      <td>-0.366411</td>\n",
       "      <td>-0.490888</td>\n",
       "      <td>-0.281440</td>\n",
       "      <td>...</td>\n",
       "      <td>0</td>\n",
       "      <td>0</td>\n",
       "      <td>0</td>\n",
       "      <td>1</td>\n",
       "      <td>0</td>\n",
       "      <td>0</td>\n",
       "      <td>0</td>\n",
       "      <td>0</td>\n",
       "      <td>0</td>\n",
       "      <td>0</td>\n",
       "    </tr>\n",
       "    <tr>\n",
       "      <th>233219</th>\n",
       "      <td>0.576024</td>\n",
       "      <td>-0.736791</td>\n",
       "      <td>-0.017027</td>\n",
       "      <td>0.069969</td>\n",
       "      <td>0.486137</td>\n",
       "      <td>-0.321591</td>\n",
       "      <td>0.603939</td>\n",
       "      <td>-0.366411</td>\n",
       "      <td>-0.818968</td>\n",
       "      <td>-0.281440</td>\n",
       "      <td>...</td>\n",
       "      <td>0</td>\n",
       "      <td>0</td>\n",
       "      <td>1</td>\n",
       "      <td>0</td>\n",
       "      <td>0</td>\n",
       "      <td>0</td>\n",
       "      <td>0</td>\n",
       "      <td>1</td>\n",
       "      <td>0</td>\n",
       "      <td>0</td>\n",
       "    </tr>\n",
       "  </tbody>\n",
       "</table>\n",
       "<p>5 rows × 40 columns</p>\n",
       "</div>"
      ],
      "text/plain": [
       "        listing_amount  borrower_rate  occupation  borrower_state     AT02S  \\\n",
       "313456        0.824690      -0.087115   -0.001976        0.041690  0.486137   \n",
       "218861       -0.729473      -1.358976   -0.001976        0.040204  0.486137   \n",
       "285445       -0.418640      -0.968302    0.275676        0.041690  0.835934   \n",
       "113452       -0.169974       0.089411   -0.001976       -0.357708 -0.038558   \n",
       "233219        0.576024      -0.736791   -0.017027        0.069969  0.486137   \n",
       "\n",
       "           AU01S     G020S     G093S     G103S     HI01S  ...  income_range_6  \\\n",
       "313456  0.450181  0.812017 -0.366411 -0.983008 -0.281440  ...               0   \n",
       "218861  0.064295 -0.852607 -0.366411  1.149512 -0.281440  ...               0   \n",
       "285445 -0.321591  1.748368 -0.366411 -0.162808  2.349005  ...               0   \n",
       "113452 -1.093363 -0.852607 -0.366411 -0.490888 -0.281440  ...               0   \n",
       "233219 -0.321591  0.603939 -0.366411 -0.818968 -0.281440  ...               0   \n",
       "\n",
       "        prosper_rating_AA  prosper_rating_B  prosper_rating_C  \\\n",
       "313456                  0                 0                 1   \n",
       "218861                  1                 0                 0   \n",
       "285445                  0                 0                 0   \n",
       "113452                  0                 0                 1   \n",
       "233219                  0                 1                 0   \n",
       "\n",
       "        prosper_rating_D  prosper_rating_E  prosper_rating_HR  \\\n",
       "313456                 0                 0                  0   \n",
       "218861                 0                 0                  0   \n",
       "285445                 0                 0                  0   \n",
       "113452                 0                 0                  0   \n",
       "233219                 0                 0                  0   \n",
       "\n",
       "        listing_term_60  employment_type_Other  employment_type_Self-employed  \n",
       "313456                1                      1                              0  \n",
       "218861                0                      0                              0  \n",
       "285445                0                      1                              0  \n",
       "113452                0                      0                              0  \n",
       "233219                1                      0                              0  \n",
       "\n",
       "[5 rows x 40 columns]"
      ]
     },
     "execution_count": 13,
     "metadata": {},
     "output_type": "execute_result"
    }
   ],
   "source": [
    "#from sklearn.preprocessing import MinMaxScaler\n",
    "from sklearn.preprocessing import StandardScaler\n",
    "\n",
    "#scaler = MinMaxScaler()\n",
    "scaler = StandardScaler()\n",
    "\n",
    "ss_cols = ['listing_amount', 'borrower_rate', \n",
    "           'AT02S','AU01S','G020S','G093S','G103S','HI01S','IN09S','IN21S','OF01S','RE21S', 'RT01S','S207S',\n",
    "          'dti_wprosper_loan']\n",
    "\n",
    "scaler.fit(X_train[ss_cols])\n",
    "\n",
    "X_train[ss_cols] = scaler.transform(X_train[ss_cols])\n",
    "X_test[ss_cols] = scaler.transform(X_test[ss_cols])\n",
    "\n",
    "X_train.head()"
   ]
  },
  {
   "cell_type": "markdown",
   "id": "bronze-cherry",
   "metadata": {},
   "source": [
    "# 4 Modeling<a id='4_modeling'></a>"
   ]
  },
  {
   "cell_type": "markdown",
   "id": "several-rehabilitation",
   "metadata": {},
   "source": [
    "### 4.1 Helper Functions"
   ]
  },
  {
   "cell_type": "code",
   "execution_count": 14,
   "id": "regulated-wyoming",
   "metadata": {},
   "outputs": [],
   "source": [
    "# Import metrics\n",
    "from sklearn import metrics\n",
    "\n",
    "# Capture various model evaluation metrics\n",
    "def model_metrics(model, X, y):\n",
    "    results = {}\n",
    "    y_pred = model.predict(X)\n",
    "    y_pred_prob = model.predict_proba(X)[:, 1]\n",
    "    tn, fp, fn, tp = metrics.confusion_matrix(y, y_pred).ravel()\n",
    "    results['Predictions'] = y_pred\n",
    "    results['Probabilities'] = y_pred_prob\n",
    "    results['Accuracy Score'] = metrics.accuracy_score(y, y_pred)\n",
    "    results['Precision Score'] = metrics.precision_score(y, y_pred, zero_division=0)\n",
    "    results['Recall Score'] = metrics.recall_score(y, y_pred, zero_division=0)\n",
    "    results['F1 Score'] = metrics.f1_score(y, y_pred)\n",
    "    results['F2 Score'] = metrics.fbeta_score(y, y_pred, beta=2)\n",
    "    results['Average Precision Score'] = metrics.average_precision_score(y, y_pred_prob)\n",
    "    results['False Omission Rate'] = fn / (fn + tn)\n",
    "    return results"
   ]
  },
  {
   "cell_type": "code",
   "execution_count": 15,
   "id": "alleged-immigration",
   "metadata": {},
   "outputs": [],
   "source": [
    "# Evaluate model and track training time\n",
    "def evaluate_model(desc, clf, X, y):\n",
    "    data = {}\n",
    "    data['Model Description'] = desc\n",
    "    data['Classifier'] = clf\n",
    "    start = time()\n",
    "    model = clf.fit(X, y)\n",
    "    end = time()\n",
    "    data['Training Time'] = end - start\n",
    "    train_results = model_metrics(model, X, y)\n",
    "    data['Train Results'] = train_results\n",
    "    test_results = model_metrics(model, X_test, y_test)\n",
    "    data['Test Results'] = test_results\n",
    "    return data"
   ]
  },
  {
   "cell_type": "code",
   "execution_count": 16,
   "id": "pretty-extra",
   "metadata": {},
   "outputs": [],
   "source": [
    "# Plot confusion matrix\n",
    "def plot_confusion_matrix(cm, classes, title='Confusion matrix', cmap=plt.cm.Blues):\n",
    "    np.set_printoptions(precision=2)\n",
    "    plt.imshow(cm, interpolation='nearest', cmap=cmap)\n",
    "    plt.title(title)\n",
    "    plt.colorbar()\n",
    "    tick_marks = np.arange(len(classes))\n",
    "    plt.xticks(tick_marks, classes, rotation=45)\n",
    "    plt.yticks(tick_marks, classes)\n",
    "\n",
    "    fmt = 'd'\n",
    "    thresh = cm.max() / 2.\n",
    "    for i, j in itertools.product(range(cm.shape[0]), range(cm.shape[1])):\n",
    "        plt.text(j, i, format(cm[i, j], fmt),\n",
    "                 horizontalalignment=\"center\",\n",
    "                 color=\"white\" if cm[i, j] > thresh else \"black\")\n",
    "\n",
    "    plt.ylabel('True label')\n",
    "    plt.xlabel('Predicted label')\n",
    "    plt.tight_layout()"
   ]
  },
  {
   "cell_type": "markdown",
   "id": "minus-personality",
   "metadata": {},
   "source": [
    "### 4.2 Baseline Dummy Classifier"
   ]
  },
  {
   "cell_type": "code",
   "execution_count": 17,
   "id": "classified-economics",
   "metadata": {},
   "outputs": [],
   "source": [
    "def plot_roc_curve(y_test, probs):\n",
    "    # Calculate fpr, tpr, thresholds and roc_auc\n",
    "    fpr, tpr, thresholds = roc_curve(y_test, probs)\n",
    "    roc_auc = roc_auc_score(y_test, probs)\n",
    "\n",
    "    # Plot ROC curve\n",
    "    plt.plot(fpr, tpr, label='ROC curve (area = %0.3f)' % roc_auc)\n",
    "    plt.plot([0, 1], [0, 1], 'k--')\n",
    "    plt.xlim([0.0, 1.0])\n",
    "    plt.ylim([0.0, 1.0])\n",
    "    plt.xlabel('False Positive Rate')\n",
    "    plt.ylabel('True Positive Rate')\n",
    "    plt.title('ROC Curve')\n",
    "    plt.legend(loc=\"lower right\")"
   ]
  },
  {
   "cell_type": "markdown",
   "id": "answering-baker",
   "metadata": {},
   "source": [
    "Train a baseline dummy classifier that predicts the most frequent class or `paidoff`."
   ]
  },
  {
   "cell_type": "code",
   "execution_count": 18,
   "id": "ranging-scroll",
   "metadata": {},
   "outputs": [
    {
     "data": {
      "text/plain": [
       "{'Model Description': 'Dummy Classifier',\n",
       " 'Classifier': DummyClassifier(strategy='most_frequent'),\n",
       " 'Training Time': 0.017980575561523438,\n",
       " 'Train Results': {'Predictions': array([0, 0, 0, ..., 0, 0, 0], dtype=int8),\n",
       "  'Probabilities': array([0., 0., 0., ..., 0., 0., 0.]),\n",
       "  'Accuracy Score': 0.7980283039120167,\n",
       "  'Precision Score': 0.0,\n",
       "  'Recall Score': 0.0,\n",
       "  'F1 Score': 0.0,\n",
       "  'F2 Score': 0.0,\n",
       "  'Average Precision Score': 0.2019716960879832,\n",
       "  'False Omission Rate': 0.2019716960879832},\n",
       " 'Test Results': {'Predictions': array([0, 0, 0, ..., 0, 0, 0], dtype=int8),\n",
       "  'Probabilities': array([0., 0., 0., ..., 0., 0., 0.]),\n",
       "  'Accuracy Score': 0.7984140684000431,\n",
       "  'Precision Score': 0.0,\n",
       "  'Recall Score': 0.0,\n",
       "  'F1 Score': 0.0,\n",
       "  'F2 Score': 0.0,\n",
       "  'Average Precision Score': 0.20158593159995686,\n",
       "  'False Omission Rate': 0.20158593159995686}}"
      ]
     },
     "execution_count": 18,
     "metadata": {},
     "output_type": "execute_result"
    }
   ],
   "source": [
    "from sklearn.dummy import DummyClassifier\n",
    "\n",
    "dummy_clf = DummyClassifier(strategy=\"most_frequent\")\n",
    "\n",
    "dummy_results = evaluate_model('Dummy Classifier', dummy_clf, X_train, y_train)\n",
    "\n",
    "dummy_results"
   ]
  },
  {
   "cell_type": "code",
   "execution_count": 19,
   "id": "third-richardson",
   "metadata": {},
   "outputs": [
    {
     "data": {
      "image/png": "[encoded data removed]",
      "text/plain": [
       "<Figure size 432x288 with 2 Axes>"
      ]
     },
     "metadata": {
      "needs_background": "light"
     },
     "output_type": "display_data"
    }
   ],
   "source": [
    "# Create class names\n",
    "classes = ['Paidoff', 'Chargeoff']\n",
    "\n",
    "plot_confusion_matrix(metrics.confusion_matrix(y_test, dummy_results['Test Results']['Predictions']), \n",
    "                      classes=classes, title=dummy_results['Model Description'])"
   ]
  },
  {
   "cell_type": "code",
   "execution_count": 20,
   "id": "covered-secret",
   "metadata": {},
   "outputs": [
    {
     "data": {
      "text/plain": [
       "count    432551.000000\n",
       "mean          0.201856\n",
       "std           0.401386\n",
       "min           0.000000\n",
       "25%           0.000000\n",
       "50%           0.000000\n",
       "75%           0.000000\n",
       "max           1.000000\n",
       "Name: chargeoff, dtype: float64"
      ]
     },
     "execution_count": 20,
     "metadata": {},
     "output_type": "execute_result"
    }
   ],
   "source": [
    "df.chargeoff.describe()"
   ]
  },
  {
   "cell_type": "markdown",
   "id": "retained-picnic",
   "metadata": {},
   "source": [
    "The baseline classifier Accuracy score is 79.8% which represents 1 - mean `chargeoff` rate.  The dataset is moderately imbalanced with the `chargeoff` population at 20.2% .  These metrics show why it is important to choose the correct evaluation metric because we can achieve pretty good accuracy by simply predicting 0 for all loans.  We are capturing a variety of model evaluation metrics and then will compare at the end of each next sections."
   ]
  },
  {
   "cell_type": "markdown",
   "id": "democratic-mason",
   "metadata": {},
   "source": [
    "### 4.3 Training Entire Dataset"
   ]
  },
  {
   "cell_type": "markdown",
   "id": "activated-tribute",
   "metadata": {},
   "source": [
    "The following classification models will be trained on the entire dataset and evaluated on the test set.\n",
    "\n",
    "1. LogisticRegression\n",
    "2. GaussianNB\n",
    "3. RandomForestClassifier\n",
    "4. AdaBoostClassifier\n",
    "5. GradientBoostingClassifier\n",
    "6. XGBClassifier\n",
    "7. LGBMClassifier"
   ]
  },
  {
   "cell_type": "markdown",
   "id": "bearing-suffering",
   "metadata": {},
   "source": [
    "#### 4.3.1 LogisticRegression"
   ]
  },
  {
   "cell_type": "code",
   "execution_count": 21,
   "id": "contained-trinidad",
   "metadata": {},
   "outputs": [
    {
     "data": {
      "text/plain": [
       "{'Model Description': 'Logistic Regression',\n",
       " 'Classifier': LogisticRegression(max_iter=1000, random_state=42),\n",
       " 'Training Time': 7.601946830749512,\n",
       " 'Train Results': {'Predictions': array([0, 0, 0, ..., 0, 0, 0], dtype=int8),\n",
       "  'Probabilities': array([0.34, 0.03, 0.12, ..., 0.12, 0.05, 0.1 ]),\n",
       "  'Accuracy Score': 0.8000429347556848,\n",
       "  'Precision Score': 0.5374600835175632,\n",
       "  'Recall Score': 0.0715570526866599,\n",
       "  'F1 Score': 0.1262987762641422,\n",
       "  'F2 Score': 0.08656501475719859,\n",
       "  'Average Precision Score': 0.39009066762092626,\n",
       "  'False Omission Rate': 0.19270099747830424},\n",
       " 'Test Results': {'Predictions': array([0, 0, 0, ..., 0, 0, 0], dtype=int8),\n",
       "  'Probabilities': array([0.28, 0.15, 0.17, ..., 0.25, 0.29, 0.24]),\n",
       "  'Accuracy Score': 0.8013809472434998,\n",
       "  'Precision Score': 0.55633596722271,\n",
       "  'Recall Score': 0.07267097366107267,\n",
       "  'F1 Score': 0.128550175818231,\n",
       "  'F2 Score': 0.08796609071474183,\n",
       "  'Average Precision Score': 0.3939883381736127,\n",
       "  'False Omission Rate': 0.19199202209752353}}"
      ]
     },
     "execution_count": 21,
     "metadata": {},
     "output_type": "execute_result"
    }
   ],
   "source": [
    "from sklearn.linear_model import LogisticRegression\n",
    "\n",
    "log = LogisticRegression(max_iter=1000, random_state=SEED)\n",
    "\n",
    "log_results = evaluate_model('Logistic Regression', log, X_train, y_train)\n",
    "\n",
    "log_results"
   ]
  },
  {
   "cell_type": "code",
   "execution_count": 22,
   "id": "wireless-rates",
   "metadata": {},
   "outputs": [
    {
     "data": {
      "image/png": "[encoded data removed]",
      "text/plain": [
       "<Figure size 432x288 with 2 Axes>"
      ]
     },
     "metadata": {
      "needs_background": "light"
     },
     "output_type": "display_data"
    }
   ],
   "source": [
    "plot_confusion_matrix(metrics.confusion_matrix(y_test, log_results['Test Results']['Predictions']), \n",
    "                      classes=classes, title=log_results['Model Description'])"
   ]
  },
  {
   "cell_type": "markdown",
   "id": "smart-reader",
   "metadata": {},
   "source": [
    "The LogisticRegression model does not perform very well on the entire dataset.  Precision is 55.6% so when the model predicts the loan will chargeoff it is only correct about half of the time.  Recall is quite poor at 7.27% and Average Precision is .394. "
   ]
  },
  {
   "cell_type": "markdown",
   "id": "antique-creator",
   "metadata": {},
   "source": [
    "#### 4.3.2 GaussianNB"
   ]
  },
  {
   "cell_type": "code",
   "execution_count": 23,
   "id": "judicial-edward",
   "metadata": {},
   "outputs": [
    {
     "data": {
      "text/plain": [
       "{'Model Description': 'Gaussian Naive Bayes',\n",
       " 'Classifier': GaussianNB(),\n",
       " 'Training Time': 0.3949732780456543,\n",
       " 'Train Results': {'Predictions': array([0, 0, 0, ..., 1, 0, 0], dtype=int8),\n",
       "  'Probabilities': array([3.25e-01, 2.77e-11, 2.03e-02, ..., 1.00e+00, 1.53e-10, 9.14e-02]),\n",
       "  'Accuracy Score': 0.6915501098138943,\n",
       "  'Precision Score': 0.3329360555497979,\n",
       "  'Recall Score': 0.5253131438663048,\n",
       "  'F1 Score': 0.40756387810509753,\n",
       "  'F2 Score': 0.4708946779007112,\n",
       "  'Average Precision Score': 0.32291501328686784,\n",
       "  'False Omission Rate': 0.1407159650015754},\n",
       " 'Test Results': {'Predictions': array([0, 0, 1, ..., 0, 0, 1], dtype=int8),\n",
       "  'Probabilities': array([0.36, 0.09, 0.54, ..., 0.01, 0.04, 0.85]),\n",
       "  'Accuracy Score': 0.692068800764453,\n",
       "  'Precision Score': 0.33217395534367855,\n",
       "  'Recall Score': 0.5220765319775221,\n",
       "  'F1 Score': 0.4060172729029477,\n",
       "  'F2 Score': 0.4685077186963979,\n",
       "  'Average Precision Score': 0.32202765554659746,\n",
       "  'False Omission Rate': 0.14102332716689978}}"
      ]
     },
     "execution_count": 23,
     "metadata": {},
     "output_type": "execute_result"
    }
   ],
   "source": [
    "from sklearn.naive_bayes import GaussianNB\n",
    "\n",
    "gnb = GaussianNB()\n",
    "\n",
    "gnb_results = evaluate_model('Gaussian Naive Bayes', gnb, X_train, y_train)\n",
    "\n",
    "gnb_results"
   ]
  },
  {
   "cell_type": "code",
   "execution_count": 24,
   "id": "reserved-machinery",
   "metadata": {},
   "outputs": [
    {
     "data": {
      "image/png": "[encoded data removed]",
      "text/plain": [
       "<Figure size 432x288 with 2 Axes>"
      ]
     },
     "metadata": {
      "needs_background": "light"
     },
     "output_type": "display_data"
    }
   ],
   "source": [
    "plot_confusion_matrix(metrics.confusion_matrix(y_test, gnb_results['Test Results']['Predictions']), \n",
    "                      classes=classes, title=gnb_results['Model Description'])"
   ]
  },
  {
   "cell_type": "markdown",
   "id": "hourly-poster",
   "metadata": {},
   "source": [
    "The Gaussian Naive Bayes model handles the imbalanced dataset better as it predicted `chargeoff` for 41,114 loans vs. the 3,417 from the Logistic Regression model.  However, these predictions are quite poor as well with Precision at 33.22%.  Recall improved quite a bit though at 52.2% and Average Precision is .322."
   ]
  },
  {
   "cell_type": "markdown",
   "id": "antique-charge",
   "metadata": {},
   "source": [
    "#### 4.3.3 RandomForestClassifier"
   ]
  },
  {
   "cell_type": "code",
   "execution_count": 25,
   "id": "north-remedy",
   "metadata": {},
   "outputs": [
    {
     "data": {
      "text/plain": [
       "{'Model Description': 'Random Forest Classifier',\n",
       " 'Classifier': RandomForestClassifier(max_depth=10, random_state=42),\n",
       " 'Training Time': 42.889968395233154,\n",
       " 'Train Results': {'Predictions': array([0, 0, 0, ..., 0, 0, 0], dtype=int8),\n",
       "  'Probabilities': array([0.26, 0.04, 0.16, ..., 0.18, 0.06, 0.11]),\n",
       "  'Accuracy Score': 0.7995805604636954,\n",
       "  'Precision Score': 0.8012820512820513,\n",
       "  'Recall Score': 0.010220100075219937,\n",
       "  'F1 Score': 0.020182775212322795,\n",
       "  'F2 Score': 0.01273451890006357,\n",
       "  'Average Precision Score': 0.443766316549477,\n",
       "  'False Omission Rate': 0.20042383404248273},\n",
       " 'Test Results': {'Predictions': array([0, 0, 0, ..., 0, 0, 0], dtype=int8),\n",
       "  'Probabilities': array([0.29, 0.17, 0.11, ..., 0.17, 0.27, 0.35]),\n",
       "  'Accuracy Score': 0.7992309233543455,\n",
       "  'Precision Score': 0.6906474820143885,\n",
       "  'Recall Score': 0.00733973011200734,\n",
       "  'F1 Score': 0.014525097401369293,\n",
       "  'F2 Score': 0.00915035171664411,\n",
       "  'Average Precision Score': 0.4007713497092094,\n",
       "  'False Omission Rate': 0.20053595699987645}}"
      ]
     },
     "execution_count": 25,
     "metadata": {},
     "output_type": "execute_result"
    }
   ],
   "source": [
    "from sklearn.ensemble import RandomForestClassifier\n",
    "\n",
    "# Limit depth of tree otherwise it will expand all leaves and extremely overfit training data\n",
    "rf = RandomForestClassifier(max_depth=10, random_state=SEED)\n",
    "\n",
    "rf_results = evaluate_model('Random Forest Classifier', rf, X_train, y_train)\n",
    "\n",
    "rf_results"
   ]
  },
  {
   "cell_type": "code",
   "execution_count": 26,
   "id": "popular-transmission",
   "metadata": {},
   "outputs": [
    {
     "data": {
      "image/png": "[encoded data removed]",
      "text/plain": [
       "<Figure size 432x288 with 2 Axes>"
      ]
     },
     "metadata": {
      "needs_background": "light"
     },
     "output_type": "display_data"
    }
   ],
   "source": [
    "plot_confusion_matrix(metrics.confusion_matrix(y_test, rf_results['Test Results']['Predictions']), \n",
    "                      classes=classes, title=rf_results['Model Description'])"
   ]
  },
  {
   "cell_type": "markdown",
   "id": "ideal-hamburg",
   "metadata": {},
   "source": [
    "The Random Forest Classifier performs similar to Logistic Regression with 54.41% Precision.  Recall improved a little to 9.35% and Average Precision is .3918."
   ]
  },
  {
   "cell_type": "markdown",
   "id": "pretty-stephen",
   "metadata": {},
   "source": [
    "#### 4.3.4 AdaBoostClassifier"
   ]
  },
  {
   "cell_type": "code",
   "execution_count": 27,
   "id": "reserved-timber",
   "metadata": {},
   "outputs": [
    {
     "data": {
      "text/plain": [
       "{'Model Description': 'AdaBoost Classifer',\n",
       " 'Classifier': AdaBoostClassifier(random_state=42),\n",
       " 'Training Time': 21.92461848258972,\n",
       " 'Train Results': {'Predictions': array([0, 0, 0, ..., 0, 0, 0], dtype=int8),\n",
       "  'Probabilities': array([0.5 , 0.48, 0.49, ..., 0.49, 0.49, 0.49]),\n",
       "  'Accuracy Score': 0.8007397988671829,\n",
       "  'Precision Score': 0.5395053411606198,\n",
       "  'Recall Score': 0.09167020963469275,\n",
       "  'F1 Score': 0.15671255852959676,\n",
       "  'F2 Score': 0.10991855125545573,\n",
       "  'Average Precision Score': 0.3952756225698772,\n",
       "  'False Omission Rate': 0.1899765385062621},\n",
       " 'Test Results': {'Predictions': array([0, 0, 0, ..., 0, 0, 0], dtype=int8),\n",
       "  'Probabilities': array([0.5 , 0.49, 0.49, ..., 0.49, 0.5 , 0.49]),\n",
       "  'Accuracy Score': 0.8021361527672888,\n",
       "  'Precision Score': 0.5537502782105498,\n",
       "  'Recall Score': 0.0951106693680951,\n",
       "  'F1 Score': 0.16233850972204097,\n",
       "  'F2 Score': 0.11399353059223487,\n",
       "  'Average Precision Score': 0.39930626236910394,\n",
       "  'False Omission Rate': 0.18895532157767436}}"
      ]
     },
     "execution_count": 27,
     "metadata": {},
     "output_type": "execute_result"
    }
   ],
   "source": [
    "from sklearn.ensemble import AdaBoostClassifier\n",
    "abc = AdaBoostClassifier(random_state=SEED)\n",
    "\n",
    "abc_results = evaluate_model('AdaBoost Classifer', abc, X_train, y_train)\n",
    "\n",
    "abc_results"
   ]
  },
  {
   "cell_type": "code",
   "execution_count": 28,
   "id": "nonprofit-vertex",
   "metadata": {},
   "outputs": [
    {
     "data": {
      "image/png": "[encoded data removed]",
      "text/plain": [
       "<Figure size 432x288 with 2 Axes>"
      ]
     },
     "metadata": {
      "needs_background": "light"
     },
     "output_type": "display_data"
    }
   ],
   "source": [
    "plot_confusion_matrix(metrics.confusion_matrix(y_test, abc_results['Test Results']['Predictions']), \n",
    "                      classes=classes, title=abc_results['Model Description'])"
   ]
  },
  {
   "cell_type": "markdown",
   "id": "purple-florida",
   "metadata": {},
   "source": [
    "AdaBoost Classifier performs quite similar to the Random Forest Classifier and has a ROC-AUC of .3993."
   ]
  },
  {
   "cell_type": "markdown",
   "id": "comprehensive-confidence",
   "metadata": {},
   "source": [
    "#### 4.3.5 GradientBoostingClassifier"
   ]
  },
  {
   "cell_type": "code",
   "execution_count": 29,
   "id": "smart-mathematics",
   "metadata": {},
   "outputs": [
    {
     "data": {
      "text/plain": [
       "{'Model Description': 'Gradient Boosting Classifier',\n",
       " 'Classifier': GradientBoostingClassifier(random_state=42),\n",
       " 'Training Time': 89.70176434516907,\n",
       " 'Train Results': {'Predictions': array([0, 0, 0, ..., 0, 0, 0], dtype=int8),\n",
       "  'Probabilities': array([0.27, 0.04, 0.13, ..., 0.13, 0.05, 0.09]),\n",
       "  'Accuracy Score': 0.8025694799940551,\n",
       "  'Precision Score': 0.5802123439505309,\n",
       "  'Recall Score': 0.08131929227851,\n",
       "  'F1 Score': 0.14264610971674438,\n",
       "  'F2 Score': 0.09820804385691208,\n",
       "  'Average Precision Score': 0.41158919993276877,\n",
       "  'False Omission Rate': 0.19095284384835529},\n",
       " 'Test Results': {'Predictions': array([0, 0, 0, ..., 0, 0, 0], dtype=int8),\n",
       "  'Probabilities': array([0.33, 0.13, 0.12, ..., 0.19, 0.31, 0.33]),\n",
       "  'Accuracy Score': 0.8032689610529723,\n",
       "  'Precision Score': 0.5869685256764219,\n",
       "  'Recall Score': 0.08127221988608127,\n",
       "  'F1 Score': 0.1427755951781337,\n",
       "  'F2 Score': 0.09819135768257313,\n",
       "  'Average Precision Score': 0.4108188950076581,\n",
       "  'False Omission Rate': 0.1905203576864536}}"
      ]
     },
     "execution_count": 29,
     "metadata": {},
     "output_type": "execute_result"
    }
   ],
   "source": [
    "from sklearn.ensemble import GradientBoostingClassifier\n",
    "\n",
    "gb = GradientBoostingClassifier(random_state=SEED)\n",
    "\n",
    "gb_results = evaluate_model('Gradient Boosting Classifier', gb, X_train, y_train)\n",
    "\n",
    "gb_results"
   ]
  },
  {
   "cell_type": "code",
   "execution_count": 30,
   "id": "bacterial-objective",
   "metadata": {},
   "outputs": [
    {
     "data": {
      "image/png": "[encoded data removed]",
      "text/plain": [
       "<Figure size 432x288 with 2 Axes>"
      ]
     },
     "metadata": {
      "needs_background": "light"
     },
     "output_type": "display_data"
    }
   ],
   "source": [
    "plot_confusion_matrix(metrics.confusion_matrix(y_test, gb_results['Test Results']['Predictions']), \n",
    "                      classes=classes, title=gb_results['Model Description'])"
   ]
  },
  {
   "cell_type": "markdown",
   "id": "cordless-beach",
   "metadata": {},
   "source": [
    "The Gradient Boosting Classifier performs similar to Logistic Regression and Random Forest.  Precision is 58.7%, Recall is quite poor as well at 8.13% and Average Precision has improved a little to .4108.  Of all models so far Gradient Boosting also takes the longest to train the model."
   ]
  },
  {
   "cell_type": "markdown",
   "id": "impressive-lexington",
   "metadata": {},
   "source": [
    "#### 4.3.6 XGBClassifier"
   ]
  },
  {
   "cell_type": "code",
   "execution_count": 31,
   "id": "optional-passing",
   "metadata": {},
   "outputs": [
    {
     "data": {
      "text/plain": [
       "{'Model Description': 'XGB Classifer',\n",
       " 'Classifier': XGBClassifier(base_score=0.5, booster='gbtree', colsample_bylevel=1,\n",
       "               colsample_bynode=1, colsample_bytree=1, eval_metric='aucpr',\n",
       "               gamma=0, gpu_id=-1, importance_type='gain',\n",
       "               interaction_constraints='', learning_rate=0.300000012,\n",
       "               max_delta_step=0, max_depth=6, min_child_weight=1, missing=nan,\n",
       "               monotone_constraints='()', n_estimators=100, n_jobs=8,\n",
       "               num_parallel_tree=1, random_state=42, reg_alpha=0, reg_lambda=1,\n",
       "               scale_pos_weight=1, subsample=1, tree_method='exact',\n",
       "               use_label_encoder=False, validate_parameters=1, verbosity=None),\n",
       " 'Training Time': 19.30975365638733,\n",
       " 'Train Results': {'Predictions': array([0, 0, 0, ..., 0, 0, 0]),\n",
       "  'Probabilities': array([0.33, 0.01, 0.14, ..., 0.1 , 0.04, 0.18], dtype=float32),\n",
       "  'Accuracy Score': 0.8135442640817742,\n",
       "  'Precision Score': 0.6457015258652773,\n",
       "  'Recall Score': 0.17022598685286328,\n",
       "  'F1 Score': 0.26942388322376937,\n",
       "  'F2 Score': 0.19962567788354596,\n",
       "  'Average Precision Score': 0.4890700222874604,\n",
       "  'False Omission Rate': 0.1770162176492955},\n",
       " 'Test Results': {'Predictions': array([0, 0, 0, ..., 0, 0, 0]),\n",
       "  'Probabilities': array([0.36, 0.08, 0.13, ..., 0.2 , 0.32, 0.29], dtype=float32),\n",
       "  'Accuracy Score': 0.8029915386156621,\n",
       "  'Precision Score': 0.544026089534539,\n",
       "  'Recall Score': 0.1402958828701403,\n",
       "  'F1 Score': 0.22306640328217597,\n",
       "  'F2 Score': 0.16474834353845327,\n",
       "  'Average Precision Score': 0.41494212439722805,\n",
       "  'False Omission Rate': 0.18280767354901642}}"
      ]
     },
     "execution_count": 31,
     "metadata": {},
     "output_type": "execute_result"
    }
   ],
   "source": [
    "import xgboost as xgb\n",
    "\n",
    "xgbc = xgb.XGBClassifier(eval_metric='aucpr', use_label_encoder=False, random_state=SEED)\n",
    "\n",
    "xgbc_results = evaluate_model('XGB Classifer', xgbc, X_train, y_train)\n",
    "\n",
    "xgbc_results"
   ]
  },
  {
   "cell_type": "code",
   "execution_count": 32,
   "id": "technical-gateway",
   "metadata": {},
   "outputs": [
    {
     "data": {
      "image/png": "[encoded data removed]",
      "text/plain": [
       "<Figure size 432x288 with 2 Axes>"
      ]
     },
     "metadata": {
      "needs_background": "light"
     },
     "output_type": "display_data"
    }
   ],
   "source": [
    "plot_confusion_matrix(metrics.confusion_matrix(y_test, xgbc_results['Test Results']['Predictions']), \n",
    "                      classes=classes, title=xgbc_results['Model Description'])"
   ]
  },
  {
   "cell_type": "markdown",
   "id": "convertible-screw",
   "metadata": {},
   "source": [
    "XGB Classifier performs the best so far for Recall and Average Precision at 14.03% and .4149 respectively."
   ]
  },
  {
   "cell_type": "markdown",
   "id": "alike-equality",
   "metadata": {},
   "source": [
    "#### 4.3.7 LGBMClassifier"
   ]
  },
  {
   "cell_type": "code",
   "execution_count": 33,
   "id": "smaller-ethernet",
   "metadata": {},
   "outputs": [
    {
     "data": {
      "text/plain": [
       "{'Model Description': 'LGBM Classifer',\n",
       " 'Classifier': LGBMClassifier(random_state=42),\n",
       " 'Training Time': 2.1163785457611084,\n",
       " 'Train Results': {'Predictions': array([0, 0, 0, ..., 0, 0, 0], dtype=int8),\n",
       "  'Probabilities': array([0.34, 0.02, 0.12, ..., 0.11, 0.06, 0.08]),\n",
       "  'Accuracy Score': 0.8060042604488333,\n",
       "  'Precision Score': 0.597828728834157,\n",
       "  'Recall Score': 0.12066258952807665,\n",
       "  'F1 Score': 0.2007973114548893,\n",
       "  'F2 Score': 0.14358321755610814,\n",
       "  'Average Precision Score': 0.43683732984176976,\n",
       "  'False Omission Rate': 0.18514884210961224},\n",
       " 'Test Results': {'Predictions': array([0, 0, 0, ..., 0, 0, 0], dtype=int8),\n",
       "  'Probabilities': array([0.34, 0.14, 0.11, ..., 0.23, 0.31, 0.25]),\n",
       "  'Accuracy Score': 0.8041243469013455,\n",
       "  'Precision Score': 0.5704238737882532,\n",
       "  'Recall Score': 0.11472151076111473,\n",
       "  'F1 Score': 0.19102482495225973,\n",
       "  'F2 Score': 0.13653693913391632,\n",
       "  'Average Precision Score': 0.4187700536097423,\n",
       "  'False Omission Rate': 0.18600056222641662}}"
      ]
     },
     "execution_count": 33,
     "metadata": {},
     "output_type": "execute_result"
    }
   ],
   "source": [
    "import lightgbm as lgb\n",
    "\n",
    "lgbc = lgb.LGBMClassifier(random_state=SEED)\n",
    "\n",
    "lgbm_results = evaluate_model('LGBM Classifer', lgbc, X_train, y_train)\n",
    "\n",
    "lgbm_results"
   ]
  },
  {
   "cell_type": "code",
   "execution_count": 34,
   "id": "uniform-merchandise",
   "metadata": {},
   "outputs": [
    {
     "data": {
      "image/png": "[encoded data removed]",
      "text/plain": [
       "<Figure size 432x288 with 2 Axes>"
      ]
     },
     "metadata": {
      "needs_background": "light"
     },
     "output_type": "display_data"
    }
   ],
   "source": [
    "plot_confusion_matrix(metrics.confusion_matrix(y_test, lgbm_results['Test Results']['Predictions']), \n",
    "                      classes=classes, title=lgbm_results['Model Description'])"
   ]
  },
  {
   "cell_type": "markdown",
   "id": "collect-church",
   "metadata": {},
   "source": [
    "LGBM Classifier improves upon the XGB Classifier with Average Precision of .4188 but Recall decreased to 11.47%."
   ]
  },
  {
   "cell_type": "code",
   "execution_count": 35,
   "id": "governmental-morrison",
   "metadata": {},
   "outputs": [
    {
     "name": "stdout",
     "output_type": "stream",
     "text": [
      "Finished loading model, total used 100 iterations\n"
     ]
    },
    {
     "data": {
      "text/html": [
       "<div>\n",
       "<style scoped>\n",
       "    .dataframe tbody tr th:only-of-type {\n",
       "        vertical-align: middle;\n",
       "    }\n",
       "\n",
       "    .dataframe tbody tr th {\n",
       "        vertical-align: top;\n",
       "    }\n",
       "\n",
       "    .dataframe thead th {\n",
       "        text-align: right;\n",
       "    }\n",
       "</style>\n",
       "<table border=\"1\" class=\"dataframe\">\n",
       "  <thead>\n",
       "    <tr style=\"text-align: right;\">\n",
       "      <th></th>\n",
       "      <th>Model Description</th>\n",
       "      <th>Training Time</th>\n",
       "      <th>Test Results.Accuracy Score</th>\n",
       "      <th>Test Results.Precision Score</th>\n",
       "      <th>Test Results.Recall Score</th>\n",
       "      <th>Test Results.F1 Score</th>\n",
       "      <th>Test Results.F2 Score</th>\n",
       "      <th>Test Results.False Omission Rate</th>\n",
       "      <th>Test Results.Average Precision Score</th>\n",
       "    </tr>\n",
       "  </thead>\n",
       "  <tbody>\n",
       "    <tr>\n",
       "      <th>6</th>\n",
       "      <td>LGBM Classifer</td>\n",
       "      <td>2.116379</td>\n",
       "      <td>0.804124</td>\n",
       "      <td>0.570424</td>\n",
       "      <td>0.114722</td>\n",
       "      <td>0.191025</td>\n",
       "      <td>0.136537</td>\n",
       "      <td>0.186001</td>\n",
       "      <td>0.418770</td>\n",
       "    </tr>\n",
       "    <tr>\n",
       "      <th>5</th>\n",
       "      <td>XGB Classifer</td>\n",
       "      <td>19.309754</td>\n",
       "      <td>0.802992</td>\n",
       "      <td>0.544026</td>\n",
       "      <td>0.140296</td>\n",
       "      <td>0.223066</td>\n",
       "      <td>0.164748</td>\n",
       "      <td>0.182808</td>\n",
       "      <td>0.414942</td>\n",
       "    </tr>\n",
       "    <tr>\n",
       "      <th>4</th>\n",
       "      <td>Gradient Boosting Classifier</td>\n",
       "      <td>89.701764</td>\n",
       "      <td>0.803269</td>\n",
       "      <td>0.586969</td>\n",
       "      <td>0.081272</td>\n",
       "      <td>0.142776</td>\n",
       "      <td>0.098191</td>\n",
       "      <td>0.190520</td>\n",
       "      <td>0.410819</td>\n",
       "    </tr>\n",
       "    <tr>\n",
       "      <th>2</th>\n",
       "      <td>Random Forest Classifier</td>\n",
       "      <td>42.889968</td>\n",
       "      <td>0.799231</td>\n",
       "      <td>0.690647</td>\n",
       "      <td>0.007340</td>\n",
       "      <td>0.014525</td>\n",
       "      <td>0.009150</td>\n",
       "      <td>0.200536</td>\n",
       "      <td>0.400771</td>\n",
       "    </tr>\n",
       "    <tr>\n",
       "      <th>3</th>\n",
       "      <td>AdaBoost Classifer</td>\n",
       "      <td>21.924618</td>\n",
       "      <td>0.802136</td>\n",
       "      <td>0.553750</td>\n",
       "      <td>0.095111</td>\n",
       "      <td>0.162339</td>\n",
       "      <td>0.113994</td>\n",
       "      <td>0.188955</td>\n",
       "      <td>0.399306</td>\n",
       "    </tr>\n",
       "    <tr>\n",
       "      <th>0</th>\n",
       "      <td>Logistic Regression</td>\n",
       "      <td>7.601947</td>\n",
       "      <td>0.801381</td>\n",
       "      <td>0.556336</td>\n",
       "      <td>0.072671</td>\n",
       "      <td>0.128550</td>\n",
       "      <td>0.087966</td>\n",
       "      <td>0.191992</td>\n",
       "      <td>0.393988</td>\n",
       "    </tr>\n",
       "    <tr>\n",
       "      <th>1</th>\n",
       "      <td>Gaussian Naive Bayes</td>\n",
       "      <td>0.394973</td>\n",
       "      <td>0.692069</td>\n",
       "      <td>0.332174</td>\n",
       "      <td>0.522077</td>\n",
       "      <td>0.406017</td>\n",
       "      <td>0.468508</td>\n",
       "      <td>0.141023</td>\n",
       "      <td>0.322028</td>\n",
       "    </tr>\n",
       "  </tbody>\n",
       "</table>\n",
       "</div>"
      ],
      "text/plain": [
       "              Model Description  Training Time  Test Results.Accuracy Score  \\\n",
       "6                LGBM Classifer       2.116379                     0.804124   \n",
       "5                 XGB Classifer      19.309754                     0.802992   \n",
       "4  Gradient Boosting Classifier      89.701764                     0.803269   \n",
       "2      Random Forest Classifier      42.889968                     0.799231   \n",
       "3            AdaBoost Classifer      21.924618                     0.802136   \n",
       "0           Logistic Regression       7.601947                     0.801381   \n",
       "1          Gaussian Naive Bayes       0.394973                     0.692069   \n",
       "\n",
       "   Test Results.Precision Score  Test Results.Recall Score  \\\n",
       "6                      0.570424                   0.114722   \n",
       "5                      0.544026                   0.140296   \n",
       "4                      0.586969                   0.081272   \n",
       "2                      0.690647                   0.007340   \n",
       "3                      0.553750                   0.095111   \n",
       "0                      0.556336                   0.072671   \n",
       "1                      0.332174                   0.522077   \n",
       "\n",
       "   Test Results.F1 Score  Test Results.F2 Score  \\\n",
       "6               0.191025               0.136537   \n",
       "5               0.223066               0.164748   \n",
       "4               0.142776               0.098191   \n",
       "2               0.014525               0.009150   \n",
       "3               0.162339               0.113994   \n",
       "0               0.128550               0.087966   \n",
       "1               0.406017               0.468508   \n",
       "\n",
       "   Test Results.False Omission Rate  Test Results.Average Precision Score  \n",
       "6                          0.186001                              0.418770  \n",
       "5                          0.182808                              0.414942  \n",
       "4                          0.190520                              0.410819  \n",
       "2                          0.200536                              0.400771  \n",
       "3                          0.188955                              0.399306  \n",
       "0                          0.191992                              0.393988  \n",
       "1                          0.141023                              0.322028  "
      ]
     },
     "execution_count": 35,
     "metadata": {},
     "output_type": "execute_result"
    }
   ],
   "source": [
    "models = [log_results, gnb_results, rf_results, abc_results, gb_results, xgbc_results, lgbm_results]\n",
    "\n",
    "initial_models_df = pd.json_normalize(models)\n",
    "initial_models_df[['Model Description', 'Training Time', 'Test Results.Accuracy Score', \n",
    "                                      'Test Results.Precision Score', 'Test Results.Recall Score', \n",
    "                                      'Test Results.F1 Score', 'Test Results.F2 Score', \n",
    "                                      'Test Results.False Omission Rate', 'Test Results.Average Precision Score']].sort_values(by='Test Results.Average Precision Score', ascending=False)"
   ]
  },
  {
   "cell_type": "markdown",
   "id": "stylish-teach",
   "metadata": {},
   "source": [
    "LGBM Classifier has the best model performance and the 2nd fastest training time."
   ]
  },
  {
   "cell_type": "markdown",
   "id": "cardiovascular-physics",
   "metadata": {},
   "source": [
    "### 4.4 Under Sampling"
   ]
  },
  {
   "cell_type": "markdown",
   "id": "flexible-storm",
   "metadata": {},
   "source": [
    "All models except for Gaussian Naive Bayes performed poorly on Recall.  Let's explore random under sampling to force an equal distribution by randomly removing paid off loans."
   ]
  },
  {
   "cell_type": "markdown",
   "id": "compressed-berry",
   "metadata": {},
   "source": [
    "#### 4.4.1 Random Under Sampling"
   ]
  },
  {
   "cell_type": "code",
   "execution_count": 36,
   "id": "laden-translation",
   "metadata": {},
   "outputs": [
    {
     "name": "stdout",
     "output_type": "stream",
     "text": [
      "Counter({0: 61154, 1: 61154})\n"
     ]
    }
   ],
   "source": [
    "from collections import Counter\n",
    "from imblearn.under_sampling import RandomUnderSampler\n",
    "\n",
    "rus = RandomUnderSampler(replacement=False, random_state=SEED)\n",
    "\n",
    "X_train_rus, y_train_rus = rus.fit_resample(X_train, y_train)\n",
    "\n",
    "print(Counter(y_train_rus))"
   ]
  },
  {
   "cell_type": "code",
   "execution_count": 37,
   "id": "adult-sierra",
   "metadata": {},
   "outputs": [
    {
     "name": "stdout",
     "output_type": "stream",
     "text": [
      "Logistic Regression Under Sampled\n",
      "Test Average Precision Score: 0.392919\n",
      "-----------------------------------\n",
      "Gaussian Naive Bayes Under Sampled\n",
      "Test Average Precision Score: 0.324324\n",
      "-----------------------------------\n",
      "Random Forest Classifier Under Sampled\n",
      "Test Average Precision Score: 0.397481\n",
      "-----------------------------------\n",
      "AdaBoost Classifer Under Sampled\n",
      "Test Average Precision Score: 0.399300\n",
      "-----------------------------------\n",
      "Gradient Boosting Classifier Under Sampled\n",
      "Test Average Precision Score: 0.410894\n",
      "-----------------------------------\n",
      "XGB Classifer Under Sampled\n",
      "Test Average Precision Score: 0.406637\n",
      "-----------------------------------\n",
      "LGBM Classifer Under Sampled\n",
      "Test Average Precision Score: 0.416823\n",
      "-----------------------------------\n"
     ]
    }
   ],
   "source": [
    "# Loop through models and rerun using the under sampled data\n",
    "model_rus_results = []\n",
    "for model in models:\n",
    "    model_desc = model['Model Description'] + ' Under Sampled'\n",
    "    print(model_desc)\n",
    "    results = evaluate_model(model_desc, model['Classifier'], X_train_rus, y_train_rus)\n",
    "    print('Test Average Precision Score:', \"{:.6f}\".format(results['Test Results']['Average Precision Score']))\n",
    "    print('-----------------------------------')\n",
    "    model_rus_results.append(results)"
   ]
  },
  {
   "cell_type": "code",
   "execution_count": 38,
   "id": "committed-attempt",
   "metadata": {},
   "outputs": [
    {
     "name": "stdout",
     "output_type": "stream",
     "text": [
      "Finished loading model, total used 100 iterations\n"
     ]
    },
    {
     "data": {
      "text/html": [
       "<div>\n",
       "<style scoped>\n",
       "    .dataframe tbody tr th:only-of-type {\n",
       "        vertical-align: middle;\n",
       "    }\n",
       "\n",
       "    .dataframe tbody tr th {\n",
       "        vertical-align: top;\n",
       "    }\n",
       "\n",
       "    .dataframe thead th {\n",
       "        text-align: right;\n",
       "    }\n",
       "</style>\n",
       "<table border=\"1\" class=\"dataframe\">\n",
       "  <thead>\n",
       "    <tr style=\"text-align: right;\">\n",
       "      <th></th>\n",
       "      <th>Model Description</th>\n",
       "      <th>Training Time</th>\n",
       "      <th>Test Results.Accuracy Score</th>\n",
       "      <th>Test Results.Precision Score</th>\n",
       "      <th>Test Results.Recall Score</th>\n",
       "      <th>Test Results.F1 Score</th>\n",
       "      <th>Test Results.F2 Score</th>\n",
       "      <th>Test Results.False Omission Rate</th>\n",
       "      <th>Test Results.Average Precision Score</th>\n",
       "    </tr>\n",
       "  </thead>\n",
       "  <tbody>\n",
       "    <tr>\n",
       "      <th>6</th>\n",
       "      <td>LGBM Classifer Under Sampled</td>\n",
       "      <td>0.937612</td>\n",
       "      <td>0.671917</td>\n",
       "      <td>0.345395</td>\n",
       "      <td>0.700944</td>\n",
       "      <td>0.462762</td>\n",
       "      <td>0.581272</td>\n",
       "      <td>0.102023</td>\n",
       "      <td>0.416823</td>\n",
       "    </tr>\n",
       "    <tr>\n",
       "      <th>4</th>\n",
       "      <td>Gradient Boosting Classifier Under Sampled</td>\n",
       "      <td>30.777250</td>\n",
       "      <td>0.664712</td>\n",
       "      <td>0.338767</td>\n",
       "      <td>0.696777</td>\n",
       "      <td>0.455886</td>\n",
       "      <td>0.575202</td>\n",
       "      <td>0.104421</td>\n",
       "      <td>0.410894</td>\n",
       "    </tr>\n",
       "    <tr>\n",
       "      <th>5</th>\n",
       "      <td>XGB Classifer Under Sampled</td>\n",
       "      <td>6.443331</td>\n",
       "      <td>0.669490</td>\n",
       "      <td>0.342229</td>\n",
       "      <td>0.693643</td>\n",
       "      <td>0.458329</td>\n",
       "      <td>0.575462</td>\n",
       "      <td>0.104422</td>\n",
       "      <td>0.406637</td>\n",
       "    </tr>\n",
       "    <tr>\n",
       "      <th>3</th>\n",
       "      <td>AdaBoost Classifer Under Sampled</td>\n",
       "      <td>6.654130</td>\n",
       "      <td>0.656844</td>\n",
       "      <td>0.331610</td>\n",
       "      <td>0.691502</td>\n",
       "      <td>0.448258</td>\n",
       "      <td>0.568175</td>\n",
       "      <td>0.107290</td>\n",
       "      <td>0.399300</td>\n",
       "    </tr>\n",
       "    <tr>\n",
       "      <th>2</th>\n",
       "      <td>Random Forest Classifier Under Sampled</td>\n",
       "      <td>13.103240</td>\n",
       "      <td>0.656466</td>\n",
       "      <td>0.332228</td>\n",
       "      <td>0.697198</td>\n",
       "      <td>0.450015</td>\n",
       "      <td>0.571609</td>\n",
       "      <td>0.105797</td>\n",
       "      <td>0.397481</td>\n",
       "    </tr>\n",
       "    <tr>\n",
       "      <th>0</th>\n",
       "      <td>Logistic Regression Under Sampled</td>\n",
       "      <td>3.104959</td>\n",
       "      <td>0.653838</td>\n",
       "      <td>0.330643</td>\n",
       "      <td>0.700103</td>\n",
       "      <td>0.449159</td>\n",
       "      <td>0.572223</td>\n",
       "      <td>0.105476</td>\n",
       "      <td>0.392919</td>\n",
       "    </tr>\n",
       "    <tr>\n",
       "      <th>1</th>\n",
       "      <td>Gaussian Naive Bayes Under Sampled</td>\n",
       "      <td>0.130651</td>\n",
       "      <td>0.618745</td>\n",
       "      <td>0.301321</td>\n",
       "      <td>0.675867</td>\n",
       "      <td>0.416814</td>\n",
       "      <td>0.541299</td>\n",
       "      <td>0.119270</td>\n",
       "      <td>0.324324</td>\n",
       "    </tr>\n",
       "  </tbody>\n",
       "</table>\n",
       "</div>"
      ],
      "text/plain": [
       "                            Model Description  Training Time  \\\n",
       "6                LGBM Classifer Under Sampled       0.937612   \n",
       "4  Gradient Boosting Classifier Under Sampled      30.777250   \n",
       "5                 XGB Classifer Under Sampled       6.443331   \n",
       "3            AdaBoost Classifer Under Sampled       6.654130   \n",
       "2      Random Forest Classifier Under Sampled      13.103240   \n",
       "0           Logistic Regression Under Sampled       3.104959   \n",
       "1          Gaussian Naive Bayes Under Sampled       0.130651   \n",
       "\n",
       "   Test Results.Accuracy Score  Test Results.Precision Score  \\\n",
       "6                     0.671917                      0.345395   \n",
       "4                     0.664712                      0.338767   \n",
       "5                     0.669490                      0.342229   \n",
       "3                     0.656844                      0.331610   \n",
       "2                     0.656466                      0.332228   \n",
       "0                     0.653838                      0.330643   \n",
       "1                     0.618745                      0.301321   \n",
       "\n",
       "   Test Results.Recall Score  Test Results.F1 Score  Test Results.F2 Score  \\\n",
       "6                   0.700944               0.462762               0.581272   \n",
       "4                   0.696777               0.455886               0.575202   \n",
       "5                   0.693643               0.458329               0.575462   \n",
       "3                   0.691502               0.448258               0.568175   \n",
       "2                   0.697198               0.450015               0.571609   \n",
       "0                   0.700103               0.449159               0.572223   \n",
       "1                   0.675867               0.416814               0.541299   \n",
       "\n",
       "   Test Results.False Omission Rate  Test Results.Average Precision Score  \n",
       "6                          0.102023                              0.416823  \n",
       "4                          0.104421                              0.410894  \n",
       "5                          0.104422                              0.406637  \n",
       "3                          0.107290                              0.399300  \n",
       "2                          0.105797                              0.397481  \n",
       "0                          0.105476                              0.392919  \n",
       "1                          0.119270                              0.324324  "
      ]
     },
     "execution_count": 38,
     "metadata": {},
     "output_type": "execute_result"
    }
   ],
   "source": [
    "models_rus_df = pd.json_normalize(model_rus_results)\n",
    "models_rus_df = models_rus_df[['Model Description', 'Training Time', 'Test Results.Accuracy Score', \n",
    "                                      'Test Results.Precision Score', 'Test Results.Recall Score', \n",
    "                                      'Test Results.F1 Score', 'Test Results.F2 Score', \n",
    "                                      'Test Results.False Omission Rate', 'Test Results.Average Precision Score']]\n",
    "models_rus_df.sort_values(by='Test Results.Average Precision Score', ascending=False)"
   ]
  },
  {
   "cell_type": "markdown",
   "id": "searching-colors",
   "metadata": {},
   "source": [
    "The LGBM Classifier performed the best for both the initial default model and using the random under-sampled data.  Comparing the default models to the random under-sampled data models really demonstrates the tradeoff between Precision and Recall in the Average Precision Score metric.  The Average Precision Score was quite similar in each run but with the random under-sampled data Recall improved at the cost of Precision.  Let's plot the Precision Recall Curves for both LGBM Classifier models to visualize that tradeoff."
   ]
  },
  {
   "cell_type": "code",
   "execution_count": 39,
   "id": "olympic-occupation",
   "metadata": {},
   "outputs": [
    {
     "data": {
      "image/png": "[encoded data removed]",
      "text/plain": [
       "<Figure size 720x360 with 1 Axes>"
      ]
     },
     "metadata": {
      "needs_background": "light"
     },
     "output_type": "display_data"
    }
   ],
   "source": [
    "fig, ax = plt.subplots(figsize=(10,5))\n",
    "precision, recall, thresholds = metrics.precision_recall_curve(y_test, lgbm_results['Test Results']['Probabilities'])\n",
    "ax.plot(recall, precision, label=lgbm_results['Model Description'])\n",
    "precision_rus, recall_rus, thresholds_rus = metrics.precision_recall_curve(y_test, model_rus_results[6]['Test Results']['Probabilities'])\n",
    "ax.plot(recall_rus, precision_rus, label=model_rus_results[6]['Model Description'], linestyle='--')\n",
    "ax.set_xlabel('Recall')\n",
    "ax.set_ylabel('Precision')\n",
    "plt.legend()\n",
    "plt.title('Precision Recall Curve for LGBM Classifiers')\n",
    "plt.show()"
   ]
  },
  {
   "cell_type": "markdown",
   "id": "sorted-volleyball",
   "metadata": {},
   "source": [
    "The Precision Recall curves demonstrates that the LGBM Classifier using the under-sampled data is virtually the same model but the balanced class probabilities shifts more predictions to `chargeoff` and increases Recall.  Since the models trained on the under-sampled data achieved better Recall, we can accomplish a similar result using the entire dataset by either:\n",
    "\n",
    "1) Adjusting the class_weight/scale_pos_weight parameters when training the model or<br>\n",
    "2) Using a lower threshold for predictions\n",
    "\n",
    "In the model optimization stage we will explore option 1 further."
   ]
  },
  {
   "cell_type": "code",
   "execution_count": 40,
   "id": "selective-saint",
   "metadata": {},
   "outputs": [
    {
     "data": {
      "image/png": "[encoded data removed]",
      "text/plain": [
       "<Figure size 1296x720 with 1 Axes>"
      ]
     },
     "metadata": {
      "needs_background": "light"
     },
     "output_type": "display_data"
    }
   ],
   "source": [
    "fig, ax = plt.subplots(figsize=(18,10))\n",
    "avg_prec_test = initial_models_df[['Model Description', 'Test Results.Average Precision Score']].copy()\n",
    "avg_prec_test.rename(columns = {'Test Results.Average Precision Score': 'Average Precision Score'}, inplace = True)\n",
    "avg_prec_test['Data'] = 'Test'\n",
    "avg_prec_test.sort_values(by='Average Precision Score', ascending=False, inplace=True)\n",
    "avg_prec_train = initial_models_df[['Model Description', 'Train Results.Average Precision Score']].copy()\n",
    "avg_prec_train.rename(columns = {'Train Results.Average Precision Score': 'Average Precision Score'}, inplace = True)\n",
    "avg_prec_train['Data'] = 'Train'\n",
    "\n",
    "avg_prec_df = pd.concat([avg_prec_test, avg_prec_train], axis=0)\n",
    "sns.barplot(x=\"Model Description\", y=\"Average Precision Score\", hue='Data', data=avg_prec_df, ax=ax)\n",
    "plt.show()"
   ]
  },
  {
   "cell_type": "markdown",
   "id": "living-modern",
   "metadata": {},
   "source": [
    "The LGBM Classifier has the highest Average Precision Score on the Test data and the XGB Classifier performed the best on the Train data.  In the next stage we will optimize both of these classifiers to see if the XGB Classifier can be tuned to outperform the LGBM classifier."
   ]
  },
  {
   "cell_type": "markdown",
   "id": "occupied-tunnel",
   "metadata": {},
   "source": [
    "### 4.5 Model Optimization"
   ]
  },
  {
   "cell_type": "markdown",
   "id": "plastic-paintball",
   "metadata": {},
   "source": [
    "For model optimization purposes we will focus on the F2 Score since this evaluation metric puts more weight on Recall."
   ]
  },
  {
   "cell_type": "code",
   "execution_count": 41,
   "id": "corresponding-dialogue",
   "metadata": {},
   "outputs": [],
   "source": [
    "# Make a custom scorer using f2_score\n",
    "f2_scorer = metrics.make_scorer(metrics.fbeta_score, beta=2)"
   ]
  },
  {
   "cell_type": "markdown",
   "id": "scientific-macro",
   "metadata": {},
   "source": [
    "#### 4.5.1 XGBClassifier Parameter Tuning"
   ]
  },
  {
   "cell_type": "markdown",
   "id": "announced-ocean",
   "metadata": {},
   "source": [
    "##### 4.5.1.1 Positive Class Weight GridSearch"
   ]
  },
  {
   "cell_type": "markdown",
   "id": "unusual-accuracy",
   "metadata": {},
   "source": [
    "Let's first perform a GridSearch to identify the optimal positive class weight."
   ]
  },
  {
   "cell_type": "code",
   "execution_count": 42,
   "id": "following-clinic",
   "metadata": {},
   "outputs": [
    {
     "name": "stdout",
     "output_type": "stream",
     "text": [
      "Best Score:0.6035813314751918\n",
      "Best Parameters: {'scale_pos_weight': 10}\n"
     ]
    }
   ],
   "source": [
    "from sklearn.model_selection import GridSearchCV\n",
    "\n",
    "weights = [1, 2, 5, 10, 20]\n",
    "gs_params = dict(scale_pos_weight=weights)\n",
    "\n",
    "xgbc = xgb.XGBClassifier(eval_metric='aucpr', use_label_encoder=False, random_state=SEED)\n",
    "\n",
    "xgbc_gs = GridSearchCV(estimator=xgbc, param_grid=gs_params, \n",
    "                    cv=5, scoring=f2_scorer)\n",
    "\n",
    "xgbc_gs.fit(X_train, y_train)\n",
    "\n",
    "print(\"Best Score:\" + str(xgbc_gs.best_score_))\n",
    "print(\"Best Parameters: \" + str(xgbc_gs.best_params_))"
   ]
  },
  {
   "cell_type": "markdown",
   "id": "statutory-variation",
   "metadata": {},
   "source": [
    "##### 4.5.1.2 Hyper-parameter Optimization"
   ]
  },
  {
   "cell_type": "code",
   "execution_count": 43,
   "id": "thorough-venue",
   "metadata": {},
   "outputs": [],
   "source": [
    "# Format input params for XGBClassifier\n",
    "def xgbc_format_params(params):\n",
    "    params = {\n",
    "        'max_depth': int(params['max_depth']),\n",
    "        'min_child_weight': int(params['min_child_weight']),\n",
    "        'gamma': \"{:.3f}\".format(params['gamma']),\n",
    "        'subsample': '{:.3f}'.format(params['subsample']),\n",
    "        'colsample_bytree': '{:.3f}'.format(params['colsample_bytree']),\n",
    "    }\n",
    "    return params"
   ]
  },
  {
   "cell_type": "code",
   "execution_count": 44,
   "id": "signal-infrared",
   "metadata": {},
   "outputs": [],
   "source": [
    "# Define objective function for XGBClassifier\n",
    "from hyperopt import fmin, tpe, hp, STATUS_OK, Trials\n",
    "from sklearn.model_selection import cross_val_score\n",
    "\n",
    "# Define loss objective function\n",
    "def xgbc_objective(params):\n",
    "    params = xgbc_format_params(params)\n",
    "    \n",
    "    clf = xgb.XGBClassifier(eval_metric='aucpr', use_label_encoder=False, scale_pos_weight=10, \n",
    "                            **params, random_state=SEED)\n",
    "    \n",
    "    f2score_mean = cross_val_score(clf, X_train, y_train, cv=5, scoring=f2_scorer).mean()\n",
    "\n",
    "    return {'loss': -f2score_mean, 'status': STATUS_OK}"
   ]
  },
  {
   "cell_type": "code",
   "execution_count": 45,
   "id": "prompt-playlist",
   "metadata": {},
   "outputs": [],
   "source": [
    "# Define optimization parameters for xgbc\n",
    "xgbc_space = {\n",
    "    'max_depth': hp.quniform('max_depth', 3, 15, 1),\n",
    "    'min_child_weight': hp.quniform('min_child_weight', 0, 10, 1),\n",
    "    'gamma': hp.uniform('gamma', 0.0, 10.0),\n",
    "    'subsample': hp.uniform('subsample', 0.3, 1.0),\n",
    "    'colsample_bytree': hp.uniform('colsample_bytree', 0.3, 1.0)\n",
    "}"
   ]
  },
  {
   "cell_type": "code",
   "execution_count": 46,
   "id": "capital-number",
   "metadata": {},
   "outputs": [
    {
     "name": "stdout",
     "output_type": "stream",
     "text": [
      "100%|██████████████████████████████████████████████| 10/10 [29:58<00:00, 179.89s/trial, best loss: -0.6047984402337827]\n"
     ]
    }
   ],
   "source": [
    "trials = Trials()\n",
    "\n",
    "xgbc_best = fmin(fn=xgbc_objective, space=xgbc_space, algo=tpe.suggest, max_evals=10, trials=trials)"
   ]
  },
  {
   "cell_type": "code",
   "execution_count": 47,
   "id": "acquired-corrections",
   "metadata": {},
   "outputs": [
    {
     "name": "stdout",
     "output_type": "stream",
     "text": [
      "XGBClassifier Hyperopt estimated optimum {'colsample_bytree': 0.32186035506164334, 'gamma': 6.4277417393871605, 'max_depth': 5.0, 'min_child_weight': 9.0, 'subsample': 0.8419736581007031}\n"
     ]
    }
   ],
   "source": [
    "print(\"XGBClassifier Hyperopt estimated optimum {}\".format(xgbc_best))"
   ]
  },
  {
   "cell_type": "code",
   "execution_count": 48,
   "id": "listed-washer",
   "metadata": {},
   "outputs": [
    {
     "data": {
      "text/plain": [
       "{'Predictions': array([1, 1, 1, ..., 1, 1, 1]),\n",
       " 'Probabilities': array([0.84, 0.54, 0.59, ..., 0.75, 0.84, 0.83], dtype=float32),\n",
       " 'Accuracy Score': 0.4400613411833608,\n",
       " 'Precision Score': 0.2548862510278522,\n",
       " 'Recall Score': 0.9242708054589243,\n",
       " 'F1 Score': 0.39958022426601225,\n",
       " 'F2 Score': 0.6059831373374638,\n",
       " 'Average Precision Score': 0.4173165616129584,\n",
       " 'False Omission Rate': 0.056749169244872236}"
      ]
     },
     "execution_count": 48,
     "metadata": {},
     "output_type": "execute_result"
    }
   ],
   "source": [
    "# Fit final optimized model and evaluate on test data\n",
    "params = {\n",
    "    'max_depth': int(xgbc_best['max_depth']),\n",
    "    'min_child_weight': int(xgbc_best['min_child_weight']),\n",
    "    'gamma': \"{:.3f}\".format(xgbc_best['gamma']),\n",
    "    'subsample': '{:.3f}'.format(xgbc_best['subsample']),\n",
    "    'colsample_bytree': '{:.3f}'.format(xgbc_best['colsample_bytree']),\n",
    "    }\n",
    "xgbc_opt = xgb.XGBClassifier(eval_metric='aucpr', use_label_encoder=False, scale_pos_weight=10,\n",
    "                             **params, random_state=SEED)\n",
    "xgbc_opt.fit(X_train, y_train)\n",
    "model_metrics(xgbc_opt, X_test, y_test)"
   ]
  },
  {
   "cell_type": "markdown",
   "id": "manual-conversion",
   "metadata": {},
   "source": [
    "#### 4.5.2 LGBMClassifier Parameter Tuning"
   ]
  },
  {
   "cell_type": "markdown",
   "id": "operational-award",
   "metadata": {},
   "source": [
    "##### 4.5.2.1 Positive Class Weight GridSearch"
   ]
  },
  {
   "cell_type": "code",
   "execution_count": 49,
   "id": "recorded-domain",
   "metadata": {},
   "outputs": [
    {
     "name": "stdout",
     "output_type": "stream",
     "text": [
      "Best Score:0.6048911279696336\n",
      "Best Parameters: {'scale_pos_weight': 10}\n"
     ]
    }
   ],
   "source": [
    "lgbc = lgb.LGBMClassifier(random_state=SEED)\n",
    "\n",
    "lgbc_gs = GridSearchCV(estimator=lgbc, param_grid=gs_params, \n",
    "                    cv=5, scoring=f2_scorer)\n",
    "\n",
    "lgbc_gs.fit(X_train, y_train)\n",
    "\n",
    "print(\"Best Score:\" + str(lgbc_gs.best_score_))\n",
    "print(\"Best Parameters: \" + str(lgbc_gs.best_params_))"
   ]
  },
  {
   "cell_type": "markdown",
   "id": "middle-capacity",
   "metadata": {},
   "source": [
    "##### 4.5.2.2 Hyper-parameter Optimization"
   ]
  },
  {
   "cell_type": "code",
   "execution_count": 50,
   "id": "retained-sense",
   "metadata": {},
   "outputs": [],
   "source": [
    "def lgbc_format_params(params):\n",
    "    params = {\n",
    "        'num_leaves': int(params['num_leaves']),\n",
    "        'min_child_samples': int(params['min_child_samples']),\n",
    "        'max_bin': int(params['max_bin']),\n",
    "        'learning_rate': \"{:.3f}\".format(params['learning_rate']),\n",
    "        'subsample': '{:.3f}'.format(params['subsample']),\n",
    "        'colsample_bytree': '{:.3f}'.format(params['colsample_bytree']),\n",
    "    }\n",
    "    return params"
   ]
  },
  {
   "cell_type": "code",
   "execution_count": 51,
   "id": "primary-metabolism",
   "metadata": {},
   "outputs": [],
   "source": [
    "# Define loss objective function\n",
    "def lgbc_objective(params):\n",
    "    params = lgbc_format_params(params)\n",
    "    \n",
    "    clf = lgb.LGBMClassifier(scale_pos_weight=10, **params, random_state=SEED)\n",
    "    \n",
    "    f2score_mean = cross_val_score(clf, X_train, y_train, cv=5, scoring=f2_scorer).mean()\n",
    "\n",
    "    return {'loss': -f2score_mean, 'status': STATUS_OK}"
   ]
  },
  {
   "cell_type": "code",
   "execution_count": 52,
   "id": "oriental-parent",
   "metadata": {},
   "outputs": [],
   "source": [
    "# Define optimization parameters for lgbc\n",
    "lgbc_space = {\n",
    "    \"n_estimators\": hp.quniform('max_depth', 100, 1000, 1),\n",
    "    'num_leaves': hp.quniform('num_leaves', 1, 50, 1),\n",
    "    'min_child_samples': hp.quniform('min_child_samples', 1, 100, 1),\n",
    "    'max_bin': hp.quniform('max_bin', 1, 1000, 1),\n",
    "    'learning_rate': hp.uniform('learning_rate', 0.0, 1.0),\n",
    "    'subsample': hp.uniform('subsample', 0.3, 1.0),\n",
    "    'colsample_bytree': hp.uniform('colsample_bytree', 0.3, 1.0)\n",
    "}"
   ]
  },
  {
   "cell_type": "code",
   "execution_count": 53,
   "id": "republican-index",
   "metadata": {},
   "outputs": [
    {
     "name": "stdout",
     "output_type": "stream",
     "text": [
      "100%|███████████████████████████████████████████████| 10/10 [02:01<00:00, 12.20s/trial, best loss: -0.6050750015107708]\n"
     ]
    }
   ],
   "source": [
    "trials = Trials()\n",
    "\n",
    "lgbc_best = fmin(fn=lgbc_objective, space=lgbc_space, algo=tpe.suggest, max_evals=10, trials=trials)"
   ]
  },
  {
   "cell_type": "code",
   "execution_count": 54,
   "id": "muslim-spectacular",
   "metadata": {},
   "outputs": [
    {
     "name": "stdout",
     "output_type": "stream",
     "text": [
      "LGBMClassifier Hyperopt estimated optimum {'colsample_bytree': 0.32537107933824205, 'learning_rate': 0.16859916101923522, 'max_bin': 717.0, 'max_depth': 369.0, 'min_child_samples': 21.0, 'num_leaves': 45.0, 'subsample': 0.6379305688544765}\n"
     ]
    }
   ],
   "source": [
    "print(\"LGBMClassifier Hyperopt estimated optimum {}\".format(lgbc_best))"
   ]
  },
  {
   "cell_type": "code",
   "execution_count": 55,
   "id": "wrong-bryan",
   "metadata": {},
   "outputs": [
    {
     "data": {
      "text/plain": [
       "{'Predictions': array([1, 1, 1, ..., 1, 1, 1], dtype=int8),\n",
       " 'Probabilities': array([0.85, 0.62, 0.55, ..., 0.73, 0.81, 0.8 ]),\n",
       " 'Accuracy Score': 0.4389516514341199,\n",
       " 'Precision Score': 0.25491267522750677,\n",
       " 'Recall Score': 0.9273290263389273,\n",
       " 'F1 Score': 0.399897791808508,\n",
       " 'F2 Score': 0.6070631337651028,\n",
       " 'Average Precision Score': 0.4181636372470532,\n",
       " 'False Omission Rate': 0.054935845566986476}"
      ]
     },
     "execution_count": 55,
     "metadata": {},
     "output_type": "execute_result"
    }
   ],
   "source": [
    "lgbc_params = lgbc_format_params(lgbc_best)\n",
    "\n",
    "lgbc_opt = lgb.LGBMClassifier(scale_pos_weight=10, **lgbc_params, random_state=SEED)\n",
    "lgbc_opt.fit(X_train, y_train)\n",
    "model_metrics(lgbc_opt, X_test, y_test)"
   ]
  },
  {
   "cell_type": "markdown",
   "id": "graphic-management",
   "metadata": {},
   "source": [
    "### 4.6 Model Selection"
   ]
  },
  {
   "cell_type": "markdown",
   "id": "crucial-single",
   "metadata": {},
   "source": [
    "The LGBMClassifier model performs the best with an F2 Score and Average Precision Score of **.607** and **.418** respectively on the test data.  The False Omission Rate has improved significantly from **20.16%** in the naive Dummy Classifier to **5.5%**.  The training time is significantly faster as observed in each tuning trial of **12.2** seconds per trial vs. **179.89** seconds per trial for the XGBClassifier model."
   ]
  },
  {
   "cell_type": "code",
   "execution_count": 73,
   "id": "outside-michael",
   "metadata": {},
   "outputs": [
    {
     "name": "stdout",
     "output_type": "stream",
     "text": [
      "Final LGBMClassifier Classification Report:\n",
      "              precision    recall  f1-score   support\n",
      "\n",
      "     Paidoff       0.95      0.32      0.47    103607\n",
      "   Chargeoff       0.25      0.93      0.40     26159\n",
      "\n",
      "    accuracy                           0.44    129766\n",
      "   macro avg       0.60      0.62      0.44    129766\n",
      "weighted avg       0.81      0.44      0.46    129766\n",
      "\n"
     ]
    },
    {
     "data": {
      "image/png": "[encoded data removed]",
      "text/plain": [
       "<Figure size 432x288 with 2 Axes>"
      ]
     },
     "metadata": {
      "needs_background": "light"
     },
     "output_type": "display_data"
    }
   ],
   "source": [
    "final_pred = lgbc_opt.predict(X_test)\n",
    "final_prob = lgbc_opt.predict_proba(X_test)[:, 1]\n",
    "print('Final LGBMClassifier Classification Report:')\n",
    "print(metrics.classification_report(y_test, final_pred, target_names=classes))\n",
    "plot_confusion_matrix(metrics.confusion_matrix(y_test, final_pred), \n",
    "                      classes=classes, title='Final LGBMClassifier Model')"
   ]
  },
  {
   "cell_type": "code",
   "execution_count": 64,
   "id": "accessory-crystal",
   "metadata": {},
   "outputs": [
    {
     "data": {
      "image/png": "[encoded data removed]",
      "text/plain": [
       "<Figure size 1080x720 with 1 Axes>"
      ]
     },
     "metadata": {
      "needs_background": "light"
     },
     "output_type": "display_data"
    }
   ],
   "source": [
    "fig, ax = plt.subplots(figsize=(15,10))\n",
    "lgb.plot_importance(lgbc_opt, ax=ax)\n",
    "plt.show()"
   ]
  },
  {
   "cell_type": "markdown",
   "id": "excessive-verse",
   "metadata": {},
   "source": [
    "### 4.7 Summary"
   ]
  },
  {
   "cell_type": "markdown",
   "id": "competent-canvas",
   "metadata": {},
   "source": [
    "In order to maximize the return on our investment portfolio we have evaluated 7 different classification models:\n",
    "\n",
    "1. LogisticRegression\n",
    "2. GaussianNB\n",
    "3. RandomForestClassifier\n",
    "4. AdaBoostClassifier\n",
    "5. GradientBoostingClassifier\n",
    "6. XGBClassifier\n",
    "7. LGBMClassifier\n",
    "\n",
    "We selected the top 2 performing models (XGBClassifier and LGBMClassifier) and optimized the parameters for final model selection using a GridSearch and Automated Bayesian approach.\n",
    "\n",
    "In practice this model will be used to score potential predictions so let's simulate a Scorecard and Simple Rate of Return for 40 loans with an investment of $25 per loan.  The Scorecard will be weighted 40% for the Interest Rate and 60% for Chargeoff Probability."
   ]
  },
  {
   "cell_type": "code",
   "execution_count": 209,
   "id": "completed-fiction",
   "metadata": {},
   "outputs": [
    {
     "name": "stdout",
     "output_type": "stream",
     "text": [
      "The average number of chargeoffs in the investment pool is: 5.00%\n",
      "The average rate of return is: 22.21%\n"
     ]
    }
   ],
   "source": [
    "from sklearn.preprocessing import MinMaxScaler\n",
    "scaler = MinMaxScaler()\n",
    "\n",
    "scorecard_weights = [.40, .60]\n",
    "investment = 25\n",
    "\n",
    "X_test_copy = X_test.copy()\n",
    "\n",
    "X_test_copy['chargeoff_prediction'] = final_pred\n",
    "X_test_copy['chargeoff_probability'] = final_prob\n",
    "\n",
    "# Scale Interest Rate so it is on the same scale as the probabilities\n",
    "df['borrower_rate_scaled'] = scaler.fit_transform(df[['borrower_rate']])\n",
    "\n",
    "# Combine with original df\n",
    "df_scorecard = df.merge(X_test_copy[['chargeoff_prediction', 'chargeoff_probability']], left_index=True, right_index=True)\n",
    "\n",
    "# Calculate weights and investment score\n",
    "df_scorecard['borrower_rate_weight'] = df_scorecard['borrower_rate_scaled'] * scorecard_weights[0]\n",
    "df_scorecard['chargeoff_probability_weight'] = (1 - df_scorecard['chargeoff_probability']) * scorecard_weights[1]\n",
    "df_scorecard['investment_score'] = df_scorecard['borrower_rate_weight'] + df_scorecard['chargeoff_probability_weight']\n",
    "\n",
    "# Calculate investment rate of return\n",
    "df_scorecard['investment'] = investment\n",
    "df_scorecard.loc[df_scorecard['chargeoff'] == 1, 'principal'] = 0\n",
    "df_scorecard['principal'].fillna(df_scorecard['investment'], inplace=True)\n",
    "df_scorecard['gain'] = (df_scorecard['principal'] * df_scorecard['borrower_rate']) * (df_scorecard['listing_term'] / 12)\n",
    "df_scorecard['ror'] = ((df_scorecard['investment'] + df_scorecard['gain']) / df_scorecard['investment']) ** (1 / (df_scorecard['listing_term'] / 12)) - 1\n",
    "df_investments = df_scorecard.loc[df_scorecard['chargeoff_prediction'] == 0]\n",
    "df_investments.sort_values(by='investment_score', ascending=False, inplace=True)\n",
    "# Select top 40 investments\n",
    "df_investments_selected = df_investments.head(40)\n",
    "print('The average number of chargeoffs in the investment pool is: ' + '{:.2%}'.format(df_investments_selected['chargeoff'].mean()))\n",
    "print('The average rate of return is: ' + '{:.2%}'.format(df_investments_selected['ror'].mean()))"
   ]
  },
  {
   "cell_type": "code",
   "execution_count": 217,
   "id": "considerable-creation",
   "metadata": {},
   "outputs": [
    {
     "name": "stdout",
     "output_type": "stream",
     "text": [
      "The average number of chargeoffs in the total loan pool is: 22.50%\n",
      "The average rate of return is: 9.92%\n"
     ]
    }
   ],
   "source": [
    "df_random = df_scorecard.sample(40, random_state=SEED)\n",
    "print('The average number of chargeoffs in the total loan pool is: ' + '{:.2%}'.format(df_random['chargeoff'].mean()))\n",
    "print('The average rate of return is: ' + '{:.2%}'.format(df_random['ror'].mean()))"
   ]
  },
  {
   "cell_type": "markdown",
   "id": "shared-psychology",
   "metadata": {},
   "source": [
    "By modeling chargeoffs we can reduce default risk exposure and maximize rate of return by selecting higher quality loans.  The example above is used for illustration purposes only as we typically would choose investments from new loan listings and would also spread investments out over time."
   ]
  },
  {
   "cell_type": "code",
   "execution_count": null,
   "id": "willing-consultation",
   "metadata": {},
   "outputs": [],
   "source": []
  }
 ],
 "metadata": {
  "kernelspec": {
   "display_name": "Python 3",
   "language": "python",
   "name": "python3"
  },
  "language_info": {
   "codemirror_mode": {
    "name": "ipython",
    "version": 3
   },
   "file_extension": ".py",
   "mimetype": "text/x-python",
   "name": "python",
   "nbconvert_exporter": "python",
   "pygments_lexer": "ipython3",
   "version": "3.9.1"
  }
 },
 "nbformat": 4,
 "nbformat_minor": 5
}
