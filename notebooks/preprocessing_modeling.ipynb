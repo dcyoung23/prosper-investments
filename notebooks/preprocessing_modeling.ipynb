{
 "cells": [
  {
   "cell_type": "markdown",
   "id": "animal-trading",
   "metadata": {},
   "source": [
    "# Prosper Investments Loan Chargeoff Modeling"
   ]
  },
  {
   "cell_type": "markdown",
   "id": "automotive-aging",
   "metadata": {},
   "source": [
    "## Problem Statement"
   ]
  },
  {
   "cell_type": "markdown",
   "id": "hollywood-china",
   "metadata": {},
   "source": [
    "What opportunities exist as an individual investor to achieve a total portfolio return of at least 6.5% within the next 3 years by identifying high quality loan listings that maximizes interest yield but minimizes principal charge off loss exposure?"
   ]
  },
  {
   "cell_type": "markdown",
   "id": "meaningful-pavilion",
   "metadata": {},
   "source": [
    "## Context"
   ]
  },
  {
   "cell_type": "markdown",
   "id": "canadian-deposit",
   "metadata": {},
   "source": [
    "Prosper is a peer-to-peer lending marketplace that was founded in 2005 and has facilitated more than \\\\$18 billion in loans to more than 1 million people in the United States.  Borrowers apply online for personal loans ranging between \\\\$2,000 and \\\\$40,000 and individuals can invest in these loans.\n",
    "\n",
    "Personal loans are unsecured notes since they are not collateralized by property such as an automobile or real estate.  These loans typically have higher interest rates to account for the higher risk of borrower default.  Prosper investments have historically yielded return of 5.3% so they can offer a way for individuals to diversify their portfolio beyond traditional investments.\n",
    "\n",
    "The goal is to identify the highest quality loans to invest in to maximum rate of return.  The borrower can either:\n",
    "\n",
    "1) Pay off the entire principal of the loan or<br>\n",
    "2) Default on their loan and some percentage of the original principal loan amount charges off.  \n",
    "\n",
    "We are most concerned with False negatives (FN), Type II errors, since this is the situation when the true status of the loan is `chargeoff` but the model predicted the full principal amount will be be `paid off`.  FN prediction errors increase the loss exposure in the pool of potential investments.\n",
    "\n",
    "False positives (FP), Type I errors, is not as much of a concern since there is a finite amount of capital available for investing.  We will exclude all predicted `chargeoff` loans from the pool of potential investments but FP errors do represent, to some degree, opportunity cost for potential higher yield investments."
   ]
  },
  {
   "cell_type": "markdown",
   "id": "likely-penetration",
   "metadata": {},
   "source": [
    "# 3 Preprocessing<a id='3_preprocessing'></a>"
   ]
  },
  {
   "cell_type": "code",
   "execution_count": 1,
   "id": "french-capitol",
   "metadata": {},
   "outputs": [],
   "source": [
    "# Import libraries\n",
    "import itertools\n",
    "from time import time\n",
    "import os\n",
    "import csv\n",
    "import json\n",
    "import numpy as np\n",
    "import pandas as pd\n",
    "import matplotlib.pyplot as plt\n",
    "import seaborn as sns\n",
    "\n",
    "# Ignore warnings for clean output in notebook\n",
    "import warnings\n",
    "warnings.filterwarnings('ignore')"
   ]
  },
  {
   "cell_type": "markdown",
   "id": "romance-adventure",
   "metadata": {},
   "source": [
    "## 3.1 Load Data"
   ]
  },
  {
   "cell_type": "code",
   "execution_count": 2,
   "id": "joined-universal",
   "metadata": {},
   "outputs": [],
   "source": [
    "# Data directory references\n",
    "intermediate_dir = r'..\\data\\intermediate'"
   ]
  },
  {
   "cell_type": "code",
   "execution_count": 3,
   "id": "combined-square",
   "metadata": {},
   "outputs": [],
   "source": [
    "# Load dtypes from df_clean from data wrangling step\n",
    "dtypes_fn = 'clean_dtypes.json'\n",
    "with open(os.path.join(intermediate_dir, dtypes_fn)) as f:\n",
    "          clean_dtypes = json.load(f)\n",
    "# Some models cannot handle Int16 data types\n",
    "clean_dtypes['prosper_score'] = 'int32'\n",
    "clean_dtypes['income_range'] = 'int32'"
   ]
  },
  {
   "cell_type": "code",
   "execution_count": 4,
   "id": "solved-boulder",
   "metadata": {},
   "outputs": [
    {
     "name": "stdout",
     "output_type": "stream",
     "text": [
      "<class 'pandas.core.frame.DataFrame'>\n",
      "RangeIndex: 579634 entries, 0 to 579633\n",
      "Data columns (total 71 columns):\n",
      " #   Column                                            Non-Null Count   Dtype         \n",
      "---  ------                                            --------------   -----         \n",
      " 0   listing_number                                    579634 non-null  int64         \n",
      " 1   origination_month                                 579634 non-null  float32       \n",
      " 2   chargeoff_amount                                  579634 non-null  float32       \n",
      " 3   debt_sale_recovery                                579634 non-null  float32       \n",
      " 4   principal_paid                                    579634 non-null  float32       \n",
      " 5   interest_paid                                     579634 non-null  float32       \n",
      " 6   chargeoff                                         579634 non-null  int8          \n",
      " 7   closed_month                                      579634 non-null  float32       \n",
      " 8   listing_creation_date                             579634 non-null  datetime64[ns]\n",
      " 9   loan_origination_date                             579634 non-null  datetime64[ns]\n",
      " 10  listing_status                                    579634 non-null  Int16         \n",
      " 11  listing_amount                                    579634 non-null  float32       \n",
      " 12  prosper_rating                                    579634 non-null  object        \n",
      " 13  lender_yield                                      579634 non-null  float32       \n",
      " 14  borrower_rate                                     579634 non-null  float32       \n",
      " 15  borrower_apr                                      579634 non-null  float32       \n",
      " 16  listing_term                                      579634 non-null  Int16         \n",
      " 17  listing_monthly_payment                           579634 non-null  float32       \n",
      " 18  prosper_score                                     579634 non-null  int32         \n",
      " 19  income_range                                      579634 non-null  int32         \n",
      " 20  stated_monthly_income                             579634 non-null  float32       \n",
      " 21  income_verifiable                                 579634 non-null  object        \n",
      " 22  employment_status_description                     579634 non-null  object        \n",
      " 23  occupation                                        579634 non-null  object        \n",
      " 24  months_employed                                   579634 non-null  Int32         \n",
      " 25  borrower_state                                    579634 non-null  object        \n",
      " 26  prior_prosper_loans_active                        579634 non-null  float32       \n",
      " 27  prior_prosper_loans                               579634 non-null  float32       \n",
      " 28  prior_prosper_loans_principal_borrowed            579634 non-null  float32       \n",
      " 29  prior_prosper_loans_principal_outstanding         579634 non-null  float32       \n",
      " 30  prior_prosper_loans_balance_outstanding           579634 non-null  float32       \n",
      " 31  prior_prosper_loans_cycles_billed                 579634 non-null  float32       \n",
      " 32  prior_prosper_loans_ontime_payments               579634 non-null  float32       \n",
      " 33  prior_prosper_loans_late_cycles                   579634 non-null  float32       \n",
      " 34  prior_prosper_loans_late_payments_one_month_plus  579634 non-null  float32       \n",
      " 35  max_prior_prosper_loan                            579634 non-null  float32       \n",
      " 36  min_prior_prosper_loan                            579634 non-null  float32       \n",
      " 37  prior_prosper_loan_earliest_pay_off               579634 non-null  float32       \n",
      " 38  prior_prosper_loans31dpd                          579634 non-null  float32       \n",
      " 39  prior_prosper_loans61dpd                          579634 non-null  float32       \n",
      " 40  lender_indicator                                  579634 non-null  Int32         \n",
      " 41  AT01S                                             579634 non-null  float32       \n",
      " 42  AT02S                                             579634 non-null  float32       \n",
      " 43  AU01S                                             579634 non-null  float32       \n",
      " 44  G020S                                             579634 non-null  float32       \n",
      " 45  G041S                                             579634 non-null  float32       \n",
      " 46  G042S                                             579634 non-null  float32       \n",
      " 47  G043S                                             579634 non-null  float32       \n",
      " 48  G058S                                             579634 non-null  float32       \n",
      " 49  G059S                                             579634 non-null  float32       \n",
      " 50  G061S                                             579634 non-null  float32       \n",
      " 51  G063S                                             579634 non-null  float32       \n",
      " 52  G064S                                             579634 non-null  float32       \n",
      " 53  G066S                                             579634 non-null  float32       \n",
      " 54  G068S                                             579634 non-null  float32       \n",
      " 55  G069S                                             579634 non-null  float32       \n",
      " 56  G071S                                             579634 non-null  float32       \n",
      " 57  G093S                                             579634 non-null  float32       \n",
      " 58  G103S                                             579634 non-null  float32       \n",
      " 59  HI01S                                             579634 non-null  float32       \n",
      " 60  IN01S                                             579634 non-null  float32       \n",
      " 61  IN09S                                             579634 non-null  float32       \n",
      " 62  IN21S                                             579634 non-null  float32       \n",
      " 63  MT01S                                             579634 non-null  float32       \n",
      " 64  OF01S                                             579634 non-null  float32       \n",
      " 65  RE01S                                             579634 non-null  float32       \n",
      " 66  RE21S                                             579634 non-null  float32       \n",
      " 67  RT01S                                             579634 non-null  float32       \n",
      " 68  S207S                                             579634 non-null  float32       \n",
      " 69  dti_wprosper_loan                                 579634 non-null  float32       \n",
      " 70  co_borrower_application                           579634 non-null  object        \n",
      "dtypes: Int16(2), Int32(2), datetime64[ns](2), float32(55), int32(2), int64(1), int8(1), object(6)\n",
      "memory usage: 175.2+ MB\n"
     ]
    }
   ],
   "source": [
    "clean_fn = 'listings_clean.csv'\n",
    "# Pass datetime fields to parse_dates\n",
    "dtype = {k: v for k, v in clean_dtypes.items() if v != 'datetime64[ns]'}\n",
    "parse_dates = [k for k, v in clean_dtypes.items() if v == 'datetime64[ns]']\n",
    "df_clean = pd.read_csv(os.path.join(intermediate_dir, clean_fn), dtype=dtype, parse_dates=parse_dates)\n",
    "df_clean.info()"
   ]
  },
  {
   "cell_type": "code",
   "execution_count": 5,
   "id": "dutch-devon",
   "metadata": {},
   "outputs": [
    {
     "data": {
      "text/html": [
       "<div>\n",
       "<style scoped>\n",
       "    .dataframe tbody tr th:only-of-type {\n",
       "        vertical-align: middle;\n",
       "    }\n",
       "\n",
       "    .dataframe tbody tr th {\n",
       "        vertical-align: top;\n",
       "    }\n",
       "\n",
       "    .dataframe thead th {\n",
       "        text-align: right;\n",
       "    }\n",
       "</style>\n",
       "<table border=\"1\" class=\"dataframe\">\n",
       "  <thead>\n",
       "    <tr style=\"text-align: right;\">\n",
       "      <th></th>\n",
       "      <th>listing_number</th>\n",
       "      <th>origination_month</th>\n",
       "      <th>chargeoff_amount</th>\n",
       "      <th>debt_sale_recovery</th>\n",
       "      <th>principal_paid</th>\n",
       "      <th>interest_paid</th>\n",
       "      <th>chargeoff</th>\n",
       "      <th>closed_month</th>\n",
       "      <th>listing_status</th>\n",
       "      <th>listing_amount</th>\n",
       "      <th>...</th>\n",
       "      <th>IN01S</th>\n",
       "      <th>IN09S</th>\n",
       "      <th>IN21S</th>\n",
       "      <th>MT01S</th>\n",
       "      <th>OF01S</th>\n",
       "      <th>RE01S</th>\n",
       "      <th>RE21S</th>\n",
       "      <th>RT01S</th>\n",
       "      <th>S207S</th>\n",
       "      <th>dti_wprosper_loan</th>\n",
       "    </tr>\n",
       "  </thead>\n",
       "  <tbody>\n",
       "    <tr>\n",
       "      <th>count</th>\n",
       "      <td>5.796340e+05</td>\n",
       "      <td>579634.000000</td>\n",
       "      <td>579634.000000</td>\n",
       "      <td>579634.000000</td>\n",
       "      <td>579634.000000</td>\n",
       "      <td>579634.000000</td>\n",
       "      <td>579634.00000</td>\n",
       "      <td>579634.00000</td>\n",
       "      <td>579634.0</td>\n",
       "      <td>579634.000000</td>\n",
       "      <td>...</td>\n",
       "      <td>579634.000000</td>\n",
       "      <td>579634.000000</td>\n",
       "      <td>579634.000000</td>\n",
       "      <td>579634.000000</td>\n",
       "      <td>579634.000000</td>\n",
       "      <td>579634.000000</td>\n",
       "      <td>579634.000000</td>\n",
       "      <td>579634.000000</td>\n",
       "      <td>579634.000000</td>\n",
       "      <td>579634.000000</td>\n",
       "    </tr>\n",
       "    <tr>\n",
       "      <th>mean</th>\n",
       "      <td>6.262138e+06</td>\n",
       "      <td>201683.750000</td>\n",
       "      <td>1691.917725</td>\n",
       "      <td>167.806305</td>\n",
       "      <td>11700.482422</td>\n",
       "      <td>2737.887451</td>\n",
       "      <td>0.18536</td>\n",
       "      <td>201900.40625</td>\n",
       "      <td>6.0</td>\n",
       "      <td>13379.106445</td>\n",
       "      <td>...</td>\n",
       "      <td>7.283216</td>\n",
       "      <td>1.523641</td>\n",
       "      <td>20.731136</td>\n",
       "      <td>1.412691</td>\n",
       "      <td>1.492154</td>\n",
       "      <td>13.605087</td>\n",
       "      <td>13.210032</td>\n",
       "      <td>5.201783</td>\n",
       "      <td>3.714865</td>\n",
       "      <td>0.261039</td>\n",
       "    </tr>\n",
       "    <tr>\n",
       "      <th>std</th>\n",
       "      <td>2.295038e+06</td>\n",
       "      <td>137.205292</td>\n",
       "      <td>4561.408203</td>\n",
       "      <td>510.223389</td>\n",
       "      <td>8311.404297</td>\n",
       "      <td>2547.056885</td>\n",
       "      <td>0.38859</td>\n",
       "      <td>81.94915</td>\n",
       "      <td>0.0</td>\n",
       "      <td>8099.694824</td>\n",
       "      <td>...</td>\n",
       "      <td>6.726820</td>\n",
       "      <td>1.659852</td>\n",
       "      <td>27.767914</td>\n",
       "      <td>1.683995</td>\n",
       "      <td>2.742183</td>\n",
       "      <td>8.163167</td>\n",
       "      <td>30.788761</td>\n",
       "      <td>4.533339</td>\n",
       "      <td>25.884546</td>\n",
       "      <td>0.117930</td>\n",
       "    </tr>\n",
       "    <tr>\n",
       "      <th>min</th>\n",
       "      <td>6.935680e+05</td>\n",
       "      <td>201302.000000</td>\n",
       "      <td>0.000000</td>\n",
       "      <td>0.000000</td>\n",
       "      <td>0.000000</td>\n",
       "      <td>0.000000</td>\n",
       "      <td>0.00000</td>\n",
       "      <td>201801.00000</td>\n",
       "      <td>6.0</td>\n",
       "      <td>2000.000000</td>\n",
       "      <td>...</td>\n",
       "      <td>-4.000000</td>\n",
       "      <td>-5.000000</td>\n",
       "      <td>-5.000000</td>\n",
       "      <td>-4.000000</td>\n",
       "      <td>-4.000000</td>\n",
       "      <td>-4.000000</td>\n",
       "      <td>-4.000000</td>\n",
       "      <td>-4.000000</td>\n",
       "      <td>-4.000000</td>\n",
       "      <td>0.000000</td>\n",
       "    </tr>\n",
       "    <tr>\n",
       "      <th>25%</th>\n",
       "      <td>4.459776e+06</td>\n",
       "      <td>201601.000000</td>\n",
       "      <td>0.000000</td>\n",
       "      <td>0.000000</td>\n",
       "      <td>5000.000000</td>\n",
       "      <td>975.349976</td>\n",
       "      <td>0.00000</td>\n",
       "      <td>201809.00000</td>\n",
       "      <td>6.0</td>\n",
       "      <td>7500.000000</td>\n",
       "      <td>...</td>\n",
       "      <td>3.000000</td>\n",
       "      <td>0.000000</td>\n",
       "      <td>6.000000</td>\n",
       "      <td>0.000000</td>\n",
       "      <td>0.000000</td>\n",
       "      <td>8.000000</td>\n",
       "      <td>4.000000</td>\n",
       "      <td>2.000000</td>\n",
       "      <td>-4.000000</td>\n",
       "      <td>0.170000</td>\n",
       "    </tr>\n",
       "    <tr>\n",
       "      <th>50%</th>\n",
       "      <td>6.347226e+06</td>\n",
       "      <td>201706.000000</td>\n",
       "      <td>0.000000</td>\n",
       "      <td>0.000000</td>\n",
       "      <td>10000.000000</td>\n",
       "      <td>1942.775024</td>\n",
       "      <td>0.00000</td>\n",
       "      <td>201905.00000</td>\n",
       "      <td>6.0</td>\n",
       "      <td>12000.000000</td>\n",
       "      <td>...</td>\n",
       "      <td>6.000000</td>\n",
       "      <td>1.000000</td>\n",
       "      <td>12.000000</td>\n",
       "      <td>1.000000</td>\n",
       "      <td>0.000000</td>\n",
       "      <td>12.000000</td>\n",
       "      <td>8.000000</td>\n",
       "      <td>4.000000</td>\n",
       "      <td>-4.000000</td>\n",
       "      <td>0.250000</td>\n",
       "    </tr>\n",
       "    <tr>\n",
       "      <th>75%</th>\n",
       "      <td>7.896140e+06</td>\n",
       "      <td>201803.000000</td>\n",
       "      <td>0.000000</td>\n",
       "      <td>0.000000</td>\n",
       "      <td>15000.000000</td>\n",
       "      <td>3677.442444</td>\n",
       "      <td>0.00000</td>\n",
       "      <td>202003.00000</td>\n",
       "      <td>6.0</td>\n",
       "      <td>18000.000000</td>\n",
       "      <td>...</td>\n",
       "      <td>10.000000</td>\n",
       "      <td>2.000000</td>\n",
       "      <td>23.000000</td>\n",
       "      <td>2.000000</td>\n",
       "      <td>2.000000</td>\n",
       "      <td>18.000000</td>\n",
       "      <td>16.000000</td>\n",
       "      <td>7.000000</td>\n",
       "      <td>-4.000000</td>\n",
       "      <td>0.330000</td>\n",
       "    </tr>\n",
       "    <tr>\n",
       "      <th>max</th>\n",
       "      <td>1.186894e+07</td>\n",
       "      <td>202012.000000</td>\n",
       "      <td>40000.000000</td>\n",
       "      <td>8359.160156</td>\n",
       "      <td>40000.000000</td>\n",
       "      <td>22950.960938</td>\n",
       "      <td>1.00000</td>\n",
       "      <td>202012.00000</td>\n",
       "      <td>6.0</td>\n",
       "      <td>40000.000000</td>\n",
       "      <td>...</td>\n",
       "      <td>281.000000</td>\n",
       "      <td>50.000000</td>\n",
       "      <td>528.000000</td>\n",
       "      <td>71.000000</td>\n",
       "      <td>118.000000</td>\n",
       "      <td>150.000000</td>\n",
       "      <td>9999.000000</td>\n",
       "      <td>85.000000</td>\n",
       "      <td>999.000000</td>\n",
       "      <td>0.860000</td>\n",
       "    </tr>\n",
       "  </tbody>\n",
       "</table>\n",
       "<p>8 rows × 63 columns</p>\n",
       "</div>"
      ],
      "text/plain": [
       "       listing_number  origination_month  chargeoff_amount  \\\n",
       "count    5.796340e+05      579634.000000     579634.000000   \n",
       "mean     6.262138e+06      201683.750000       1691.917725   \n",
       "std      2.295038e+06         137.205292       4561.408203   \n",
       "min      6.935680e+05      201302.000000          0.000000   \n",
       "25%      4.459776e+06      201601.000000          0.000000   \n",
       "50%      6.347226e+06      201706.000000          0.000000   \n",
       "75%      7.896140e+06      201803.000000          0.000000   \n",
       "max      1.186894e+07      202012.000000      40000.000000   \n",
       "\n",
       "       debt_sale_recovery  principal_paid  interest_paid     chargeoff  \\\n",
       "count       579634.000000   579634.000000  579634.000000  579634.00000   \n",
       "mean           167.806305    11700.482422    2737.887451       0.18536   \n",
       "std            510.223389     8311.404297    2547.056885       0.38859   \n",
       "min              0.000000        0.000000       0.000000       0.00000   \n",
       "25%              0.000000     5000.000000     975.349976       0.00000   \n",
       "50%              0.000000    10000.000000    1942.775024       0.00000   \n",
       "75%              0.000000    15000.000000    3677.442444       0.00000   \n",
       "max           8359.160156    40000.000000   22950.960938       1.00000   \n",
       "\n",
       "       closed_month  listing_status  listing_amount  ...          IN01S  \\\n",
       "count  579634.00000        579634.0   579634.000000  ...  579634.000000   \n",
       "mean   201900.40625             6.0    13379.106445  ...       7.283216   \n",
       "std        81.94915             0.0     8099.694824  ...       6.726820   \n",
       "min    201801.00000             6.0     2000.000000  ...      -4.000000   \n",
       "25%    201809.00000             6.0     7500.000000  ...       3.000000   \n",
       "50%    201905.00000             6.0    12000.000000  ...       6.000000   \n",
       "75%    202003.00000             6.0    18000.000000  ...      10.000000   \n",
       "max    202012.00000             6.0    40000.000000  ...     281.000000   \n",
       "\n",
       "               IN09S          IN21S          MT01S          OF01S  \\\n",
       "count  579634.000000  579634.000000  579634.000000  579634.000000   \n",
       "mean        1.523641      20.731136       1.412691       1.492154   \n",
       "std         1.659852      27.767914       1.683995       2.742183   \n",
       "min        -5.000000      -5.000000      -4.000000      -4.000000   \n",
       "25%         0.000000       6.000000       0.000000       0.000000   \n",
       "50%         1.000000      12.000000       1.000000       0.000000   \n",
       "75%         2.000000      23.000000       2.000000       2.000000   \n",
       "max        50.000000     528.000000      71.000000     118.000000   \n",
       "\n",
       "               RE01S          RE21S          RT01S          S207S  \\\n",
       "count  579634.000000  579634.000000  579634.000000  579634.000000   \n",
       "mean       13.605087      13.210032       5.201783       3.714865   \n",
       "std         8.163167      30.788761       4.533339      25.884546   \n",
       "min        -4.000000      -4.000000      -4.000000      -4.000000   \n",
       "25%         8.000000       4.000000       2.000000      -4.000000   \n",
       "50%        12.000000       8.000000       4.000000      -4.000000   \n",
       "75%        18.000000      16.000000       7.000000      -4.000000   \n",
       "max       150.000000    9999.000000      85.000000     999.000000   \n",
       "\n",
       "       dti_wprosper_loan  \n",
       "count      579634.000000  \n",
       "mean            0.261039  \n",
       "std             0.117930  \n",
       "min             0.000000  \n",
       "25%             0.170000  \n",
       "50%             0.250000  \n",
       "75%             0.330000  \n",
       "max             0.860000  \n",
       "\n",
       "[8 rows x 63 columns]"
      ]
     },
     "execution_count": 5,
     "metadata": {},
     "output_type": "execute_result"
    }
   ],
   "source": [
    "df_clean.describe()"
   ]
  },
  {
   "cell_type": "code",
   "execution_count": 6,
   "id": "religious-nevada",
   "metadata": {},
   "outputs": [
    {
     "data": {
      "text/html": [
       "<div>\n",
       "<style scoped>\n",
       "    .dataframe tbody tr th:only-of-type {\n",
       "        vertical-align: middle;\n",
       "    }\n",
       "\n",
       "    .dataframe tbody tr th {\n",
       "        vertical-align: top;\n",
       "    }\n",
       "\n",
       "    .dataframe thead th {\n",
       "        text-align: right;\n",
       "    }\n",
       "</style>\n",
       "<table border=\"1\" class=\"dataframe\">\n",
       "  <thead>\n",
       "    <tr style=\"text-align: right;\">\n",
       "      <th></th>\n",
       "      <th>listing_number</th>\n",
       "      <th>origination_month</th>\n",
       "      <th>chargeoff_amount</th>\n",
       "      <th>debt_sale_recovery</th>\n",
       "      <th>principal_paid</th>\n",
       "      <th>interest_paid</th>\n",
       "      <th>chargeoff</th>\n",
       "      <th>closed_month</th>\n",
       "      <th>listing_status</th>\n",
       "      <th>listing_amount</th>\n",
       "      <th>...</th>\n",
       "      <th>IN01S</th>\n",
       "      <th>IN09S</th>\n",
       "      <th>IN21S</th>\n",
       "      <th>MT01S</th>\n",
       "      <th>OF01S</th>\n",
       "      <th>RE01S</th>\n",
       "      <th>RE21S</th>\n",
       "      <th>RT01S</th>\n",
       "      <th>S207S</th>\n",
       "      <th>dti_wprosper_loan</th>\n",
       "    </tr>\n",
       "  </thead>\n",
       "  <tbody>\n",
       "    <tr>\n",
       "      <th>count</th>\n",
       "      <td>4.325510e+05</td>\n",
       "      <td>432551.000000</td>\n",
       "      <td>432551.000000</td>\n",
       "      <td>432551.000000</td>\n",
       "      <td>432551.00000</td>\n",
       "      <td>432551.000000</td>\n",
       "      <td>432551.000000</td>\n",
       "      <td>432551.000000</td>\n",
       "      <td>432551.0</td>\n",
       "      <td>432551.000000</td>\n",
       "      <td>...</td>\n",
       "      <td>432551.000000</td>\n",
       "      <td>432551.000000</td>\n",
       "      <td>432551.000000</td>\n",
       "      <td>432551.000000</td>\n",
       "      <td>432551.000000</td>\n",
       "      <td>432551.000000</td>\n",
       "      <td>432551.000000</td>\n",
       "      <td>432551.000000</td>\n",
       "      <td>432551.000000</td>\n",
       "      <td>432551.000000</td>\n",
       "    </tr>\n",
       "    <tr>\n",
       "      <th>mean</th>\n",
       "      <td>5.760034e+06</td>\n",
       "      <td>201654.531250</td>\n",
       "      <td>1854.869873</td>\n",
       "      <td>186.808975</td>\n",
       "      <td>11535.62500</td>\n",
       "      <td>2620.359131</td>\n",
       "      <td>0.201856</td>\n",
       "      <td>201864.031250</td>\n",
       "      <td>6.0</td>\n",
       "      <td>13366.694336</td>\n",
       "      <td>...</td>\n",
       "      <td>7.113645</td>\n",
       "      <td>1.505249</td>\n",
       "      <td>21.232773</td>\n",
       "      <td>1.400318</td>\n",
       "      <td>1.496325</td>\n",
       "      <td>13.845487</td>\n",
       "      <td>13.016334</td>\n",
       "      <td>5.159584</td>\n",
       "      <td>3.164811</td>\n",
       "      <td>0.263984</td>\n",
       "    </tr>\n",
       "    <tr>\n",
       "      <th>std</th>\n",
       "      <td>2.135328e+06</td>\n",
       "      <td>128.384445</td>\n",
       "      <td>4739.128418</td>\n",
       "      <td>533.104309</td>\n",
       "      <td>8279.59668</td>\n",
       "      <td>2425.640381</td>\n",
       "      <td>0.401386</td>\n",
       "      <td>61.580696</td>\n",
       "      <td>0.0</td>\n",
       "      <td>8041.244629</td>\n",
       "      <td>...</td>\n",
       "      <td>6.556548</td>\n",
       "      <td>1.645911</td>\n",
       "      <td>28.675198</td>\n",
       "      <td>1.664719</td>\n",
       "      <td>2.741379</td>\n",
       "      <td>8.177282</td>\n",
       "      <td>34.246483</td>\n",
       "      <td>4.468955</td>\n",
       "      <td>24.666348</td>\n",
       "      <td>0.118422</td>\n",
       "    </tr>\n",
       "    <tr>\n",
       "      <th>min</th>\n",
       "      <td>6.935680e+05</td>\n",
       "      <td>201302.000000</td>\n",
       "      <td>0.000000</td>\n",
       "      <td>0.000000</td>\n",
       "      <td>0.00000</td>\n",
       "      <td>0.000000</td>\n",
       "      <td>0.000000</td>\n",
       "      <td>201801.000000</td>\n",
       "      <td>6.0</td>\n",
       "      <td>2000.000000</td>\n",
       "      <td>...</td>\n",
       "      <td>-4.000000</td>\n",
       "      <td>-5.000000</td>\n",
       "      <td>-5.000000</td>\n",
       "      <td>-4.000000</td>\n",
       "      <td>-4.000000</td>\n",
       "      <td>-4.000000</td>\n",
       "      <td>-4.000000</td>\n",
       "      <td>-4.000000</td>\n",
       "      <td>-4.000000</td>\n",
       "      <td>0.000000</td>\n",
       "    </tr>\n",
       "    <tr>\n",
       "      <th>25%</th>\n",
       "      <td>4.115003e+06</td>\n",
       "      <td>201512.000000</td>\n",
       "      <td>0.000000</td>\n",
       "      <td>0.000000</td>\n",
       "      <td>5000.00000</td>\n",
       "      <td>938.445007</td>\n",
       "      <td>0.000000</td>\n",
       "      <td>201807.000000</td>\n",
       "      <td>6.0</td>\n",
       "      <td>7500.000000</td>\n",
       "      <td>...</td>\n",
       "      <td>3.000000</td>\n",
       "      <td>0.000000</td>\n",
       "      <td>6.000000</td>\n",
       "      <td>0.000000</td>\n",
       "      <td>0.000000</td>\n",
       "      <td>8.000000</td>\n",
       "      <td>4.000000</td>\n",
       "      <td>2.000000</td>\n",
       "      <td>-4.000000</td>\n",
       "      <td>0.170000</td>\n",
       "    </tr>\n",
       "    <tr>\n",
       "      <th>50%</th>\n",
       "      <td>5.801216e+06</td>\n",
       "      <td>201702.000000</td>\n",
       "      <td>0.000000</td>\n",
       "      <td>0.000000</td>\n",
       "      <td>10000.00000</td>\n",
       "      <td>1865.560059</td>\n",
       "      <td>0.000000</td>\n",
       "      <td>201901.000000</td>\n",
       "      <td>6.0</td>\n",
       "      <td>12000.000000</td>\n",
       "      <td>...</td>\n",
       "      <td>5.000000</td>\n",
       "      <td>1.000000</td>\n",
       "      <td>12.000000</td>\n",
       "      <td>1.000000</td>\n",
       "      <td>0.000000</td>\n",
       "      <td>12.000000</td>\n",
       "      <td>8.000000</td>\n",
       "      <td>4.000000</td>\n",
       "      <td>-4.000000</td>\n",
       "      <td>0.250000</td>\n",
       "    </tr>\n",
       "    <tr>\n",
       "      <th>75%</th>\n",
       "      <td>7.356352e+06</td>\n",
       "      <td>201712.000000</td>\n",
       "      <td>0.000000</td>\n",
       "      <td>0.000000</td>\n",
       "      <td>15000.00000</td>\n",
       "      <td>3526.964966</td>\n",
       "      <td>0.000000</td>\n",
       "      <td>201907.000000</td>\n",
       "      <td>6.0</td>\n",
       "      <td>18000.000000</td>\n",
       "      <td>...</td>\n",
       "      <td>9.000000</td>\n",
       "      <td>2.000000</td>\n",
       "      <td>24.000000</td>\n",
       "      <td>2.000000</td>\n",
       "      <td>2.000000</td>\n",
       "      <td>18.000000</td>\n",
       "      <td>16.000000</td>\n",
       "      <td>7.000000</td>\n",
       "      <td>-4.000000</td>\n",
       "      <td>0.340000</td>\n",
       "    </tr>\n",
       "    <tr>\n",
       "      <th>max</th>\n",
       "      <td>1.113610e+07</td>\n",
       "      <td>202002.000000</td>\n",
       "      <td>40000.000000</td>\n",
       "      <td>8359.160156</td>\n",
       "      <td>40000.00000</td>\n",
       "      <td>21686.869141</td>\n",
       "      <td>1.000000</td>\n",
       "      <td>202002.000000</td>\n",
       "      <td>6.0</td>\n",
       "      <td>40000.000000</td>\n",
       "      <td>...</td>\n",
       "      <td>138.000000</td>\n",
       "      <td>50.000000</td>\n",
       "      <td>528.000000</td>\n",
       "      <td>49.000000</td>\n",
       "      <td>118.000000</td>\n",
       "      <td>128.000000</td>\n",
       "      <td>9999.000000</td>\n",
       "      <td>85.000000</td>\n",
       "      <td>124.000000</td>\n",
       "      <td>0.860000</td>\n",
       "    </tr>\n",
       "  </tbody>\n",
       "</table>\n",
       "<p>8 rows × 63 columns</p>\n",
       "</div>"
      ],
      "text/plain": [
       "       listing_number  origination_month  chargeoff_amount  \\\n",
       "count    4.325510e+05      432551.000000     432551.000000   \n",
       "mean     5.760034e+06      201654.531250       1854.869873   \n",
       "std      2.135328e+06         128.384445       4739.128418   \n",
       "min      6.935680e+05      201302.000000          0.000000   \n",
       "25%      4.115003e+06      201512.000000          0.000000   \n",
       "50%      5.801216e+06      201702.000000          0.000000   \n",
       "75%      7.356352e+06      201712.000000          0.000000   \n",
       "max      1.113610e+07      202002.000000      40000.000000   \n",
       "\n",
       "       debt_sale_recovery  principal_paid  interest_paid      chargeoff  \\\n",
       "count       432551.000000    432551.00000  432551.000000  432551.000000   \n",
       "mean           186.808975     11535.62500    2620.359131       0.201856   \n",
       "std            533.104309      8279.59668    2425.640381       0.401386   \n",
       "min              0.000000         0.00000       0.000000       0.000000   \n",
       "25%              0.000000      5000.00000     938.445007       0.000000   \n",
       "50%              0.000000     10000.00000    1865.560059       0.000000   \n",
       "75%              0.000000     15000.00000    3526.964966       0.000000   \n",
       "max           8359.160156     40000.00000   21686.869141       1.000000   \n",
       "\n",
       "        closed_month  listing_status  listing_amount  ...          IN01S  \\\n",
       "count  432551.000000        432551.0   432551.000000  ...  432551.000000   \n",
       "mean   201864.031250             6.0    13366.694336  ...       7.113645   \n",
       "std        61.580696             0.0     8041.244629  ...       6.556548   \n",
       "min    201801.000000             6.0     2000.000000  ...      -4.000000   \n",
       "25%    201807.000000             6.0     7500.000000  ...       3.000000   \n",
       "50%    201901.000000             6.0    12000.000000  ...       5.000000   \n",
       "75%    201907.000000             6.0    18000.000000  ...       9.000000   \n",
       "max    202002.000000             6.0    40000.000000  ...     138.000000   \n",
       "\n",
       "               IN09S          IN21S          MT01S          OF01S  \\\n",
       "count  432551.000000  432551.000000  432551.000000  432551.000000   \n",
       "mean        1.505249      21.232773       1.400318       1.496325   \n",
       "std         1.645911      28.675198       1.664719       2.741379   \n",
       "min        -5.000000      -5.000000      -4.000000      -4.000000   \n",
       "25%         0.000000       6.000000       0.000000       0.000000   \n",
       "50%         1.000000      12.000000       1.000000       0.000000   \n",
       "75%         2.000000      24.000000       2.000000       2.000000   \n",
       "max        50.000000     528.000000      49.000000     118.000000   \n",
       "\n",
       "               RE01S          RE21S          RT01S          S207S  \\\n",
       "count  432551.000000  432551.000000  432551.000000  432551.000000   \n",
       "mean       13.845487      13.016334       5.159584       3.164811   \n",
       "std         8.177282      34.246483       4.468955      24.666348   \n",
       "min        -4.000000      -4.000000      -4.000000      -4.000000   \n",
       "25%         8.000000       4.000000       2.000000      -4.000000   \n",
       "50%        12.000000       8.000000       4.000000      -4.000000   \n",
       "75%        18.000000      16.000000       7.000000      -4.000000   \n",
       "max       128.000000    9999.000000      85.000000     124.000000   \n",
       "\n",
       "       dti_wprosper_loan  \n",
       "count      432551.000000  \n",
       "mean            0.263984  \n",
       "std             0.118422  \n",
       "min             0.000000  \n",
       "25%             0.170000  \n",
       "50%             0.250000  \n",
       "75%             0.340000  \n",
       "max             0.860000  \n",
       "\n",
       "[8 rows x 63 columns]"
      ]
     },
     "execution_count": 6,
     "metadata": {},
     "output_type": "execute_result"
    }
   ],
   "source": [
    "# Remove all loans closed prior to March 2020 as identified in EDA\n",
    "df_clean = df_clean[df_clean['closed_month'] < 202003]\n",
    "df_clean.describe()"
   ]
  },
  {
   "cell_type": "code",
   "execution_count": 7,
   "id": "metric-steam",
   "metadata": {},
   "outputs": [
    {
     "data": {
      "text/html": [
       "<div>\n",
       "<style scoped>\n",
       "    .dataframe tbody tr th:only-of-type {\n",
       "        vertical-align: middle;\n",
       "    }\n",
       "\n",
       "    .dataframe tbody tr th {\n",
       "        vertical-align: top;\n",
       "    }\n",
       "\n",
       "    .dataframe thead th {\n",
       "        text-align: right;\n",
       "    }\n",
       "</style>\n",
       "<table border=\"1\" class=\"dataframe\">\n",
       "  <thead>\n",
       "    <tr style=\"text-align: right;\">\n",
       "      <th></th>\n",
       "      <th>chargeoff</th>\n",
       "      <th>listing_amount</th>\n",
       "      <th>prosper_rating</th>\n",
       "      <th>borrower_rate</th>\n",
       "      <th>listing_term</th>\n",
       "      <th>prosper_score</th>\n",
       "      <th>income_range</th>\n",
       "      <th>employment_status_description</th>\n",
       "      <th>occupation</th>\n",
       "      <th>borrower_state</th>\n",
       "      <th>...</th>\n",
       "      <th>G093S</th>\n",
       "      <th>G103S</th>\n",
       "      <th>HI01S</th>\n",
       "      <th>IN09S</th>\n",
       "      <th>IN21S</th>\n",
       "      <th>OF01S</th>\n",
       "      <th>RE21S</th>\n",
       "      <th>RT01S</th>\n",
       "      <th>S207S</th>\n",
       "      <th>dti_wprosper_loan</th>\n",
       "    </tr>\n",
       "  </thead>\n",
       "  <tbody>\n",
       "    <tr>\n",
       "      <th>0</th>\n",
       "      <td>1</td>\n",
       "      <td>2000.0</td>\n",
       "      <td>C</td>\n",
       "      <td>0.1970</td>\n",
       "      <td>60</td>\n",
       "      <td>4</td>\n",
       "      <td>4</td>\n",
       "      <td>Employed</td>\n",
       "      <td>Nurse's Aide</td>\n",
       "      <td>OR</td>\n",
       "      <td>...</td>\n",
       "      <td>1.0</td>\n",
       "      <td>12.0</td>\n",
       "      <td>0.0</td>\n",
       "      <td>1.0</td>\n",
       "      <td>15.0</td>\n",
       "      <td>0.0</td>\n",
       "      <td>12.0</td>\n",
       "      <td>6.0</td>\n",
       "      <td>-4.0</td>\n",
       "      <td>0.18</td>\n",
       "    </tr>\n",
       "    <tr>\n",
       "      <th>1</th>\n",
       "      <td>1</td>\n",
       "      <td>7000.0</td>\n",
       "      <td>C</td>\n",
       "      <td>0.1970</td>\n",
       "      <td>60</td>\n",
       "      <td>5</td>\n",
       "      <td>4</td>\n",
       "      <td>Employed</td>\n",
       "      <td>Sales - Retail</td>\n",
       "      <td>CA</td>\n",
       "      <td>...</td>\n",
       "      <td>0.0</td>\n",
       "      <td>9.0</td>\n",
       "      <td>0.0</td>\n",
       "      <td>0.0</td>\n",
       "      <td>44.0</td>\n",
       "      <td>0.0</td>\n",
       "      <td>9.0</td>\n",
       "      <td>5.0</td>\n",
       "      <td>-4.0</td>\n",
       "      <td>0.46</td>\n",
       "    </tr>\n",
       "    <tr>\n",
       "      <th>2</th>\n",
       "      <td>1</td>\n",
       "      <td>32000.0</td>\n",
       "      <td>B</td>\n",
       "      <td>0.1440</td>\n",
       "      <td>60</td>\n",
       "      <td>11</td>\n",
       "      <td>6</td>\n",
       "      <td>Employed</td>\n",
       "      <td>Food Service Management</td>\n",
       "      <td>PA</td>\n",
       "      <td>...</td>\n",
       "      <td>0.0</td>\n",
       "      <td>8.0</td>\n",
       "      <td>0.0</td>\n",
       "      <td>1.0</td>\n",
       "      <td>24.0</td>\n",
       "      <td>0.0</td>\n",
       "      <td>13.0</td>\n",
       "      <td>4.0</td>\n",
       "      <td>-4.0</td>\n",
       "      <td>0.14</td>\n",
       "    </tr>\n",
       "    <tr>\n",
       "      <th>3</th>\n",
       "      <td>1</td>\n",
       "      <td>12000.0</td>\n",
       "      <td>C</td>\n",
       "      <td>0.1980</td>\n",
       "      <td>60</td>\n",
       "      <td>4</td>\n",
       "      <td>4</td>\n",
       "      <td>Employed</td>\n",
       "      <td>Other</td>\n",
       "      <td>NJ</td>\n",
       "      <td>...</td>\n",
       "      <td>2.0</td>\n",
       "      <td>2.0</td>\n",
       "      <td>0.0</td>\n",
       "      <td>2.0</td>\n",
       "      <td>13.0</td>\n",
       "      <td>11.0</td>\n",
       "      <td>2.0</td>\n",
       "      <td>12.0</td>\n",
       "      <td>-4.0</td>\n",
       "      <td>0.26</td>\n",
       "    </tr>\n",
       "    <tr>\n",
       "      <th>4</th>\n",
       "      <td>1</td>\n",
       "      <td>15000.0</td>\n",
       "      <td>C</td>\n",
       "      <td>0.2024</td>\n",
       "      <td>60</td>\n",
       "      <td>3</td>\n",
       "      <td>6</td>\n",
       "      <td>Employed</td>\n",
       "      <td>Attorney</td>\n",
       "      <td>AK</td>\n",
       "      <td>...</td>\n",
       "      <td>0.0</td>\n",
       "      <td>12.0</td>\n",
       "      <td>2.0</td>\n",
       "      <td>0.0</td>\n",
       "      <td>25.0</td>\n",
       "      <td>14.0</td>\n",
       "      <td>27.0</td>\n",
       "      <td>1.0</td>\n",
       "      <td>-4.0</td>\n",
       "      <td>0.25</td>\n",
       "    </tr>\n",
       "  </tbody>\n",
       "</table>\n",
       "<p>5 rows × 23 columns</p>\n",
       "</div>"
      ],
      "text/plain": [
       "   chargeoff  listing_amount prosper_rating  borrower_rate  listing_term  \\\n",
       "0          1          2000.0              C         0.1970            60   \n",
       "1          1          7000.0              C         0.1970            60   \n",
       "2          1         32000.0              B         0.1440            60   \n",
       "3          1         12000.0              C         0.1980            60   \n",
       "4          1         15000.0              C         0.2024            60   \n",
       "\n",
       "   prosper_score  income_range employment_status_description  \\\n",
       "0              4             4                      Employed   \n",
       "1              5             4                      Employed   \n",
       "2             11             6                      Employed   \n",
       "3              4             4                      Employed   \n",
       "4              3             6                      Employed   \n",
       "\n",
       "                occupation borrower_state  ...  G093S  G103S  HI01S  IN09S  \\\n",
       "0             Nurse's Aide             OR  ...    1.0   12.0    0.0    1.0   \n",
       "1           Sales - Retail             CA  ...    0.0    9.0    0.0    0.0   \n",
       "2  Food Service Management             PA  ...    0.0    8.0    0.0    1.0   \n",
       "3                    Other             NJ  ...    2.0    2.0    0.0    2.0   \n",
       "4                 Attorney             AK  ...    0.0   12.0    2.0    0.0   \n",
       "\n",
       "   IN21S  OF01S  RE21S  RT01S  S207S  dti_wprosper_loan  \n",
       "0   15.0    0.0   12.0    6.0   -4.0               0.18  \n",
       "1   44.0    0.0    9.0    5.0   -4.0               0.46  \n",
       "2   24.0    0.0   13.0    4.0   -4.0               0.14  \n",
       "3   13.0   11.0    2.0   12.0   -4.0               0.26  \n",
       "4   25.0   14.0   27.0    1.0   -4.0               0.25  \n",
       "\n",
       "[5 rows x 23 columns]"
      ]
     },
     "execution_count": 7,
     "metadata": {},
     "output_type": "execute_result"
    }
   ],
   "source": [
    "# Drop columns identified in EDA stage as well as additional columns included for scenario analysis\n",
    "df = df_clean.drop(['listing_number', 'origination_month', 'chargeoff_amount', \n",
    "                    'debt_sale_recovery', 'principal_paid', 'interest_paid',\n",
    "                    'closed_month', 'listing_creation_date', 'loan_origination_date', \n",
    "                    'listing_status', 'lender_yield', 'borrower_apr', 'listing_monthly_payment', 'stated_monthly_income',\n",
    "                    'income_verifiable', 'months_employed',\n",
    "                    'prior_prosper_loans_active', 'prior_prosper_loans', 'prior_prosper_loans_principal_borrowed',\n",
    "                    'prior_prosper_loans_principal_outstanding', 'prior_prosper_loans_balance_outstanding',\n",
    "                    'prior_prosper_loans_cycles_billed', 'prior_prosper_loans_ontime_payments',\n",
    "                    'prior_prosper_loans_late_cycles', 'prior_prosper_loans_late_payments_one_month_plus',\n",
    "                    'max_prior_prosper_loan', 'min_prior_prosper_loan', 'prior_prosper_loan_earliest_pay_off', \n",
    "                    'prior_prosper_loans31dpd', 'prior_prosper_loans61dpd', \n",
    "                    'AT01S', 'G041S', 'G042S', 'G043S', 'G058S','G059S','G061S', 'G063S', 'G064S', 'G066S', 'G068S', \n",
    "                    'G069S','G071S', 'IN01S', 'MT01S', 'RE01S',\n",
    "                    'lender_indicator', 'co_borrower_application'\n",
    "                   ], errors='ignore', axis=1)\n",
    "\n",
    "\n",
    "df.head()"
   ]
  },
  {
   "cell_type": "markdown",
   "id": "physical-basketball",
   "metadata": {},
   "source": [
    "## 3.2 Transform Data"
   ]
  },
  {
   "cell_type": "markdown",
   "id": "sixth-brother",
   "metadata": {},
   "source": [
    "### 3.2.1 Clean Columns"
   ]
  },
  {
   "cell_type": "code",
   "execution_count": 8,
   "id": "stuck-default",
   "metadata": {},
   "outputs": [
    {
     "data": {
      "text/plain": [
       "Employed         370056\n",
       "Self-employed     31217\n",
       "Other             30674\n",
       "Full-time           574\n",
       "Retired              13\n",
       "Part-time            11\n",
       "Not employed          6\n",
       "Name: employment_status_description, dtype: int64"
      ]
     },
     "execution_count": 8,
     "metadata": {},
     "output_type": "execute_result"
    }
   ],
   "source": [
    "# Review counts of employment_status_description before\n",
    "df['employment_status_description'].value_counts()"
   ]
  },
  {
   "cell_type": "code",
   "execution_count": 9,
   "id": "outside-wednesday",
   "metadata": {},
   "outputs": [
    {
     "data": {
      "text/plain": [
       "Employed         370630\n",
       "Self-employed     31217\n",
       "Other             30704\n",
       "Name: employment_type, dtype: int64"
      ]
     },
     "execution_count": 9,
     "metadata": {},
     "output_type": "execute_result"
    }
   ],
   "source": [
    "# Clean employment_status_description field\n",
    "emp_dict = {'Full-time': 'Employed', 'Retired': 'Other', 'Not employed': 'Other', 'Part-time': 'Other'}\n",
    "df['employment_type'] = df['employment_status_description'].map(emp_dict).fillna(df['employment_status_description'])\n",
    "df['employment_type'].value_counts()"
   ]
  },
  {
   "cell_type": "markdown",
   "id": "opposed-algorithm",
   "metadata": {},
   "source": [
    "### 3.2.2 One-Hot Encoding"
   ]
  },
  {
   "cell_type": "code",
   "execution_count": 10,
   "id": "promising-committee",
   "metadata": {},
   "outputs": [
    {
     "name": "stdout",
     "output_type": "stream",
     "text": [
      "<class 'pandas.core.frame.DataFrame'>\n",
      "Int64Index: 432551 entries, 0 to 575938\n",
      "Data columns (total 41 columns):\n",
      " #   Column                         Non-Null Count   Dtype  \n",
      "---  ------                         --------------   -----  \n",
      " 0   chargeoff                      432551 non-null  int8   \n",
      " 1   listing_amount                 432551 non-null  float32\n",
      " 2   borrower_rate                  432551 non-null  float32\n",
      " 3   occupation                     432551 non-null  object \n",
      " 4   borrower_state                 432551 non-null  object \n",
      " 5   AT02S                          432551 non-null  float32\n",
      " 6   AU01S                          432551 non-null  float32\n",
      " 7   G020S                          432551 non-null  float32\n",
      " 8   G093S                          432551 non-null  float32\n",
      " 9   G103S                          432551 non-null  float32\n",
      " 10  HI01S                          432551 non-null  float32\n",
      " 11  IN09S                          432551 non-null  float32\n",
      " 12  IN21S                          432551 non-null  float32\n",
      " 13  OF01S                          432551 non-null  float32\n",
      " 14  RE21S                          432551 non-null  float32\n",
      " 15  RT01S                          432551 non-null  float32\n",
      " 16  S207S                          432551 non-null  float32\n",
      " 17  dti_wprosper_loan              432551 non-null  float32\n",
      " 18  prosper_score_2                432551 non-null  uint8  \n",
      " 19  prosper_score_3                432551 non-null  uint8  \n",
      " 20  prosper_score_4                432551 non-null  uint8  \n",
      " 21  prosper_score_5                432551 non-null  uint8  \n",
      " 22  prosper_score_6                432551 non-null  uint8  \n",
      " 23  prosper_score_7                432551 non-null  uint8  \n",
      " 24  prosper_score_8                432551 non-null  uint8  \n",
      " 25  prosper_score_9                432551 non-null  uint8  \n",
      " 26  prosper_score_10               432551 non-null  uint8  \n",
      " 27  prosper_score_11               432551 non-null  uint8  \n",
      " 28  income_range_3                 432551 non-null  uint8  \n",
      " 29  income_range_4                 432551 non-null  uint8  \n",
      " 30  income_range_5                 432551 non-null  uint8  \n",
      " 31  income_range_6                 432551 non-null  uint8  \n",
      " 32  prosper_rating_AA              432551 non-null  uint8  \n",
      " 33  prosper_rating_B               432551 non-null  uint8  \n",
      " 34  prosper_rating_C               432551 non-null  uint8  \n",
      " 35  prosper_rating_D               432551 non-null  uint8  \n",
      " 36  prosper_rating_E               432551 non-null  uint8  \n",
      " 37  prosper_rating_HR              432551 non-null  uint8  \n",
      " 38  listing_term_60                432551 non-null  uint8  \n",
      " 39  employment_type_Other          432551 non-null  uint8  \n",
      " 40  employment_type_Self-employed  432551 non-null  uint8  \n",
      "dtypes: float32(15), int8(1), object(2), uint8(23)\n",
      "memory usage: 44.6+ MB\n"
     ]
    }
   ],
   "source": [
    "# Categorical columns that will utilize unsupervised one-hot encoding\n",
    "dummy_cols = ['prosper_score', 'income_range', 'prosper_rating', 'listing_term', 'employment_type']\n",
    "\n",
    "df_transformed = pd.get_dummies(data=df, columns=dummy_cols, drop_first=True)\n",
    "\n",
    "# Drop employment_status_description columns\n",
    "df_transformed = df_transformed.drop(['employment_status_description'], axis=1, errors='ignore')\n",
    "\n",
    "df_transformed.info()"
   ]
  },
  {
   "cell_type": "markdown",
   "id": "above-problem",
   "metadata": {},
   "source": [
    "### 3.2.3 Supervised Categorical Encoding"
   ]
  },
  {
   "cell_type": "code",
   "execution_count": 11,
   "id": "empty-sixth",
   "metadata": {},
   "outputs": [
    {
     "data": {
      "text/html": [
       "<div>\n",
       "<style scoped>\n",
       "    .dataframe tbody tr th:only-of-type {\n",
       "        vertical-align: middle;\n",
       "    }\n",
       "\n",
       "    .dataframe tbody tr th {\n",
       "        vertical-align: top;\n",
       "    }\n",
       "\n",
       "    .dataframe thead th {\n",
       "        text-align: right;\n",
       "    }\n",
       "</style>\n",
       "<table border=\"1\" class=\"dataframe\">\n",
       "  <thead>\n",
       "    <tr style=\"text-align: right;\">\n",
       "      <th></th>\n",
       "      <th>listing_amount</th>\n",
       "      <th>borrower_rate</th>\n",
       "      <th>occupation</th>\n",
       "      <th>borrower_state</th>\n",
       "      <th>AT02S</th>\n",
       "      <th>AU01S</th>\n",
       "      <th>G020S</th>\n",
       "      <th>G093S</th>\n",
       "      <th>G103S</th>\n",
       "      <th>HI01S</th>\n",
       "      <th>...</th>\n",
       "      <th>income_range_6</th>\n",
       "      <th>prosper_rating_AA</th>\n",
       "      <th>prosper_rating_B</th>\n",
       "      <th>prosper_rating_C</th>\n",
       "      <th>prosper_rating_D</th>\n",
       "      <th>prosper_rating_E</th>\n",
       "      <th>prosper_rating_HR</th>\n",
       "      <th>listing_term_60</th>\n",
       "      <th>employment_type_Other</th>\n",
       "      <th>employment_type_Self-employed</th>\n",
       "    </tr>\n",
       "  </thead>\n",
       "  <tbody>\n",
       "    <tr>\n",
       "      <th>313456</th>\n",
       "      <td>20000.0</td>\n",
       "      <td>0.1479</td>\n",
       "      <td>Other</td>\n",
       "      <td>TX</td>\n",
       "      <td>14.0</td>\n",
       "      <td>4.0</td>\n",
       "      <td>16.0</td>\n",
       "      <td>0.0</td>\n",
       "      <td>0.0</td>\n",
       "      <td>0.0</td>\n",
       "      <td>...</td>\n",
       "      <td>0</td>\n",
       "      <td>0</td>\n",
       "      <td>0</td>\n",
       "      <td>1</td>\n",
       "      <td>0</td>\n",
       "      <td>0</td>\n",
       "      <td>0</td>\n",
       "      <td>1</td>\n",
       "      <td>1</td>\n",
       "      <td>0</td>\n",
       "    </tr>\n",
       "    <tr>\n",
       "      <th>218861</th>\n",
       "      <td>7500.0</td>\n",
       "      <td>0.0600</td>\n",
       "      <td>Other</td>\n",
       "      <td>CA</td>\n",
       "      <td>14.0</td>\n",
       "      <td>3.0</td>\n",
       "      <td>0.0</td>\n",
       "      <td>0.0</td>\n",
       "      <td>13.0</td>\n",
       "      <td>0.0</td>\n",
       "      <td>...</td>\n",
       "      <td>0</td>\n",
       "      <td>1</td>\n",
       "      <td>0</td>\n",
       "      <td>0</td>\n",
       "      <td>0</td>\n",
       "      <td>0</td>\n",
       "      <td>0</td>\n",
       "      <td>0</td>\n",
       "      <td>0</td>\n",
       "      <td>0</td>\n",
       "    </tr>\n",
       "    <tr>\n",
       "      <th>285445</th>\n",
       "      <td>10000.0</td>\n",
       "      <td>0.0870</td>\n",
       "      <td>Unknown</td>\n",
       "      <td>TX</td>\n",
       "      <td>16.0</td>\n",
       "      <td>2.0</td>\n",
       "      <td>25.0</td>\n",
       "      <td>0.0</td>\n",
       "      <td>5.0</td>\n",
       "      <td>1.0</td>\n",
       "      <td>...</td>\n",
       "      <td>0</td>\n",
       "      <td>0</td>\n",
       "      <td>0</td>\n",
       "      <td>0</td>\n",
       "      <td>0</td>\n",
       "      <td>0</td>\n",
       "      <td>0</td>\n",
       "      <td>0</td>\n",
       "      <td>1</td>\n",
       "      <td>0</td>\n",
       "    </tr>\n",
       "    <tr>\n",
       "      <th>113452</th>\n",
       "      <td>12000.0</td>\n",
       "      <td>0.1601</td>\n",
       "      <td>Other</td>\n",
       "      <td>WA</td>\n",
       "      <td>11.0</td>\n",
       "      <td>0.0</td>\n",
       "      <td>0.0</td>\n",
       "      <td>0.0</td>\n",
       "      <td>3.0</td>\n",
       "      <td>0.0</td>\n",
       "      <td>...</td>\n",
       "      <td>0</td>\n",
       "      <td>0</td>\n",
       "      <td>0</td>\n",
       "      <td>1</td>\n",
       "      <td>0</td>\n",
       "      <td>0</td>\n",
       "      <td>0</td>\n",
       "      <td>0</td>\n",
       "      <td>0</td>\n",
       "      <td>0</td>\n",
       "    </tr>\n",
       "    <tr>\n",
       "      <th>233219</th>\n",
       "      <td>18000.0</td>\n",
       "      <td>0.1030</td>\n",
       "      <td>Clerical</td>\n",
       "      <td>AZ</td>\n",
       "      <td>14.0</td>\n",
       "      <td>2.0</td>\n",
       "      <td>14.0</td>\n",
       "      <td>0.0</td>\n",
       "      <td>1.0</td>\n",
       "      <td>0.0</td>\n",
       "      <td>...</td>\n",
       "      <td>0</td>\n",
       "      <td>0</td>\n",
       "      <td>1</td>\n",
       "      <td>0</td>\n",
       "      <td>0</td>\n",
       "      <td>0</td>\n",
       "      <td>0</td>\n",
       "      <td>1</td>\n",
       "      <td>0</td>\n",
       "      <td>0</td>\n",
       "    </tr>\n",
       "  </tbody>\n",
       "</table>\n",
       "<p>5 rows × 40 columns</p>\n",
       "</div>"
      ],
      "text/plain": [
       "        listing_amount  borrower_rate occupation borrower_state  AT02S  AU01S  \\\n",
       "313456         20000.0         0.1479      Other             TX   14.0    4.0   \n",
       "218861          7500.0         0.0600      Other             CA   14.0    3.0   \n",
       "285445         10000.0         0.0870    Unknown             TX   16.0    2.0   \n",
       "113452         12000.0         0.1601      Other             WA   11.0    0.0   \n",
       "233219         18000.0         0.1030   Clerical             AZ   14.0    2.0   \n",
       "\n",
       "        G020S  G093S  G103S  HI01S  ...  income_range_6  prosper_rating_AA  \\\n",
       "313456   16.0    0.0    0.0    0.0  ...               0                  0   \n",
       "218861    0.0    0.0   13.0    0.0  ...               0                  1   \n",
       "285445   25.0    0.0    5.0    1.0  ...               0                  0   \n",
       "113452    0.0    0.0    3.0    0.0  ...               0                  0   \n",
       "233219   14.0    0.0    1.0    0.0  ...               0                  0   \n",
       "\n",
       "        prosper_rating_B  prosper_rating_C  prosper_rating_D  \\\n",
       "313456                 0                 1                 0   \n",
       "218861                 0                 0                 0   \n",
       "285445                 0                 0                 0   \n",
       "113452                 0                 1                 0   \n",
       "233219                 1                 0                 0   \n",
       "\n",
       "        prosper_rating_E  prosper_rating_HR  listing_term_60  \\\n",
       "313456                 0                  0                1   \n",
       "218861                 0                  0                0   \n",
       "285445                 0                  0                0   \n",
       "113452                 0                  0                0   \n",
       "233219                 0                  0                1   \n",
       "\n",
       "        employment_type_Other  employment_type_Self-employed  \n",
       "313456                      1                              0  \n",
       "218861                      0                              0  \n",
       "285445                      1                              0  \n",
       "113452                      0                              0  \n",
       "233219                      0                              0  \n",
       "\n",
       "[5 rows x 40 columns]"
      ]
     },
     "execution_count": 11,
     "metadata": {},
     "output_type": "execute_result"
    }
   ],
   "source": [
    "# Split data for train and test sets\n",
    "SEED = 42\n",
    "\n",
    "from sklearn.model_selection import train_test_split\n",
    "X = df_transformed.drop(['chargeoff'], axis=1)\n",
    "y = df_transformed['chargeoff']\n",
    "X_train, X_test, y_train, y_test = train_test_split(X, y, test_size=0.30, random_state=SEED)\n",
    "\n",
    "X_train.head()"
   ]
  },
  {
   "cell_type": "code",
   "execution_count": 12,
   "id": "dense-vanilla",
   "metadata": {},
   "outputs": [
    {
     "data": {
      "text/html": [
       "<div>\n",
       "<style scoped>\n",
       "    .dataframe tbody tr th:only-of-type {\n",
       "        vertical-align: middle;\n",
       "    }\n",
       "\n",
       "    .dataframe tbody tr th {\n",
       "        vertical-align: top;\n",
       "    }\n",
       "\n",
       "    .dataframe thead th {\n",
       "        text-align: right;\n",
       "    }\n",
       "</style>\n",
       "<table border=\"1\" class=\"dataframe\">\n",
       "  <thead>\n",
       "    <tr style=\"text-align: right;\">\n",
       "      <th></th>\n",
       "      <th>listing_amount</th>\n",
       "      <th>borrower_rate</th>\n",
       "      <th>occupation</th>\n",
       "      <th>borrower_state</th>\n",
       "      <th>AT02S</th>\n",
       "      <th>AU01S</th>\n",
       "      <th>G020S</th>\n",
       "      <th>G093S</th>\n",
       "      <th>G103S</th>\n",
       "      <th>HI01S</th>\n",
       "      <th>...</th>\n",
       "      <th>income_range_6</th>\n",
       "      <th>prosper_rating_AA</th>\n",
       "      <th>prosper_rating_B</th>\n",
       "      <th>prosper_rating_C</th>\n",
       "      <th>prosper_rating_D</th>\n",
       "      <th>prosper_rating_E</th>\n",
       "      <th>prosper_rating_HR</th>\n",
       "      <th>listing_term_60</th>\n",
       "      <th>employment_type_Other</th>\n",
       "      <th>employment_type_Self-employed</th>\n",
       "    </tr>\n",
       "  </thead>\n",
       "  <tbody>\n",
       "    <tr>\n",
       "      <th>313456</th>\n",
       "      <td>20000.0</td>\n",
       "      <td>0.1479</td>\n",
       "      <td>-0.001972</td>\n",
       "      <td>0.042682</td>\n",
       "      <td>14.0</td>\n",
       "      <td>4.0</td>\n",
       "      <td>16.0</td>\n",
       "      <td>0.0</td>\n",
       "      <td>0.0</td>\n",
       "      <td>0.0</td>\n",
       "      <td>...</td>\n",
       "      <td>0</td>\n",
       "      <td>0</td>\n",
       "      <td>0</td>\n",
       "      <td>1</td>\n",
       "      <td>0</td>\n",
       "      <td>0</td>\n",
       "      <td>0</td>\n",
       "      <td>1</td>\n",
       "      <td>1</td>\n",
       "      <td>0</td>\n",
       "    </tr>\n",
       "    <tr>\n",
       "      <th>218861</th>\n",
       "      <td>7500.0</td>\n",
       "      <td>0.0600</td>\n",
       "      <td>-0.001972</td>\n",
       "      <td>0.039821</td>\n",
       "      <td>14.0</td>\n",
       "      <td>3.0</td>\n",
       "      <td>0.0</td>\n",
       "      <td>0.0</td>\n",
       "      <td>13.0</td>\n",
       "      <td>0.0</td>\n",
       "      <td>...</td>\n",
       "      <td>0</td>\n",
       "      <td>1</td>\n",
       "      <td>0</td>\n",
       "      <td>0</td>\n",
       "      <td>0</td>\n",
       "      <td>0</td>\n",
       "      <td>0</td>\n",
       "      <td>0</td>\n",
       "      <td>0</td>\n",
       "      <td>0</td>\n",
       "    </tr>\n",
       "    <tr>\n",
       "      <th>285445</th>\n",
       "      <td>10000.0</td>\n",
       "      <td>0.0870</td>\n",
       "      <td>0.275318</td>\n",
       "      <td>0.042682</td>\n",
       "      <td>16.0</td>\n",
       "      <td>2.0</td>\n",
       "      <td>25.0</td>\n",
       "      <td>0.0</td>\n",
       "      <td>5.0</td>\n",
       "      <td>1.0</td>\n",
       "      <td>...</td>\n",
       "      <td>0</td>\n",
       "      <td>0</td>\n",
       "      <td>0</td>\n",
       "      <td>0</td>\n",
       "      <td>0</td>\n",
       "      <td>0</td>\n",
       "      <td>0</td>\n",
       "      <td>0</td>\n",
       "      <td>1</td>\n",
       "      <td>0</td>\n",
       "    </tr>\n",
       "    <tr>\n",
       "      <th>113452</th>\n",
       "      <td>12000.0</td>\n",
       "      <td>0.1601</td>\n",
       "      <td>-0.001972</td>\n",
       "      <td>-0.357111</td>\n",
       "      <td>11.0</td>\n",
       "      <td>0.0</td>\n",
       "      <td>0.0</td>\n",
       "      <td>0.0</td>\n",
       "      <td>3.0</td>\n",
       "      <td>0.0</td>\n",
       "      <td>...</td>\n",
       "      <td>0</td>\n",
       "      <td>0</td>\n",
       "      <td>0</td>\n",
       "      <td>1</td>\n",
       "      <td>0</td>\n",
       "      <td>0</td>\n",
       "      <td>0</td>\n",
       "      <td>0</td>\n",
       "      <td>0</td>\n",
       "      <td>0</td>\n",
       "    </tr>\n",
       "    <tr>\n",
       "      <th>233219</th>\n",
       "      <td>18000.0</td>\n",
       "      <td>0.1030</td>\n",
       "      <td>-0.016928</td>\n",
       "      <td>0.069210</td>\n",
       "      <td>14.0</td>\n",
       "      <td>2.0</td>\n",
       "      <td>14.0</td>\n",
       "      <td>0.0</td>\n",
       "      <td>1.0</td>\n",
       "      <td>0.0</td>\n",
       "      <td>...</td>\n",
       "      <td>0</td>\n",
       "      <td>0</td>\n",
       "      <td>1</td>\n",
       "      <td>0</td>\n",
       "      <td>0</td>\n",
       "      <td>0</td>\n",
       "      <td>0</td>\n",
       "      <td>1</td>\n",
       "      <td>0</td>\n",
       "      <td>0</td>\n",
       "    </tr>\n",
       "  </tbody>\n",
       "</table>\n",
       "<p>5 rows × 40 columns</p>\n",
       "</div>"
      ],
      "text/plain": [
       "        listing_amount  borrower_rate  occupation  borrower_state  AT02S  \\\n",
       "313456         20000.0         0.1479   -0.001972        0.042682   14.0   \n",
       "218861          7500.0         0.0600   -0.001972        0.039821   14.0   \n",
       "285445         10000.0         0.0870    0.275318        0.042682   16.0   \n",
       "113452         12000.0         0.1601   -0.001972       -0.357111   11.0   \n",
       "233219         18000.0         0.1030   -0.016928        0.069210   14.0   \n",
       "\n",
       "        AU01S  G020S  G093S  G103S  HI01S  ...  income_range_6  \\\n",
       "313456    4.0   16.0    0.0    0.0    0.0  ...               0   \n",
       "218861    3.0    0.0    0.0   13.0    0.0  ...               0   \n",
       "285445    2.0   25.0    0.0    5.0    1.0  ...               0   \n",
       "113452    0.0    0.0    0.0    3.0    0.0  ...               0   \n",
       "233219    2.0   14.0    0.0    1.0    0.0  ...               0   \n",
       "\n",
       "        prosper_rating_AA  prosper_rating_B  prosper_rating_C  \\\n",
       "313456                  0                 0                 1   \n",
       "218861                  1                 0                 0   \n",
       "285445                  0                 0                 0   \n",
       "113452                  0                 0                 1   \n",
       "233219                  0                 1                 0   \n",
       "\n",
       "        prosper_rating_D  prosper_rating_E  prosper_rating_HR  \\\n",
       "313456                 0                 0                  0   \n",
       "218861                 0                 0                  0   \n",
       "285445                 0                 0                  0   \n",
       "113452                 0                 0                  0   \n",
       "233219                 0                 0                  0   \n",
       "\n",
       "        listing_term_60  employment_type_Other  employment_type_Self-employed  \n",
       "313456                1                      1                              0  \n",
       "218861                0                      0                              0  \n",
       "285445                0                      1                              0  \n",
       "113452                0                      0                              0  \n",
       "233219                1                      0                              0  \n",
       "\n",
       "[5 rows x 40 columns]"
      ]
     },
     "execution_count": 12,
     "metadata": {},
     "output_type": "execute_result"
    }
   ],
   "source": [
    "from feature_engine.encoding import WoEEncoder, RareLabelEncoder\n",
    "\n",
    "woe_cols = ['occupation', 'borrower_state']\n",
    "\n",
    "# Set up a rare label encoder\n",
    "rare_encoder = RareLabelEncoder(tol=0.01, variables=woe_cols, replace_with='Other')\n",
    "\n",
    "# fit and transform data\n",
    "X_train = rare_encoder.fit_transform(X_train)\n",
    "X_test = rare_encoder.transform(X_test)\n",
    "\n",
    "# Set up a weight of evidence encoder\n",
    "woe_encoder = WoEEncoder(variables=woe_cols)\n",
    "\n",
    "# fit the encoder\n",
    "woe_encoder.fit(X_train, y_train)\n",
    "\n",
    "# transform\n",
    "X_train = woe_encoder.transform(X_train)\n",
    "X_test = woe_encoder.transform(X_test)\n",
    "\n",
    "X_train.head()"
   ]
  },
  {
   "cell_type": "markdown",
   "id": "postal-hundred",
   "metadata": {},
   "source": [
    "### 3.2.4 Supervised Numerical Scaling"
   ]
  },
  {
   "cell_type": "code",
   "execution_count": 13,
   "id": "valuable-upper",
   "metadata": {},
   "outputs": [
    {
     "data": {
      "text/html": [
       "<div>\n",
       "<style scoped>\n",
       "    .dataframe tbody tr th:only-of-type {\n",
       "        vertical-align: middle;\n",
       "    }\n",
       "\n",
       "    .dataframe tbody tr th {\n",
       "        vertical-align: top;\n",
       "    }\n",
       "\n",
       "    .dataframe thead th {\n",
       "        text-align: right;\n",
       "    }\n",
       "</style>\n",
       "<table border=\"1\" class=\"dataframe\">\n",
       "  <thead>\n",
       "    <tr style=\"text-align: right;\">\n",
       "      <th></th>\n",
       "      <th>listing_amount</th>\n",
       "      <th>borrower_rate</th>\n",
       "      <th>occupation</th>\n",
       "      <th>borrower_state</th>\n",
       "      <th>AT02S</th>\n",
       "      <th>AU01S</th>\n",
       "      <th>G020S</th>\n",
       "      <th>G093S</th>\n",
       "      <th>G103S</th>\n",
       "      <th>HI01S</th>\n",
       "      <th>...</th>\n",
       "      <th>income_range_6</th>\n",
       "      <th>prosper_rating_AA</th>\n",
       "      <th>prosper_rating_B</th>\n",
       "      <th>prosper_rating_C</th>\n",
       "      <th>prosper_rating_D</th>\n",
       "      <th>prosper_rating_E</th>\n",
       "      <th>prosper_rating_HR</th>\n",
       "      <th>listing_term_60</th>\n",
       "      <th>employment_type_Other</th>\n",
       "      <th>employment_type_Self-employed</th>\n",
       "    </tr>\n",
       "  </thead>\n",
       "  <tbody>\n",
       "    <tr>\n",
       "      <th>313456</th>\n",
       "      <td>0.824612</td>\n",
       "      <td>-0.087098</td>\n",
       "      <td>-0.001972</td>\n",
       "      <td>0.042682</td>\n",
       "      <td>0.486212</td>\n",
       "      <td>0.450316</td>\n",
       "      <td>0.812017</td>\n",
       "      <td>-0.366358</td>\n",
       "      <td>-0.982943</td>\n",
       "      <td>-0.281587</td>\n",
       "      <td>...</td>\n",
       "      <td>0</td>\n",
       "      <td>0</td>\n",
       "      <td>0</td>\n",
       "      <td>1</td>\n",
       "      <td>0</td>\n",
       "      <td>0</td>\n",
       "      <td>0</td>\n",
       "      <td>1</td>\n",
       "      <td>1</td>\n",
       "      <td>0</td>\n",
       "    </tr>\n",
       "    <tr>\n",
       "      <th>218861</th>\n",
       "      <td>-0.729622</td>\n",
       "      <td>-1.358911</td>\n",
       "      <td>-0.001972</td>\n",
       "      <td>0.039821</td>\n",
       "      <td>0.486212</td>\n",
       "      <td>0.064387</td>\n",
       "      <td>-0.852606</td>\n",
       "      <td>-0.366358</td>\n",
       "      <td>1.149470</td>\n",
       "      <td>-0.281587</td>\n",
       "      <td>...</td>\n",
       "      <td>0</td>\n",
       "      <td>1</td>\n",
       "      <td>0</td>\n",
       "      <td>0</td>\n",
       "      <td>0</td>\n",
       "      <td>0</td>\n",
       "      <td>0</td>\n",
       "      <td>0</td>\n",
       "      <td>0</td>\n",
       "      <td>0</td>\n",
       "    </tr>\n",
       "    <tr>\n",
       "      <th>285445</th>\n",
       "      <td>-0.418775</td>\n",
       "      <td>-0.968251</td>\n",
       "      <td>0.275318</td>\n",
       "      <td>0.042682</td>\n",
       "      <td>0.836055</td>\n",
       "      <td>-0.321541</td>\n",
       "      <td>1.748368</td>\n",
       "      <td>-0.366358</td>\n",
       "      <td>-0.162784</td>\n",
       "      <td>2.348040</td>\n",
       "      <td>...</td>\n",
       "      <td>0</td>\n",
       "      <td>0</td>\n",
       "      <td>0</td>\n",
       "      <td>0</td>\n",
       "      <td>0</td>\n",
       "      <td>0</td>\n",
       "      <td>0</td>\n",
       "      <td>0</td>\n",
       "      <td>1</td>\n",
       "      <td>0</td>\n",
       "    </tr>\n",
       "    <tr>\n",
       "      <th>113452</th>\n",
       "      <td>-0.170097</td>\n",
       "      <td>0.089422</td>\n",
       "      <td>-0.001972</td>\n",
       "      <td>-0.357111</td>\n",
       "      <td>-0.038552</td>\n",
       "      <td>-1.093397</td>\n",
       "      <td>-0.852606</td>\n",
       "      <td>-0.366358</td>\n",
       "      <td>-0.490847</td>\n",
       "      <td>-0.281587</td>\n",
       "      <td>...</td>\n",
       "      <td>0</td>\n",
       "      <td>0</td>\n",
       "      <td>0</td>\n",
       "      <td>1</td>\n",
       "      <td>0</td>\n",
       "      <td>0</td>\n",
       "      <td>0</td>\n",
       "      <td>0</td>\n",
       "      <td>0</td>\n",
       "      <td>0</td>\n",
       "    </tr>\n",
       "    <tr>\n",
       "      <th>233219</th>\n",
       "      <td>0.575935</td>\n",
       "      <td>-0.736750</td>\n",
       "      <td>-0.016928</td>\n",
       "      <td>0.069210</td>\n",
       "      <td>0.486212</td>\n",
       "      <td>-0.321541</td>\n",
       "      <td>0.603939</td>\n",
       "      <td>-0.366358</td>\n",
       "      <td>-0.818911</td>\n",
       "      <td>-0.281587</td>\n",
       "      <td>...</td>\n",
       "      <td>0</td>\n",
       "      <td>0</td>\n",
       "      <td>1</td>\n",
       "      <td>0</td>\n",
       "      <td>0</td>\n",
       "      <td>0</td>\n",
       "      <td>0</td>\n",
       "      <td>1</td>\n",
       "      <td>0</td>\n",
       "      <td>0</td>\n",
       "    </tr>\n",
       "  </tbody>\n",
       "</table>\n",
       "<p>5 rows × 40 columns</p>\n",
       "</div>"
      ],
      "text/plain": [
       "        listing_amount  borrower_rate  occupation  borrower_state     AT02S  \\\n",
       "313456        0.824612      -0.087098   -0.001972        0.042682  0.486212   \n",
       "218861       -0.729622      -1.358911   -0.001972        0.039821  0.486212   \n",
       "285445       -0.418775      -0.968251    0.275318        0.042682  0.836055   \n",
       "113452       -0.170097       0.089422   -0.001972       -0.357111 -0.038552   \n",
       "233219        0.575935      -0.736750   -0.016928        0.069210  0.486212   \n",
       "\n",
       "           AU01S     G020S     G093S     G103S     HI01S  ...  income_range_6  \\\n",
       "313456  0.450316  0.812017 -0.366358 -0.982943 -0.281587  ...               0   \n",
       "218861  0.064387 -0.852606 -0.366358  1.149470 -0.281587  ...               0   \n",
       "285445 -0.321541  1.748368 -0.366358 -0.162784  2.348040  ...               0   \n",
       "113452 -1.093397 -0.852606 -0.366358 -0.490847 -0.281587  ...               0   \n",
       "233219 -0.321541  0.603939 -0.366358 -0.818911 -0.281587  ...               0   \n",
       "\n",
       "        prosper_rating_AA  prosper_rating_B  prosper_rating_C  \\\n",
       "313456                  0                 0                 1   \n",
       "218861                  1                 0                 0   \n",
       "285445                  0                 0                 0   \n",
       "113452                  0                 0                 1   \n",
       "233219                  0                 1                 0   \n",
       "\n",
       "        prosper_rating_D  prosper_rating_E  prosper_rating_HR  \\\n",
       "313456                 0                 0                  0   \n",
       "218861                 0                 0                  0   \n",
       "285445                 0                 0                  0   \n",
       "113452                 0                 0                  0   \n",
       "233219                 0                 0                  0   \n",
       "\n",
       "        listing_term_60  employment_type_Other  employment_type_Self-employed  \n",
       "313456                1                      1                              0  \n",
       "218861                0                      0                              0  \n",
       "285445                0                      1                              0  \n",
       "113452                0                      0                              0  \n",
       "233219                1                      0                              0  \n",
       "\n",
       "[5 rows x 40 columns]"
      ]
     },
     "execution_count": 13,
     "metadata": {},
     "output_type": "execute_result"
    }
   ],
   "source": [
    "#from sklearn.preprocessing import MinMaxScaler\n",
    "from sklearn.preprocessing import StandardScaler\n",
    "\n",
    "#scaler = MinMaxScaler()\n",
    "scaler = StandardScaler()\n",
    "\n",
    "ss_cols = ['listing_amount', 'borrower_rate', \n",
    "           'AT02S','AU01S','G020S','G093S','G103S','HI01S','IN09S','IN21S','OF01S','RE21S', 'RT01S','S207S',\n",
    "          'dti_wprosper_loan']\n",
    "\n",
    "scaler.fit(X_train[ss_cols])\n",
    "\n",
    "X_train[ss_cols] = scaler.transform(X_train[ss_cols])\n",
    "X_test[ss_cols] = scaler.transform(X_test[ss_cols])\n",
    "\n",
    "X_train.head()"
   ]
  },
  {
   "cell_type": "markdown",
   "id": "bronze-cherry",
   "metadata": {},
   "source": [
    "# 4 Modeling<a id='4_modeling'></a>"
   ]
  },
  {
   "cell_type": "markdown",
   "id": "several-rehabilitation",
   "metadata": {},
   "source": [
    "### 4.1 Helper Functions"
   ]
  },
  {
   "cell_type": "code",
   "execution_count": 14,
   "id": "regulated-wyoming",
   "metadata": {},
   "outputs": [],
   "source": [
    "# Import metrics\n",
    "from sklearn import metrics\n",
    "\n",
    "# Capture various model evaluation metrics\n",
    "def model_metrics(model, X, y):\n",
    "    results = {}\n",
    "    y_pred = model.predict(X)\n",
    "    y_pred_prob = model.predict_proba(X)[:, 1]\n",
    "    tn, fp, fn, tp = metrics.confusion_matrix(y, y_pred).ravel()\n",
    "    results['Predictions'] = y_pred\n",
    "    results['Probabilities'] = y_pred_prob\n",
    "    results['Accuracy Score'] = metrics.accuracy_score(y, y_pred)\n",
    "    results['Precision Score'] = metrics.precision_score(y, y_pred, zero_division=0)\n",
    "    results['Recall Score'] = metrics.recall_score(y, y_pred, zero_division=0)\n",
    "    results['F1 Score'] = metrics.f1_score(y, y_pred)\n",
    "    results['F2 Score'] = metrics.fbeta_score(y, y_pred, beta=2)\n",
    "    results['Average Precision Score'] = metrics.average_precision_score(y, y_pred_prob)\n",
    "    results['False Omission Rate'] = fn / (fn + tn)\n",
    "    return results"
   ]
  },
  {
   "cell_type": "code",
   "execution_count": 15,
   "id": "alleged-immigration",
   "metadata": {},
   "outputs": [],
   "source": [
    "# Evaluate model and track training time\n",
    "def evaluate_model(desc, clf, X, y):\n",
    "    data = {}\n",
    "    data['Model Description'] = desc\n",
    "    data['Classifier'] = clf\n",
    "    start = time()\n",
    "    model = clf.fit(X, y)\n",
    "    end = time()\n",
    "    data['Training Time'] = end - start\n",
    "    train_results = model_metrics(model, X, y)\n",
    "    data['Train Results'] = train_results\n",
    "    test_results = model_metrics(model, X_test, y_test)\n",
    "    data['Test Results'] = test_results\n",
    "    return data"
   ]
  },
  {
   "cell_type": "code",
   "execution_count": 16,
   "id": "pretty-extra",
   "metadata": {},
   "outputs": [],
   "source": [
    "# Plot confusion matrix\n",
    "def plot_confusion_matrix(cm, classes, title='Confusion matrix', cmap=plt.cm.Blues):\n",
    "    np.set_printoptions(precision=2)\n",
    "    plt.imshow(cm, interpolation='nearest', cmap=cmap)\n",
    "    plt.title(title)\n",
    "    plt.colorbar()\n",
    "    tick_marks = np.arange(len(classes))\n",
    "    plt.xticks(tick_marks, classes, rotation=45)\n",
    "    plt.yticks(tick_marks, classes)\n",
    "\n",
    "    fmt = 'd'\n",
    "    thresh = cm.max() / 2.\n",
    "    for i, j in itertools.product(range(cm.shape[0]), range(cm.shape[1])):\n",
    "        plt.text(j, i, format(cm[i, j], fmt),\n",
    "                 horizontalalignment=\"center\",\n",
    "                 color=\"white\" if cm[i, j] > thresh else \"black\")\n",
    "\n",
    "    plt.ylabel('True label')\n",
    "    plt.xlabel('Predicted label')\n",
    "    plt.tight_layout()"
   ]
  },
  {
   "cell_type": "markdown",
   "id": "minus-personality",
   "metadata": {},
   "source": [
    "### 4.2 Baseline Dummy Classifier"
   ]
  },
  {
   "cell_type": "code",
   "execution_count": 17,
   "id": "classified-economics",
   "metadata": {},
   "outputs": [],
   "source": [
    "def plot_roc_curve(y_test, probs):\n",
    "    # Calculate fpr, tpr, thresholds and roc_auc\n",
    "    fpr, tpr, thresholds = roc_curve(y_test, probs)\n",
    "    roc_auc = roc_auc_score(y_test, probs)\n",
    "\n",
    "    # Plot ROC curve\n",
    "    plt.plot(fpr, tpr, label='ROC curve (area = %0.3f)' % roc_auc)\n",
    "    plt.plot([0, 1], [0, 1], 'k--')\n",
    "    plt.xlim([0.0, 1.0])\n",
    "    plt.ylim([0.0, 1.0])\n",
    "    plt.xlabel('False Positive Rate')\n",
    "    plt.ylabel('True Positive Rate')\n",
    "    plt.title('ROC Curve')\n",
    "    plt.legend(loc=\"lower right\")"
   ]
  },
  {
   "cell_type": "markdown",
   "id": "answering-baker",
   "metadata": {},
   "source": [
    "Train a baseline dummy classifier that predicts the most frequent class or `paidoff`."
   ]
  },
  {
   "cell_type": "code",
   "execution_count": 18,
   "id": "ranging-scroll",
   "metadata": {},
   "outputs": [
    {
     "data": {
      "text/plain": [
       "{'Model Description': 'Dummy Classifier',\n",
       " 'Classifier': DummyClassifier(strategy='most_frequent'),\n",
       " 'Training Time': 0.014960527420043945,\n",
       " 'Train Results': {'Predictions': array([0, 0, 0, ..., 0, 0, 0], dtype=int8),\n",
       "  'Probabilities': array([0., 0., 0., ..., 0., 0., 0.]),\n",
       "  'Accuracy Score': 0.7980910547087867,\n",
       "  'Precision Score': 0.0,\n",
       "  'Recall Score': 0.0,\n",
       "  'F1 Score': 0.0,\n",
       "  'F2 Score': 0.0,\n",
       "  'Average Precision Score': 0.20190894529121323,\n",
       "  'False Omission Rate': 0.20190894529121323},\n",
       " 'Test Results': {'Predictions': array([0, 0, 0, ..., 0, 0, 0], dtype=int8),\n",
       "  'Probabilities': array([0., 0., 0., ..., 0., 0., 0.]),\n",
       "  'Accuracy Score': 0.7982676510025739,\n",
       "  'Precision Score': 0.0,\n",
       "  'Recall Score': 0.0,\n",
       "  'F1 Score': 0.0,\n",
       "  'F2 Score': 0.0,\n",
       "  'Average Precision Score': 0.20173234899742615,\n",
       "  'False Omission Rate': 0.20173234899742615}}"
      ]
     },
     "execution_count": 18,
     "metadata": {},
     "output_type": "execute_result"
    }
   ],
   "source": [
    "from sklearn.dummy import DummyClassifier\n",
    "\n",
    "dummy_clf = DummyClassifier(strategy=\"most_frequent\")\n",
    "\n",
    "dummy_results = evaluate_model('Dummy Classifier', dummy_clf, X_train, y_train)\n",
    "\n",
    "dummy_results"
   ]
  },
  {
   "cell_type": "code",
   "execution_count": 19,
   "id": "third-richardson",
   "metadata": {},
   "outputs": [
    {
     "data": {
      "image/png": "[encoded data removed]",
      "text/plain": [
       "<Figure size 432x288 with 2 Axes>"
      ]
     },
     "metadata": {
      "needs_background": "light"
     },
     "output_type": "display_data"
    }
   ],
   "source": [
    "# Create class names\n",
    "classes = ['Paidoff', 'Chargeoff']\n",
    "\n",
    "plot_confusion_matrix(metrics.confusion_matrix(y_test, dummy_results['Test Results']['Predictions']), \n",
    "                      classes=classes, title=dummy_results['Model Description'])"
   ]
  },
  {
   "cell_type": "code",
   "execution_count": 20,
   "id": "covered-secret",
   "metadata": {},
   "outputs": [
    {
     "data": {
      "text/plain": [
       "count    432551.000000\n",
       "mean          0.201856\n",
       "std           0.401386\n",
       "min           0.000000\n",
       "25%           0.000000\n",
       "50%           0.000000\n",
       "75%           0.000000\n",
       "max           1.000000\n",
       "Name: chargeoff, dtype: float64"
      ]
     },
     "execution_count": 20,
     "metadata": {},
     "output_type": "execute_result"
    }
   ],
   "source": [
    "df.chargeoff.describe()"
   ]
  },
  {
   "cell_type": "markdown",
   "id": "retained-picnic",
   "metadata": {},
   "source": [
    "The baseline classifier Accuracy score is 79.8% which represents 1 - mean `chargeoff` rate.  The dataset is moderately imbalanced with the `chargeoff` population at 20.2% .  These metrics show why it is important to choose the correct evaluation metric because we can achieve pretty good accuracy by simply predicting 0 for all loans.  We are capturing a variety of model evaluation metrics and then will compare at the end of each next sections."
   ]
  },
  {
   "cell_type": "markdown",
   "id": "democratic-mason",
   "metadata": {},
   "source": [
    "### 4.3 Training Entire Dataset"
   ]
  },
  {
   "cell_type": "markdown",
   "id": "activated-tribute",
   "metadata": {},
   "source": [
    "The following classification models will be trained on the entire dataset and evaluated on the test set.\n",
    "\n",
    "1. LogisticRegression\n",
    "2. GaussianNB\n",
    "3. RandomForestClassifier\n",
    "4. AdaBoostClassifier\n",
    "5. GradientBoostingClassifier\n",
    "6. XGBClassifier\n",
    "7. LGBMClassifier"
   ]
  },
  {
   "cell_type": "markdown",
   "id": "bearing-suffering",
   "metadata": {},
   "source": [
    "#### 4.3.1 LogisticRegression"
   ]
  },
  {
   "cell_type": "code",
   "execution_count": 21,
   "id": "contained-trinidad",
   "metadata": {},
   "outputs": [
    {
     "data": {
      "text/plain": [
       "{'Model Description': 'Logistic Regression',\n",
       " 'Classifier': LogisticRegression(max_iter=1000, random_state=42),\n",
       " 'Training Time': 10.287756204605103,\n",
       " 'Train Results': {'Predictions': array([0, 0, 0, ..., 0, 0, 0], dtype=int8),\n",
       "  'Probabilities': array([0.34, 0.03, 0.12, ..., 0.12, 0.05, 0.1 ]),\n",
       "  'Accuracy Score': 0.8001221989200258,\n",
       "  'Precision Score': 0.5378182265404009,\n",
       "  'Recall Score': 0.07153022000490718,\n",
       "  'F1 Score': 0.1262668553114082,\n",
       "  'F2 Score': 0.08653545519667868,\n",
       "  'Average Precision Score': 0.3901094662963812,\n",
       "  'False Omission Rate': 0.19263950260305307},\n",
       " 'Test Results': {'Predictions': array([0, 0, 0, ..., 0, 0, 0], dtype=int8),\n",
       "  'Probabilities': array([0.28, 0.16, 0.16, ..., 0.25, 0.29, 0.24]),\n",
       "  'Accuracy Score': 0.8012268236672164,\n",
       "  'Precision Score': 0.5562060889929742,\n",
       "  'Recall Score': 0.0725800290320116,\n",
       "  'F1 Score': 0.128404406298574,\n",
       "  'F2 Score': 0.08785883397454868,\n",
       "  'Average Precision Score': 0.3939581879220544,\n",
       "  'False Omission Rate': 0.19214879303521962}}"
      ]
     },
     "execution_count": 21,
     "metadata": {},
     "output_type": "execute_result"
    }
   ],
   "source": [
    "from sklearn.linear_model import LogisticRegression\n",
    "\n",
    "log = LogisticRegression(max_iter=1000, random_state=SEED)\n",
    "\n",
    "log_results = evaluate_model('Logistic Regression', log, X_train, y_train)\n",
    "\n",
    "log_results"
   ]
  },
  {
   "cell_type": "code",
   "execution_count": 22,
   "id": "wireless-rates",
   "metadata": {},
   "outputs": [
    {
     "data": {
      "image/png": "[encoded data removed]",
      "text/plain": [
       "<Figure size 432x288 with 2 Axes>"
      ]
     },
     "metadata": {
      "needs_background": "light"
     },
     "output_type": "display_data"
    }
   ],
   "source": [
    "plot_confusion_matrix(metrics.confusion_matrix(y_test, log_results['Test Results']['Predictions']), \n",
    "                      classes=classes, title=log_results['Model Description'])"
   ]
  },
  {
   "cell_type": "markdown",
   "id": "smart-reader",
   "metadata": {},
   "source": [
    "The LogisticRegression model does not perform very well on the entire dataset.  Precision is 55.6% so when the model predicts the loan will chargeoff it is only correct about half of the time.  Recall is quite poor at 7.27% and Average Precision is .394. "
   ]
  },
  {
   "cell_type": "markdown",
   "id": "antique-creator",
   "metadata": {},
   "source": [
    "#### 4.3.2 GaussianNB"
   ]
  },
  {
   "cell_type": "code",
   "execution_count": 23,
   "id": "judicial-edward",
   "metadata": {},
   "outputs": [
    {
     "data": {
      "text/plain": [
       "{'Model Description': 'Gaussian Naive Bayes',\n",
       " 'Classifier': GaussianNB(),\n",
       " 'Training Time': 0.40836071968078613,\n",
       " 'Train Results': {'Predictions': array([0, 0, 0, ..., 1, 0, 0], dtype=int8),\n",
       "  'Probabilities': array([3.25e-01, 2.70e-11, 2.01e-02, ..., 1.00e+00, 1.49e-10, 9.03e-02]),\n",
       "  'Accuracy Score': 0.6915633205079512,\n",
       "  'Precision Score': 0.3328427358754573,\n",
       "  'Recall Score': 0.5252801177721436,\n",
       "  'F1 Score': 0.40748401177545424,\n",
       "  'F2 Score': 0.47083610686731897,\n",
       "  'Average Precision Score': 0.32290268447108267,\n",
       "  'False Omission Rate': 0.14067589576547232},\n",
       " 'Test Results': {'Predictions': array([0, 0, 1, ..., 0, 0, 1], dtype=int8),\n",
       "  'Probabilities': array([0.36, 0.04, 0.54, ..., 0.01, 0.04, 0.85]),\n",
       "  'Accuracy Score': 0.6917913783271427,\n",
       "  'Precision Score': 0.33214277036713075,\n",
       "  'Recall Score': 0.5221942088776835,\n",
       "  'F1 Score': 0.4060295537239177,\n",
       "  'F2 Score': 0.4685711151786877,\n",
       "  'Average Precision Score': 0.32192904902825015,\n",
       "  'False Omission Rate': 0.14115947589973932}}"
      ]
     },
     "execution_count": 23,
     "metadata": {},
     "output_type": "execute_result"
    }
   ],
   "source": [
    "from sklearn.naive_bayes import GaussianNB\n",
    "\n",
    "gnb = GaussianNB()\n",
    "\n",
    "gnb_results = evaluate_model('Gaussian Naive Bayes', gnb, X_train, y_train)\n",
    "\n",
    "gnb_results"
   ]
  },
  {
   "cell_type": "code",
   "execution_count": 24,
   "id": "reserved-machinery",
   "metadata": {},
   "outputs": [
    {
     "data": {
      "image/png": "[encoded data removed]",
      "text/plain": [
       "<Figure size 432x288 with 2 Axes>"
      ]
     },
     "metadata": {
      "needs_background": "light"
     },
     "output_type": "display_data"
    }
   ],
   "source": [
    "plot_confusion_matrix(metrics.confusion_matrix(y_test, gnb_results['Test Results']['Predictions']), \n",
    "                      classes=classes, title=gnb_results['Model Description'])"
   ]
  },
  {
   "cell_type": "markdown",
   "id": "hourly-poster",
   "metadata": {},
   "source": [
    "The Gaussian Naive Bayes model handles the imbalanced dataset better as it predicted `chargeoff` for 41,114 loans vs. the 3,417 from the Logistic Regression model.  However, these predictions are quite poor as well with Precision at 33.22%.  Recall improved quite a bit though at 52.2% and Average Precision is .322."
   ]
  },
  {
   "cell_type": "markdown",
   "id": "antique-charge",
   "metadata": {},
   "source": [
    "#### 4.3.3 RandomForestClassifier"
   ]
  },
  {
   "cell_type": "code",
   "execution_count": 25,
   "id": "north-remedy",
   "metadata": {},
   "outputs": [
    {
     "data": {
      "text/plain": [
       "{'Model Description': 'Random Forest Classifier',\n",
       " 'Classifier': RandomForestClassifier(max_depth=10, random_state=42),\n",
       " 'Training Time': 46.29463815689087,\n",
       " 'Train Results': {'Predictions': array([0, 0, 0, ..., 0, 0, 0], dtype=int8),\n",
       "  'Probabilities': array([0.24, 0.04, 0.16, ..., 0.15, 0.05, 0.11]),\n",
       "  'Accuracy Score': 0.8000297240616279,\n",
       "  'Precision Score': 0.7852283770651117,\n",
       "  'Recall Score': 0.013216651672528012,\n",
       "  'F1 Score': 0.02599575316903674,\n",
       "  'F2 Score': 0.01645158794473244,\n",
       "  'Average Precision Score': 0.443022911635809,\n",
       "  'False Omission Rate': 0.1999198027545434},\n",
       " 'Test Results': {'Predictions': array([0, 0, 0, ..., 0, 0, 0], dtype=int8),\n",
       "  'Probabilities': array([0.28, 0.17, 0.11, ..., 0.17, 0.26, 0.34]),\n",
       "  'Accuracy Score': 0.799161567745018,\n",
       "  'Precision Score': 0.6666666666666666,\n",
       "  'Recall Score': 0.008862403544961418,\n",
       "  'F1 Score': 0.01749227173339365,\n",
       "  'F2 Score': 0.011041309727774604,\n",
       "  'Average Precision Score': 0.4010203070937906,\n",
       "  'False Omission Rate': 0.20048215858690444}}"
      ]
     },
     "execution_count": 25,
     "metadata": {},
     "output_type": "execute_result"
    }
   ],
   "source": [
    "from sklearn.ensemble import RandomForestClassifier\n",
    "\n",
    "# Limit depth of tree otherwise it will expand all leaves and extremely overfit training data\n",
    "rf = RandomForestClassifier(max_depth=10, random_state=SEED)\n",
    "\n",
    "rf_results = evaluate_model('Random Forest Classifier', rf, X_train, y_train)\n",
    "\n",
    "rf_results"
   ]
  },
  {
   "cell_type": "code",
   "execution_count": 26,
   "id": "popular-transmission",
   "metadata": {},
   "outputs": [
    {
     "data": {
      "image/png": "[encoded data removed]",
      "text/plain": [
       "<Figure size 432x288 with 2 Axes>"
      ]
     },
     "metadata": {
      "needs_background": "light"
     },
     "output_type": "display_data"
    }
   ],
   "source": [
    "plot_confusion_matrix(metrics.confusion_matrix(y_test, rf_results['Test Results']['Predictions']), \n",
    "                      classes=classes, title=rf_results['Model Description'])"
   ]
  },
  {
   "cell_type": "markdown",
   "id": "ideal-hamburg",
   "metadata": {},
   "source": [
    "The Random Forest Classifier performs similar to Logistic Regression with 54.41% Precision.  Recall improved a little to 9.35% and Average Precision is .3918."
   ]
  },
  {
   "cell_type": "markdown",
   "id": "pretty-stephen",
   "metadata": {},
   "source": [
    "#### 4.3.4 AdaBoostClassifier"
   ]
  },
  {
   "cell_type": "code",
   "execution_count": 27,
   "id": "reserved-timber",
   "metadata": {},
   "outputs": [
    {
     "data": {
      "text/plain": [
       "{'Model Description': 'AdaBoost Classifer',\n",
       " 'Classifier': AdaBoostClassifier(random_state=42),\n",
       " 'Training Time': 21.565549612045288,\n",
       " 'Train Results': {'Predictions': array([0, 0, 0, ..., 0, 0, 0], dtype=int8),\n",
       "  'Probabilities': array([0.5 , 0.48, 0.49, ..., 0.49, 0.49, 0.49]),\n",
       "  'Accuracy Score': 0.8008421817461235,\n",
       "  'Precision Score': 0.540136841090874,\n",
       "  'Recall Score': 0.0916823423570786,\n",
       "  'F1 Score': 0.15675690793153596,\n",
       "  'F2 Score': 0.10993774444230867,\n",
       "  'Average Precision Score': 0.39534532275763784,\n",
       "  'False Omission Rate': 0.18990588492790894},\n",
       " 'Test Results': {'Predictions': array([0, 0, 0, ..., 0, 0, 0], dtype=int8),\n",
       "  'Probabilities': array([0.5 , 0.49, 0.49, ..., 0.49, 0.5 , 0.49]),\n",
       "  'Accuracy Score': 0.8019280859393061,\n",
       "  'Precision Score': 0.5527895087797289,\n",
       "  'Recall Score': 0.0950034380013752,\n",
       "  'F1 Score': 0.16214101770055742,\n",
       "  'F2 Score': 0.11386215674245266,\n",
       "  'Average Precision Score': 0.399458906019875,\n",
       "  'False Omission Rate': 0.18912403106963527}}"
      ]
     },
     "execution_count": 27,
     "metadata": {},
     "output_type": "execute_result"
    }
   ],
   "source": [
    "from sklearn.ensemble import AdaBoostClassifier\n",
    "abc = AdaBoostClassifier(random_state=SEED)\n",
    "\n",
    "abc_results = evaluate_model('AdaBoost Classifer', abc, X_train, y_train)\n",
    "\n",
    "abc_results"
   ]
  },
  {
   "cell_type": "code",
   "execution_count": 28,
   "id": "nonprofit-vertex",
   "metadata": {},
   "outputs": [
    {
     "data": {
      "image/png": "[encoded data removed]",
      "text/plain": [
       "<Figure size 432x288 with 2 Axes>"
      ]
     },
     "metadata": {
      "needs_background": "light"
     },
     "output_type": "display_data"
    }
   ],
   "source": [
    "plot_confusion_matrix(metrics.confusion_matrix(y_test, abc_results['Test Results']['Predictions']), \n",
    "                      classes=classes, title=abc_results['Model Description'])"
   ]
  },
  {
   "cell_type": "markdown",
   "id": "purple-florida",
   "metadata": {},
   "source": [
    "AdaBoost Classifier performs quite similar to the Random Forest Classifier and has a ROC-AUC of .3993."
   ]
  },
  {
   "cell_type": "markdown",
   "id": "comprehensive-confidence",
   "metadata": {},
   "source": [
    "#### 4.3.5 GradientBoostingClassifier"
   ]
  },
  {
   "cell_type": "code",
   "execution_count": 29,
   "id": "smart-mathematics",
   "metadata": {},
   "outputs": [
    {
     "data": {
      "text/plain": [
       "{'Model Description': 'Gradient Boosting Classifier',\n",
       " 'Classifier': GradientBoostingClassifier(random_state=42),\n",
       " 'Training Time': 92.13629293441772,\n",
       " 'Train Results': {'Predictions': array([0, 0, 0, ..., 0, 0, 0], dtype=int8),\n",
       "  'Probabilities': array([0.28, 0.03, 0.13, ..., 0.13, 0.06, 0.1 ]),\n",
       "  'Accuracy Score': 0.8026850735670525,\n",
       "  'Precision Score': 0.5796769389391683,\n",
       "  'Recall Score': 0.08276764537498978,\n",
       "  'F1 Score': 0.144852856979274,\n",
       "  'F2 Score': 0.09989378881742336,\n",
       "  'Average Precision Score': 0.4118766375145117,\n",
       "  'False Omission Rate': 0.19069496966564192},\n",
       " 'Test Results': {'Predictions': array([0, 0, 0, ..., 0, 0, 0], dtype=int8),\n",
       "  'Probabilities': array([0.32, 0.22, 0.11, ..., 0.18, 0.31, 0.35]),\n",
       "  'Accuracy Score': 0.8032227239800872,\n",
       "  'Precision Score': 0.5864479698843775,\n",
       "  'Recall Score': 0.08331423332569333,\n",
       "  'F1 Score': 0.145900926514366,\n",
       "  'F2 Score': 0.1005708699541644,\n",
       "  'Average Precision Score': 0.4113048983823563,\n",
       "  'False Omission Rate': 0.1903813656810555}}"
      ]
     },
     "execution_count": 29,
     "metadata": {},
     "output_type": "execute_result"
    }
   ],
   "source": [
    "from sklearn.ensemble import GradientBoostingClassifier\n",
    "\n",
    "gb = GradientBoostingClassifier(random_state=SEED)\n",
    "\n",
    "gb_results = evaluate_model('Gradient Boosting Classifier', gb, X_train, y_train)\n",
    "\n",
    "gb_results"
   ]
  },
  {
   "cell_type": "code",
   "execution_count": 30,
   "id": "bacterial-objective",
   "metadata": {},
   "outputs": [
    {
     "data": {
      "image/png": "[encoded data removed]",
      "text/plain": [
       "<Figure size 432x288 with 2 Axes>"
      ]
     },
     "metadata": {
      "needs_background": "light"
     },
     "output_type": "display_data"
    }
   ],
   "source": [
    "plot_confusion_matrix(metrics.confusion_matrix(y_test, gb_results['Test Results']['Predictions']), \n",
    "                      classes=classes, title=gb_results['Model Description'])"
   ]
  },
  {
   "cell_type": "markdown",
   "id": "cordless-beach",
   "metadata": {},
   "source": [
    "The Gradient Boosting Classifier performs similar to Logistic Regression and Random Forest.  Precision is 58.7%, Recall is quite poor as well at 8.13% and Average Precision has improved a little to .4108.  Of all models so far Gradient Boosting also takes the longest to train the model."
   ]
  },
  {
   "cell_type": "markdown",
   "id": "impressive-lexington",
   "metadata": {},
   "source": [
    "#### 4.3.6 XGBClassifier"
   ]
  },
  {
   "cell_type": "code",
   "execution_count": 31,
   "id": "optional-passing",
   "metadata": {},
   "outputs": [
    {
     "data": {
      "text/plain": [
       "{'Model Description': 'XGB Classifer',\n",
       " 'Classifier': XGBClassifier(base_score=0.5, booster='gbtree', colsample_bylevel=1,\n",
       "               colsample_bynode=1, colsample_bytree=1, eval_metric='aucpr',\n",
       "               gamma=0, gpu_id=-1, importance_type='gain',\n",
       "               interaction_constraints='', learning_rate=0.300000012,\n",
       "               max_delta_step=0, max_depth=6, min_child_weight=1, missing=nan,\n",
       "               monotone_constraints='()', n_estimators=100, n_jobs=8,\n",
       "               num_parallel_tree=1, random_state=42, reg_alpha=0, reg_lambda=1,\n",
       "               scale_pos_weight=1, subsample=1, tree_method='exact',\n",
       "               use_label_encoder=False, validate_parameters=1, verbosity=None),\n",
       " 'Training Time': 15.585451126098633,\n",
       " 'Train Results': {'Predictions': array([0, 0, 0, ..., 0, 0, 0]),\n",
       "  'Probabilities': array([0.36, 0.02, 0.12, ..., 0.14, 0.03, 0.17], dtype=float32),\n",
       "  'Accuracy Score': 0.8134022491206632,\n",
       "  'Precision Score': 0.6452017038336256,\n",
       "  'Recall Score': 0.16847959434039422,\n",
       "  'F1 Score': 0.26718893889674317,\n",
       "  'F2 Score': 0.19769370144028497,\n",
       "  'Average Precision Score': 0.4892173931405061,\n",
       "  'False Omission Rate': 0.17723597644523936},\n",
       " 'Test Results': {'Predictions': array([0, 0, 0, ..., 0, 0, 0]),\n",
       "  'Probabilities': array([0.38, 0.15, 0.14, ..., 0.25, 0.31, 0.33], dtype=float32),\n",
       "  'Accuracy Score': 0.8035309711326541,\n",
       "  'Precision Score': 0.551283976573059,\n",
       "  'Recall Score': 0.14023225609290244,\n",
       "  'F1 Score': 0.22358924384078935,\n",
       "  'F2 Score': 0.16480951055481227,\n",
       "  'Average Precision Score': 0.41355568524132985,\n",
       "  'False Omission Rate': 0.18282469721461816}}"
      ]
     },
     "execution_count": 31,
     "metadata": {},
     "output_type": "execute_result"
    }
   ],
   "source": [
    "import xgboost as xgb\n",
    "\n",
    "xgbc = xgb.XGBClassifier(eval_metric='aucpr', use_label_encoder=False, random_state=SEED)\n",
    "\n",
    "xgbc_results = evaluate_model('XGB Classifer', xgbc, X_train, y_train)\n",
    "\n",
    "xgbc_results"
   ]
  },
  {
   "cell_type": "code",
   "execution_count": 32,
   "id": "technical-gateway",
   "metadata": {},
   "outputs": [
    {
     "data": {
      "image/png": "[encoded data removed]",
      "text/plain": [
       "<Figure size 432x288 with 2 Axes>"
      ]
     },
     "metadata": {
      "needs_background": "light"
     },
     "output_type": "display_data"
    }
   ],
   "source": [
    "plot_confusion_matrix(metrics.confusion_matrix(y_test, xgbc_results['Test Results']['Predictions']), \n",
    "                      classes=classes, title=xgbc_results['Model Description'])"
   ]
  },
  {
   "cell_type": "markdown",
   "id": "convertible-screw",
   "metadata": {},
   "source": [
    "XGB Classifier performs the best so far for Recall and Average Precision at 14.03% and .4149 respectively."
   ]
  },
  {
   "cell_type": "markdown",
   "id": "alike-equality",
   "metadata": {},
   "source": [
    "#### 4.3.7 LGBMClassifier"
   ]
  },
  {
   "cell_type": "code",
   "execution_count": 33,
   "id": "smaller-ethernet",
   "metadata": {},
   "outputs": [
    {
     "data": {
      "text/plain": [
       "{'Model Description': 'LGBM Classifer',\n",
       " 'Classifier': LGBMClassifier(random_state=42),\n",
       " 'Training Time': 2.0688955783843994,\n",
       " 'Train Results': {'Predictions': array([0, 0, 0, ..., 0, 0, 0], dtype=int8),\n",
       "  'Probabilities': array([0.29, 0.02, 0.12, ..., 0.12, 0.06, 0.09]),\n",
       "  'Accuracy Score': 0.8061330647158875,\n",
       "  'Precision Score': 0.5975639073643721,\n",
       "  'Recall Score': 0.12197595485401161,\n",
       "  'F1 Score': 0.20259733202923358,\n",
       "  'F2 Score': 0.1450670962068952,\n",
       "  'Average Precision Score': 0.436974803580223,\n",
       "  'False Omission Rate': 0.18490144881607684},\n",
       " 'Test Results': {'Predictions': array([0, 0, 0, ..., 0, 0, 0], dtype=int8),\n",
       "  'Probabilities': array([0.37, 0.15, 0.12, ..., 0.24, 0.3 , 0.28]),\n",
       "  'Accuracy Score': 0.8035695020267251,\n",
       "  'Precision Score': 0.5652503793626708,\n",
       "  'Recall Score': 0.11383604553441821,\n",
       "  'F1 Score': 0.18950715421303657,\n",
       "  'F2 Score': 0.1354742508001164,\n",
       "  'Average Precision Score': 0.4181277695456392,\n",
       "  'False Omission Rate': 0.1863382974279885}}"
      ]
     },
     "execution_count": 33,
     "metadata": {},
     "output_type": "execute_result"
    }
   ],
   "source": [
    "import lightgbm as lgb\n",
    "\n",
    "lgbc = lgb.LGBMClassifier(random_state=SEED)\n",
    "\n",
    "lgbm_results = evaluate_model('LGBM Classifer', lgbc, X_train, y_train)\n",
    "\n",
    "lgbm_results"
   ]
  },
  {
   "cell_type": "code",
   "execution_count": 34,
   "id": "uniform-merchandise",
   "metadata": {},
   "outputs": [
    {
     "data": {
      "image/png": "[encoded data removed]",
      "text/plain": [
       "<Figure size 432x288 with 2 Axes>"
      ]
     },
     "metadata": {
      "needs_background": "light"
     },
     "output_type": "display_data"
    }
   ],
   "source": [
    "plot_confusion_matrix(metrics.confusion_matrix(y_test, lgbm_results['Test Results']['Predictions']), \n",
    "                      classes=classes, title=lgbm_results['Model Description'])"
   ]
  },
  {
   "cell_type": "markdown",
   "id": "collect-church",
   "metadata": {},
   "source": [
    "LGBM Classifier improves upon the XGB Classifier with Average Precision of .4188 but Recall decreased to 11.47%."
   ]
  },
  {
   "cell_type": "code",
   "execution_count": 35,
   "id": "governmental-morrison",
   "metadata": {},
   "outputs": [
    {
     "name": "stdout",
     "output_type": "stream",
     "text": [
      "Finished loading model, total used 100 iterations\n"
     ]
    },
    {
     "data": {
      "text/html": [
       "<div>\n",
       "<style scoped>\n",
       "    .dataframe tbody tr th:only-of-type {\n",
       "        vertical-align: middle;\n",
       "    }\n",
       "\n",
       "    .dataframe tbody tr th {\n",
       "        vertical-align: top;\n",
       "    }\n",
       "\n",
       "    .dataframe thead th {\n",
       "        text-align: right;\n",
       "    }\n",
       "</style>\n",
       "<table border=\"1\" class=\"dataframe\">\n",
       "  <thead>\n",
       "    <tr style=\"text-align: right;\">\n",
       "      <th></th>\n",
       "      <th>Model Description</th>\n",
       "      <th>Training Time</th>\n",
       "      <th>Test Results.Accuracy Score</th>\n",
       "      <th>Test Results.Precision Score</th>\n",
       "      <th>Test Results.Recall Score</th>\n",
       "      <th>Test Results.F1 Score</th>\n",
       "      <th>Test Results.F2 Score</th>\n",
       "      <th>Test Results.False Omission Rate</th>\n",
       "      <th>Test Results.Average Precision Score</th>\n",
       "    </tr>\n",
       "  </thead>\n",
       "  <tbody>\n",
       "    <tr>\n",
       "      <th>6</th>\n",
       "      <td>LGBM Classifer</td>\n",
       "      <td>2.068896</td>\n",
       "      <td>0.803570</td>\n",
       "      <td>0.565250</td>\n",
       "      <td>0.113836</td>\n",
       "      <td>0.189507</td>\n",
       "      <td>0.135474</td>\n",
       "      <td>0.186338</td>\n",
       "      <td>0.418128</td>\n",
       "    </tr>\n",
       "    <tr>\n",
       "      <th>5</th>\n",
       "      <td>XGB Classifer</td>\n",
       "      <td>15.585451</td>\n",
       "      <td>0.803531</td>\n",
       "      <td>0.551284</td>\n",
       "      <td>0.140232</td>\n",
       "      <td>0.223589</td>\n",
       "      <td>0.164810</td>\n",
       "      <td>0.182825</td>\n",
       "      <td>0.413556</td>\n",
       "    </tr>\n",
       "    <tr>\n",
       "      <th>4</th>\n",
       "      <td>Gradient Boosting Classifier</td>\n",
       "      <td>92.136293</td>\n",
       "      <td>0.803223</td>\n",
       "      <td>0.586448</td>\n",
       "      <td>0.083314</td>\n",
       "      <td>0.145901</td>\n",
       "      <td>0.100571</td>\n",
       "      <td>0.190381</td>\n",
       "      <td>0.411305</td>\n",
       "    </tr>\n",
       "    <tr>\n",
       "      <th>2</th>\n",
       "      <td>Random Forest Classifier</td>\n",
       "      <td>46.294638</td>\n",
       "      <td>0.799162</td>\n",
       "      <td>0.666667</td>\n",
       "      <td>0.008862</td>\n",
       "      <td>0.017492</td>\n",
       "      <td>0.011041</td>\n",
       "      <td>0.200482</td>\n",
       "      <td>0.401020</td>\n",
       "    </tr>\n",
       "    <tr>\n",
       "      <th>3</th>\n",
       "      <td>AdaBoost Classifer</td>\n",
       "      <td>21.565550</td>\n",
       "      <td>0.801928</td>\n",
       "      <td>0.552790</td>\n",
       "      <td>0.095003</td>\n",
       "      <td>0.162141</td>\n",
       "      <td>0.113862</td>\n",
       "      <td>0.189124</td>\n",
       "      <td>0.399459</td>\n",
       "    </tr>\n",
       "    <tr>\n",
       "      <th>0</th>\n",
       "      <td>Logistic Regression</td>\n",
       "      <td>10.287756</td>\n",
       "      <td>0.801227</td>\n",
       "      <td>0.556206</td>\n",
       "      <td>0.072580</td>\n",
       "      <td>0.128404</td>\n",
       "      <td>0.087859</td>\n",
       "      <td>0.192149</td>\n",
       "      <td>0.393958</td>\n",
       "    </tr>\n",
       "    <tr>\n",
       "      <th>1</th>\n",
       "      <td>Gaussian Naive Bayes</td>\n",
       "      <td>0.408361</td>\n",
       "      <td>0.691791</td>\n",
       "      <td>0.332143</td>\n",
       "      <td>0.522194</td>\n",
       "      <td>0.406030</td>\n",
       "      <td>0.468571</td>\n",
       "      <td>0.141159</td>\n",
       "      <td>0.321929</td>\n",
       "    </tr>\n",
       "  </tbody>\n",
       "</table>\n",
       "</div>"
      ],
      "text/plain": [
       "              Model Description  Training Time  Test Results.Accuracy Score  \\\n",
       "6                LGBM Classifer       2.068896                     0.803570   \n",
       "5                 XGB Classifer      15.585451                     0.803531   \n",
       "4  Gradient Boosting Classifier      92.136293                     0.803223   \n",
       "2      Random Forest Classifier      46.294638                     0.799162   \n",
       "3            AdaBoost Classifer      21.565550                     0.801928   \n",
       "0           Logistic Regression      10.287756                     0.801227   \n",
       "1          Gaussian Naive Bayes       0.408361                     0.691791   \n",
       "\n",
       "   Test Results.Precision Score  Test Results.Recall Score  \\\n",
       "6                      0.565250                   0.113836   \n",
       "5                      0.551284                   0.140232   \n",
       "4                      0.586448                   0.083314   \n",
       "2                      0.666667                   0.008862   \n",
       "3                      0.552790                   0.095003   \n",
       "0                      0.556206                   0.072580   \n",
       "1                      0.332143                   0.522194   \n",
       "\n",
       "   Test Results.F1 Score  Test Results.F2 Score  \\\n",
       "6               0.189507               0.135474   \n",
       "5               0.223589               0.164810   \n",
       "4               0.145901               0.100571   \n",
       "2               0.017492               0.011041   \n",
       "3               0.162141               0.113862   \n",
       "0               0.128404               0.087859   \n",
       "1               0.406030               0.468571   \n",
       "\n",
       "   Test Results.False Omission Rate  Test Results.Average Precision Score  \n",
       "6                          0.186338                              0.418128  \n",
       "5                          0.182825                              0.413556  \n",
       "4                          0.190381                              0.411305  \n",
       "2                          0.200482                              0.401020  \n",
       "3                          0.189124                              0.399459  \n",
       "0                          0.192149                              0.393958  \n",
       "1                          0.141159                              0.321929  "
      ]
     },
     "execution_count": 35,
     "metadata": {},
     "output_type": "execute_result"
    }
   ],
   "source": [
    "models = [log_results, gnb_results, rf_results, abc_results, gb_results, xgbc_results, lgbm_results]\n",
    "\n",
    "initial_models_df = pd.json_normalize(models)\n",
    "initial_models_df[['Model Description', 'Training Time', 'Test Results.Accuracy Score', \n",
    "                                      'Test Results.Precision Score', 'Test Results.Recall Score', \n",
    "                                      'Test Results.F1 Score', 'Test Results.F2 Score', \n",
    "                                      'Test Results.False Omission Rate', 'Test Results.Average Precision Score']].sort_values(by='Test Results.Average Precision Score', ascending=False)"
   ]
  },
  {
   "cell_type": "markdown",
   "id": "stylish-teach",
   "metadata": {},
   "source": [
    "LGBM Classifier has the best model performance and the 2nd fastest training time."
   ]
  },
  {
   "cell_type": "markdown",
   "id": "cardiovascular-physics",
   "metadata": {},
   "source": [
    "### 4.4 Under Sampling"
   ]
  },
  {
   "cell_type": "markdown",
   "id": "flexible-storm",
   "metadata": {},
   "source": [
    "All models except for Gaussian Naive Bayes performed poorly on Recall.  Let's explore random under sampling to force an equal distribution by randomly removing paid off loans."
   ]
  },
  {
   "cell_type": "markdown",
   "id": "compressed-berry",
   "metadata": {},
   "source": [
    "#### 4.4.1 Random Under Sampling"
   ]
  },
  {
   "cell_type": "code",
   "execution_count": 36,
   "id": "laden-translation",
   "metadata": {},
   "outputs": [
    {
     "name": "stdout",
     "output_type": "stream",
     "text": [
      "Counter({0: 61135, 1: 61135})\n"
     ]
    }
   ],
   "source": [
    "from collections import Counter\n",
    "from imblearn.under_sampling import RandomUnderSampler\n",
    "\n",
    "rus = RandomUnderSampler(replacement=False, random_state=SEED)\n",
    "\n",
    "X_train_rus, y_train_rus = rus.fit_resample(X_train, y_train)\n",
    "\n",
    "print(Counter(y_train_rus))"
   ]
  },
  {
   "cell_type": "code",
   "execution_count": 37,
   "id": "adult-sierra",
   "metadata": {},
   "outputs": [
    {
     "name": "stdout",
     "output_type": "stream",
     "text": [
      "Logistic Regression Under Sampled\n",
      "Test Average Precision Score: 0.392850\n",
      "-----------------------------------\n",
      "Gaussian Naive Bayes Under Sampled\n",
      "Test Average Precision Score: 0.322912\n",
      "-----------------------------------\n",
      "Random Forest Classifier Under Sampled\n",
      "Test Average Precision Score: 0.398485\n",
      "-----------------------------------\n",
      "AdaBoost Classifer Under Sampled\n",
      "Test Average Precision Score: 0.395797\n",
      "-----------------------------------\n",
      "Gradient Boosting Classifier Under Sampled\n",
      "Test Average Precision Score: 0.410577\n",
      "-----------------------------------\n",
      "XGB Classifer Under Sampled\n",
      "Test Average Precision Score: 0.403010\n",
      "-----------------------------------\n",
      "LGBM Classifer Under Sampled\n",
      "Test Average Precision Score: 0.415599\n",
      "-----------------------------------\n"
     ]
    }
   ],
   "source": [
    "# Loop through models and rerun using the under sampled data\n",
    "model_rus_results = []\n",
    "for model in models:\n",
    "    model_desc = model['Model Description'] + ' Under Sampled'\n",
    "    print(model_desc)\n",
    "    results = evaluate_model(model_desc, model['Classifier'], X_train_rus, y_train_rus)\n",
    "    print('Test Average Precision Score:', \"{:.6f}\".format(results['Test Results']['Average Precision Score']))\n",
    "    print('-----------------------------------')\n",
    "    model_rus_results.append(results)"
   ]
  },
  {
   "cell_type": "code",
   "execution_count": 38,
   "id": "committed-attempt",
   "metadata": {},
   "outputs": [
    {
     "name": "stdout",
     "output_type": "stream",
     "text": [
      "Finished loading model, total used 100 iterations\n"
     ]
    },
    {
     "data": {
      "text/html": [
       "<div>\n",
       "<style scoped>\n",
       "    .dataframe tbody tr th:only-of-type {\n",
       "        vertical-align: middle;\n",
       "    }\n",
       "\n",
       "    .dataframe tbody tr th {\n",
       "        vertical-align: top;\n",
       "    }\n",
       "\n",
       "    .dataframe thead th {\n",
       "        text-align: right;\n",
       "    }\n",
       "</style>\n",
       "<table border=\"1\" class=\"dataframe\">\n",
       "  <thead>\n",
       "    <tr style=\"text-align: right;\">\n",
       "      <th></th>\n",
       "      <th>Model Description</th>\n",
       "      <th>Training Time</th>\n",
       "      <th>Test Results.Accuracy Score</th>\n",
       "      <th>Test Results.Precision Score</th>\n",
       "      <th>Test Results.Recall Score</th>\n",
       "      <th>Test Results.F1 Score</th>\n",
       "      <th>Test Results.F2 Score</th>\n",
       "      <th>Test Results.False Omission Rate</th>\n",
       "      <th>Test Results.Average Precision Score</th>\n",
       "    </tr>\n",
       "  </thead>\n",
       "  <tbody>\n",
       "    <tr>\n",
       "      <th>6</th>\n",
       "      <td>LGBM Classifer Under Sampled</td>\n",
       "      <td>1.005312</td>\n",
       "      <td>0.670900</td>\n",
       "      <td>0.344480</td>\n",
       "      <td>0.699251</td>\n",
       "      <td>0.461571</td>\n",
       "      <td>0.579823</td>\n",
       "      <td>0.102743</td>\n",
       "      <td>0.415599</td>\n",
       "    </tr>\n",
       "    <tr>\n",
       "      <th>4</th>\n",
       "      <td>Gradient Boosting Classifier Under Sampled</td>\n",
       "      <td>32.008096</td>\n",
       "      <td>0.662970</td>\n",
       "      <td>0.337853</td>\n",
       "      <td>0.698716</td>\n",
       "      <td>0.455470</td>\n",
       "      <td>0.575728</td>\n",
       "      <td>0.104288</td>\n",
       "      <td>0.410577</td>\n",
       "    </tr>\n",
       "    <tr>\n",
       "      <th>5</th>\n",
       "      <td>XGB Classifer Under Sampled</td>\n",
       "      <td>6.745530</td>\n",
       "      <td>0.667548</td>\n",
       "      <td>0.340414</td>\n",
       "      <td>0.691115</td>\n",
       "      <td>0.456149</td>\n",
       "      <td>0.573043</td>\n",
       "      <td>0.105535</td>\n",
       "      <td>0.403010</td>\n",
       "    </tr>\n",
       "    <tr>\n",
       "      <th>2</th>\n",
       "      <td>Random Forest Classifier Under Sampled</td>\n",
       "      <td>13.529953</td>\n",
       "      <td>0.655064</td>\n",
       "      <td>0.331447</td>\n",
       "      <td>0.697952</td>\n",
       "      <td>0.449455</td>\n",
       "      <td>0.571551</td>\n",
       "      <td>0.105934</td>\n",
       "      <td>0.398485</td>\n",
       "    </tr>\n",
       "    <tr>\n",
       "      <th>3</th>\n",
       "      <td>AdaBoost Classifer Under Sampled</td>\n",
       "      <td>8.833120</td>\n",
       "      <td>0.653006</td>\n",
       "      <td>0.329399</td>\n",
       "      <td>0.695164</td>\n",
       "      <td>0.446994</td>\n",
       "      <td>0.568837</td>\n",
       "      <td>0.107085</td>\n",
       "      <td>0.395797</td>\n",
       "    </tr>\n",
       "    <tr>\n",
       "      <th>0</th>\n",
       "      <td>Logistic Regression Under Sampled</td>\n",
       "      <td>2.785545</td>\n",
       "      <td>0.654023</td>\n",
       "      <td>0.330931</td>\n",
       "      <td>0.699786</td>\n",
       "      <td>0.449359</td>\n",
       "      <td>0.572226</td>\n",
       "      <td>0.105618</td>\n",
       "      <td>0.392850</td>\n",
       "    </tr>\n",
       "    <tr>\n",
       "      <th>1</th>\n",
       "      <td>Gaussian Naive Bayes Under Sampled</td>\n",
       "      <td>0.131449</td>\n",
       "      <td>0.621804</td>\n",
       "      <td>0.302237</td>\n",
       "      <td>0.668424</td>\n",
       "      <td>0.416257</td>\n",
       "      <td>0.538046</td>\n",
       "      <td>0.120772</td>\n",
       "      <td>0.322912</td>\n",
       "    </tr>\n",
       "  </tbody>\n",
       "</table>\n",
       "</div>"
      ],
      "text/plain": [
       "                            Model Description  Training Time  \\\n",
       "6                LGBM Classifer Under Sampled       1.005312   \n",
       "4  Gradient Boosting Classifier Under Sampled      32.008096   \n",
       "5                 XGB Classifer Under Sampled       6.745530   \n",
       "2      Random Forest Classifier Under Sampled      13.529953   \n",
       "3            AdaBoost Classifer Under Sampled       8.833120   \n",
       "0           Logistic Regression Under Sampled       2.785545   \n",
       "1          Gaussian Naive Bayes Under Sampled       0.131449   \n",
       "\n",
       "   Test Results.Accuracy Score  Test Results.Precision Score  \\\n",
       "6                     0.670900                      0.344480   \n",
       "4                     0.662970                      0.337853   \n",
       "5                     0.667548                      0.340414   \n",
       "2                     0.655064                      0.331447   \n",
       "3                     0.653006                      0.329399   \n",
       "0                     0.654023                      0.330931   \n",
       "1                     0.621804                      0.302237   \n",
       "\n",
       "   Test Results.Recall Score  Test Results.F1 Score  Test Results.F2 Score  \\\n",
       "6                   0.699251               0.461571               0.579823   \n",
       "4                   0.698716               0.455470               0.575728   \n",
       "5                   0.691115               0.456149               0.573043   \n",
       "2                   0.697952               0.449455               0.571551   \n",
       "3                   0.695164               0.446994               0.568837   \n",
       "0                   0.699786               0.449359               0.572226   \n",
       "1                   0.668424               0.416257               0.538046   \n",
       "\n",
       "   Test Results.False Omission Rate  Test Results.Average Precision Score  \n",
       "6                          0.102743                              0.415599  \n",
       "4                          0.104288                              0.410577  \n",
       "5                          0.105535                              0.403010  \n",
       "2                          0.105934                              0.398485  \n",
       "3                          0.107085                              0.395797  \n",
       "0                          0.105618                              0.392850  \n",
       "1                          0.120772                              0.322912  "
      ]
     },
     "execution_count": 38,
     "metadata": {},
     "output_type": "execute_result"
    }
   ],
   "source": [
    "models_rus_df = pd.json_normalize(model_rus_results)\n",
    "models_rus_df = models_rus_df[['Model Description', 'Training Time', 'Test Results.Accuracy Score', \n",
    "                                      'Test Results.Precision Score', 'Test Results.Recall Score', \n",
    "                                      'Test Results.F1 Score', 'Test Results.F2 Score', \n",
    "                                      'Test Results.False Omission Rate', 'Test Results.Average Precision Score']]\n",
    "models_rus_df.sort_values(by='Test Results.Average Precision Score', ascending=False)"
   ]
  },
  {
   "cell_type": "markdown",
   "id": "searching-colors",
   "metadata": {},
   "source": [
    "The LGBM Classifier performed the best for both the initial default model and using the random under-sampled data.  Comparing the default models to the random under-sampled data models really demonstrates the tradeoff between Precision and Recall in the Average Precision Score metric.  The Average Precision Score was quite similar in each run but with the random under-sampled data Recall improved at the cost of Precision.  Let's plot the Precision Recall Curves for both LGBM Classifier models to visualize that tradeoff."
   ]
  },
  {
   "cell_type": "code",
   "execution_count": 39,
   "id": "olympic-occupation",
   "metadata": {},
   "outputs": [
    {
     "data": {
      "image/png": "[encoded data removed]",
      "text/plain": [
       "<Figure size 720x360 with 1 Axes>"
      ]
     },
     "metadata": {
      "needs_background": "light"
     },
     "output_type": "display_data"
    }
   ],
   "source": [
    "fig, ax = plt.subplots(figsize=(10,5))\n",
    "precision, recall, thresholds = metrics.precision_recall_curve(y_test, lgbm_results['Test Results']['Probabilities'])\n",
    "ax.plot(recall, precision, label=lgbm_results['Model Description'])\n",
    "precision_rus, recall_rus, thresholds_rus = metrics.precision_recall_curve(y_test, model_rus_results[6]['Test Results']['Probabilities'])\n",
    "ax.plot(recall_rus, precision_rus, label=model_rus_results[6]['Model Description'], linestyle='--')\n",
    "ax.set_xlabel('Recall')\n",
    "ax.set_ylabel('Precision')\n",
    "plt.legend()\n",
    "plt.title('Precision Recall Curve for LGBM Classifiers')\n",
    "plt.show()"
   ]
  },
  {
   "cell_type": "markdown",
   "id": "sorted-volleyball",
   "metadata": {},
   "source": [
    "The Precision Recall curves demonstrates that the LGBM Classifier using the under-sampled data is virtually the same model but the balanced class probabilities shifts more predictions to `chargeoff` and increases Recall.  Since the models trained on the under-sampled data achieved better Recall, we can accomplish a similar result using the entire dataset by either:\n",
    "\n",
    "1) Adjusting the class_weight/scale_pos_weight parameters when training the model or<br>\n",
    "2) Using a lower threshold for predictions\n",
    "\n",
    "In the model optimization stage we will explore both of these options further."
   ]
  },
  {
   "cell_type": "code",
   "execution_count": 40,
   "id": "selective-saint",
   "metadata": {},
   "outputs": [
    {
     "data": {
      "image/png": "[encoded data removed]",
      "text/plain": [
       "<Figure size 1296x720 with 1 Axes>"
      ]
     },
     "metadata": {
      "needs_background": "light"
     },
     "output_type": "display_data"
    }
   ],
   "source": [
    "fig, ax = plt.subplots(figsize=(18,10))\n",
    "avg_prec_test = initial_models_df[['Model Description', 'Test Results.Average Precision Score']].copy()\n",
    "avg_prec_test.rename(columns = {'Test Results.Average Precision Score': 'Average Precision Score'}, inplace = True)\n",
    "avg_prec_test['Data'] = 'Test'\n",
    "avg_prec_test.sort_values(by='Average Precision Score', ascending=False, inplace=True)\n",
    "avg_prec_train = initial_models_df[['Model Description', 'Train Results.Average Precision Score']].copy()\n",
    "avg_prec_train.rename(columns = {'Train Results.Average Precision Score': 'Average Precision Score'}, inplace = True)\n",
    "avg_prec_train['Data'] = 'Train'\n",
    "\n",
    "avg_prec_df = pd.concat([avg_prec_test, avg_prec_train], axis=0)\n",
    "sns.barplot(x=\"Model Description\", y=\"Average Precision Score\", hue='Data', data=avg_prec_df, ax=ax)\n",
    "plt.title('Average Precision Score for Training and Test Data for all Models')\n",
    "plt.show()"
   ]
  },
  {
   "cell_type": "markdown",
   "id": "living-modern",
   "metadata": {},
   "source": [
    "The LGBM Classifier has the highest Average Precision Score on the Test data and the XGB Classifier performed the best on the Train data.  In the next stage we will optimize both of these classifiers to see if the XGB Classifier can be tuned to outperform the LGBM classifier."
   ]
  },
  {
   "cell_type": "markdown",
   "id": "occupied-tunnel",
   "metadata": {},
   "source": [
    "### 4.5 Model Optimization"
   ]
  },
  {
   "cell_type": "markdown",
   "id": "plastic-paintball",
   "metadata": {},
   "source": [
    "For model optimization purposes we will focus on the F2 Score since this evaluation metric puts more weight on Recall."
   ]
  },
  {
   "cell_type": "code",
   "execution_count": 41,
   "id": "corresponding-dialogue",
   "metadata": {},
   "outputs": [],
   "source": [
    "# Make a custom scorer using f2_score\n",
    "f2_scorer = metrics.make_scorer(metrics.fbeta_score, beta=2)"
   ]
  },
  {
   "cell_type": "markdown",
   "id": "favorite-superintendent",
   "metadata": {},
   "source": [
    "#### 4.5.1 Option 1: Optimize Class Weight"
   ]
  },
  {
   "cell_type": "markdown",
   "id": "published-phone",
   "metadata": {},
   "source": [
    "Let's start with the XGBClassifier by performing a GridSearch on the best `scale_pos_weight` and then Bayesian hyper-parameter optimization on all other numeric parameters."
   ]
  },
  {
   "cell_type": "markdown",
   "id": "announced-ocean",
   "metadata": {},
   "source": [
    "##### 4.5.1.1 XGBClassifier"
   ]
  },
  {
   "cell_type": "code",
   "execution_count": 42,
   "id": "following-clinic",
   "metadata": {},
   "outputs": [
    {
     "name": "stdout",
     "output_type": "stream",
     "text": [
      "Best Score: 0.6038\n",
      "Best Parameters: {'scale_pos_weight': 10}\n"
     ]
    }
   ],
   "source": [
    "# GridSearch for scale_pos_weight\n",
    "from sklearn.model_selection import GridSearchCV\n",
    "\n",
    "weights = [1, 2, 5, 10, 20]\n",
    "gs_params = dict(scale_pos_weight=weights)\n",
    "\n",
    "xgbc = xgb.XGBClassifier(eval_metric='aucpr', use_label_encoder=False, random_state=SEED)\n",
    "\n",
    "xgbc_gs = GridSearchCV(estimator=xgbc, param_grid=gs_params, \n",
    "                    cv=5, scoring=f2_scorer)\n",
    "\n",
    "xgbc_gs.fit(X_train, y_train)\n",
    "\n",
    "print('Best Score: {:.4f}'.format(xgbc_gs.best_score_))\n",
    "print(\"Best Parameters: {}\".format(xgbc_gs.best_params_))"
   ]
  },
  {
   "cell_type": "markdown",
   "id": "ranging-spectrum",
   "metadata": {},
   "source": [
    "10 is the optimal `scale_pos_weight`.  Let's now perform hyper-parameter optimization for some of the other XGBClassifier parameters."
   ]
  },
  {
   "cell_type": "code",
   "execution_count": 43,
   "id": "thorough-venue",
   "metadata": {},
   "outputs": [],
   "source": [
    "# Format input params for XGBClassifier\n",
    "def xgbc_format_params(params):\n",
    "    params = {\n",
    "        'max_depth': int(params['max_depth']),\n",
    "        'min_child_weight': int(params['min_child_weight']),\n",
    "        'gamma': \"{:.3f}\".format(params['gamma']),\n",
    "        'subsample': '{:.3f}'.format(params['subsample']),\n",
    "        'colsample_bytree': '{:.3f}'.format(params['colsample_bytree']),\n",
    "    }\n",
    "    return params"
   ]
  },
  {
   "cell_type": "code",
   "execution_count": 44,
   "id": "signal-infrared",
   "metadata": {},
   "outputs": [],
   "source": [
    "# Define objective function for XGBClassifier\n",
    "from hyperopt import fmin, tpe, hp, STATUS_OK, Trials\n",
    "from sklearn.model_selection import cross_val_score\n",
    "\n",
    "# Define loss objective function\n",
    "def xgbc_objective(params):\n",
    "    params = xgbc_format_params(params)\n",
    "    \n",
    "    clf = xgb.XGBClassifier(eval_metric='aucpr', use_label_encoder=False, scale_pos_weight=10, \n",
    "                            **params, random_state=SEED)\n",
    "    \n",
    "    f2score_mean = cross_val_score(clf, X_train, y_train, cv=5, scoring=f2_scorer).mean()\n",
    "\n",
    "    return {'loss': -f2score_mean, 'status': STATUS_OK}"
   ]
  },
  {
   "cell_type": "code",
   "execution_count": 45,
   "id": "prompt-playlist",
   "metadata": {},
   "outputs": [],
   "source": [
    "# Define optimization parameters for xgbc\n",
    "xgbc_space = {\n",
    "    'max_depth': hp.quniform('max_depth', 3, 15, 1),\n",
    "    'min_child_weight': hp.quniform('min_child_weight', 0, 10, 1),\n",
    "    'gamma': hp.uniform('gamma', 0.0, 10.0),\n",
    "    'subsample': hp.uniform('subsample', 0.3, 1.0),\n",
    "    'colsample_bytree': hp.uniform('colsample_bytree', 0.3, 1.0)\n",
    "}"
   ]
  },
  {
   "cell_type": "code",
   "execution_count": 46,
   "id": "capital-number",
   "metadata": {},
   "outputs": [
    {
     "name": "stdout",
     "output_type": "stream",
     "text": [
      "100%|███████████████████████████████████████████████| 10/10 [27:46<00:00, 166.65s/trial, best loss: -0.605360134696282]\n"
     ]
    }
   ],
   "source": [
    "# Set random state for hyperopt\n",
    "rstate = np.random.RandomState(SEED)\n",
    "\n",
    "trials = Trials()\n",
    "\n",
    "xgbc_best = fmin(fn=xgbc_objective, space=xgbc_space, algo=tpe.suggest, max_evals=10, trials=trials, rstate=rstate)"
   ]
  },
  {
   "cell_type": "code",
   "execution_count": 47,
   "id": "acquired-corrections",
   "metadata": {},
   "outputs": [
    {
     "name": "stdout",
     "output_type": "stream",
     "text": [
      "XGBClassifier Hyperopt estimated optimum {'colsample_bytree': 0.8603522620197213, 'gamma': 1.884252917654301, 'max_depth': 5.0, 'min_child_weight': 9.0, 'subsample': 0.8138196125898978}\n"
     ]
    }
   ],
   "source": [
    "print(\"XGBClassifier Hyperopt estimated optimum {}\".format(xgbc_best))"
   ]
  },
  {
   "cell_type": "code",
   "execution_count": 48,
   "id": "listed-washer",
   "metadata": {},
   "outputs": [
    {
     "data": {
      "text/plain": [
       "{'Predictions': array([1, 0, 1, ..., 1, 1, 1]),\n",
       " 'Probabilities': array([0.85, 0.26, 0.6 , ..., 0.75, 0.83, 0.85], dtype=float32),\n",
       " 'Accuracy Score': 0.44785228796448995,\n",
       " 'Precision Score': 0.2568654290358457,\n",
       " 'Recall Score': 0.9175643670257468,\n",
       " 'F1 Score': 0.4013702063664467,\n",
       " 'F2 Score': 0.6058802163209298,\n",
       " 'Average Precision Score': 0.41591570652976667,\n",
       " 'False Omission Rate': 0.05952446626579136}"
      ]
     },
     "execution_count": 48,
     "metadata": {},
     "output_type": "execute_result"
    }
   ],
   "source": [
    "# Fit final optimized model and run cross-validation\n",
    "params = {\n",
    "    'max_depth': int(xgbc_best['max_depth']),\n",
    "    'min_child_weight': int(xgbc_best['min_child_weight']),\n",
    "    'gamma': \"{:.3f}\".format(xgbc_best['gamma']),\n",
    "    'subsample': '{:.3f}'.format(xgbc_best['subsample']),\n",
    "    'colsample_bytree': '{:.3f}'.format(xgbc_best['colsample_bytree']),\n",
    "    }\n",
    "xgbc_opt = xgb.XGBClassifier(eval_metric='aucpr', use_label_encoder=False, scale_pos_weight=10,\n",
    "                             **params, random_state=SEED)\n",
    "\n",
    "xgbc_opt.fit(X_train, y_train)\n",
    "model_metrics(xgbc_opt, X_test, y_test)"
   ]
  },
  {
   "cell_type": "markdown",
   "id": "manual-conversion",
   "metadata": {},
   "source": [
    "#### 4.5.1.2 LGBMClassifier"
   ]
  },
  {
   "cell_type": "code",
   "execution_count": 49,
   "id": "recorded-domain",
   "metadata": {},
   "outputs": [
    {
     "name": "stdout",
     "output_type": "stream",
     "text": [
      "Best Score: 0.6050\n",
      "Best Parameters: {'scale_pos_weight': 10}\n"
     ]
    }
   ],
   "source": [
    "# GridSearch for scale_pos_weight\n",
    "lgbc = lgb.LGBMClassifier(random_state=SEED)\n",
    "\n",
    "lgbc_gs = GridSearchCV(estimator=lgbc, param_grid=gs_params, \n",
    "                    cv=5, scoring=f2_scorer)\n",
    "\n",
    "lgbc_gs.fit(X_train, y_train)\n",
    "\n",
    "print('Best Score: {:.4f}'.format(lgbc_gs.best_score_))\n",
    "print(\"Best Parameters: {}\".format(lgbc_gs.best_params_))"
   ]
  },
  {
   "cell_type": "code",
   "execution_count": 50,
   "id": "retained-sense",
   "metadata": {},
   "outputs": [],
   "source": [
    "# Format input params for LGBMClassifier\n",
    "def lgbc_format_params(params, scale_pos_weight):\n",
    "    params = {\n",
    "        'scale_pos_weight': scale_pos_weight,\n",
    "        'num_leaves': int(params['num_leaves']),\n",
    "        'min_child_samples': int(params['min_child_samples']),\n",
    "        'max_bin': int(params['max_bin']),\n",
    "        'learning_rate': \"{:.3f}\".format(params['learning_rate']),\n",
    "        'subsample': '{:.3f}'.format(params['subsample']),\n",
    "        'colsample_bytree': '{:.3f}'.format(params['colsample_bytree']),\n",
    "    }\n",
    "    return params"
   ]
  },
  {
   "cell_type": "code",
   "execution_count": 51,
   "id": "primary-metabolism",
   "metadata": {},
   "outputs": [],
   "source": [
    "# Define loss objective function\n",
    "def lgbc_objective(params):\n",
    "    params = lgbc_format_params(params, scale_pos_weight=10)\n",
    "    \n",
    "    clf = lgb.LGBMClassifier(**params, random_state=SEED)\n",
    "    \n",
    "    f2score_mean = cross_val_score(clf, X_train, y_train, cv=5, scoring=f2_scorer).mean()\n",
    "\n",
    "    return {'loss': -f2score_mean, 'status': STATUS_OK}"
   ]
  },
  {
   "cell_type": "code",
   "execution_count": 52,
   "id": "oriental-parent",
   "metadata": {},
   "outputs": [],
   "source": [
    "# Define optimization parameters for lgbc\n",
    "lgbc_space = {\n",
    "    'n_estimators': hp.quniform('max_depth', 100, 1000, 1),\n",
    "    'num_leaves': hp.quniform('num_leaves', 1, 50, 1),\n",
    "    'min_child_samples': hp.quniform('min_child_samples', 1, 100, 1),\n",
    "    'max_bin': hp.quniform('max_bin', 1, 1000, 1),\n",
    "    'learning_rate': hp.uniform('learning_rate', 0.0, 1.0),\n",
    "    'subsample': hp.uniform('subsample', 0.3, 1.0),\n",
    "    'colsample_bytree': hp.uniform('colsample_bytree', 0.3, 1.0)\n",
    "}"
   ]
  },
  {
   "cell_type": "code",
   "execution_count": 53,
   "id": "republican-index",
   "metadata": {},
   "outputs": [
    {
     "name": "stdout",
     "output_type": "stream",
     "text": [
      "100%|███████████████████████████████████████████████| 10/10 [03:14<00:00, 19.45s/trial, best loss: -0.6060721166540501]\n"
     ]
    }
   ],
   "source": [
    "trials = Trials()\n",
    "\n",
    "lgbc_best = fmin(fn=lgbc_objective, space=lgbc_space, algo=tpe.suggest, max_evals=10, trials=trials, rstate=rstate)"
   ]
  },
  {
   "cell_type": "code",
   "execution_count": 54,
   "id": "muslim-spectacular",
   "metadata": {},
   "outputs": [
    {
     "name": "stdout",
     "output_type": "stream",
     "text": [
      "LGBMClassifier Hyperopt estimated optimum {'colsample_bytree': 0.9639281051913686, 'learning_rate': 0.09749591346538378, 'max_bin': 262.0, 'max_depth': 544.0, 'min_child_samples': 25.0, 'num_leaves': 46.0, 'subsample': 0.7459238219968884}\n"
     ]
    }
   ],
   "source": [
    "print(\"LGBMClassifier Hyperopt estimated optimum {}\".format(lgbc_best))"
   ]
  },
  {
   "cell_type": "code",
   "execution_count": 55,
   "id": "wrong-bryan",
   "metadata": {},
   "outputs": [
    {
     "data": {
      "text/plain": [
       "{'Predictions': array([1, 0, 1, ..., 1, 1, 1], dtype=int8),\n",
       " 'Probabilities': array([0.85, 0.34, 0.55, ..., 0.72, 0.82, 0.83]),\n",
       " 'Accuracy Score': 0.43983786199774977,\n",
       " 'Precision Score': 0.2552669795634879,\n",
       " 'Recall Score': 0.9266177706471083,\n",
       " 'F1 Score': 0.4002673179103,\n",
       " 'F2 Score': 0.6072204588010294,\n",
       " 'Average Precision Score': 0.4175090018950938,\n",
       " 'False Omission Rate': 0.0552964881980426}"
      ]
     },
     "execution_count": 55,
     "metadata": {},
     "output_type": "execute_result"
    }
   ],
   "source": [
    "# Fit final optimized model and run cross-validation\n",
    "lgbc_params = lgbc_format_params(lgbc_best, scale_pos_weight=10)\n",
    "\n",
    "lgbc_opt = lgb.LGBMClassifier(**lgbc_params, random_state=SEED)\n",
    "\n",
    "lgbc_opt.fit(X_train, y_train)\n",
    "model_metrics(lgbc_opt, X_test, y_test)"
   ]
  },
  {
   "cell_type": "markdown",
   "id": "harmful-hierarchy",
   "metadata": {},
   "source": [
    "#### 4.5.2 Option 2: Optimize Prediction Threshold"
   ]
  },
  {
   "cell_type": "markdown",
   "id": "comprehensive-radical",
   "metadata": {},
   "source": [
    "The LGBMClassifier model performed slightly better than the XGBClassifier with the optimized `scale_pos_weight`.  Let's now tune the LGBMClassifier with the default `scale_pos_weight` and identify the optimal prediction threshold that maximizes F2 Score."
   ]
  },
  {
   "cell_type": "code",
   "execution_count": 56,
   "id": "hydraulic-october",
   "metadata": {},
   "outputs": [],
   "source": [
    "# Define loss objective function for threshold optimization\n",
    "def lgbc_objective2(params):\n",
    "    params = lgbc_format_params(params, scale_pos_weight=1)\n",
    "    \n",
    "    clf = lgb.LGBMClassifier(**params, random_state=SEED)\n",
    "    \n",
    "    f2score_mean = cross_val_score(clf, X_train, y_train, cv=5, scoring=f2_scorer).mean()\n",
    "\n",
    "    return {'loss': -f2score_mean, 'status': STATUS_OK}"
   ]
  },
  {
   "cell_type": "code",
   "execution_count": 57,
   "id": "transparent-picking",
   "metadata": {},
   "outputs": [
    {
     "name": "stdout",
     "output_type": "stream",
     "text": [
      "100%|███████████████████████████████████████████████| 10/10 [02:57<00:00, 17.72s/trial, best loss: -0.1887887580815629]\n"
     ]
    }
   ],
   "source": [
    "trials = Trials()\n",
    "\n",
    "lgbc_best2 = fmin(fn=lgbc_objective2, space=lgbc_space, algo=tpe.suggest, max_evals=10, trials=trials, rstate=rstate)"
   ]
  },
  {
   "cell_type": "code",
   "execution_count": 58,
   "id": "exact-devil",
   "metadata": {},
   "outputs": [
    {
     "data": {
      "text/plain": [
       "{'Predictions': array([0, 0, 0, ..., 0, 0, 0], dtype=int8),\n",
       " 'Probabilities': array([0.4 , 0.14, 0.11, ..., 0.25, 0.31, 0.26]),\n",
       " 'Accuracy Score': 0.7982676510025739,\n",
       " 'Precision Score': 0.5,\n",
       " 'Recall Score': 0.15768966307586524,\n",
       " 'F1 Score': 0.23976302491723295,\n",
       " 'F2 Score': 0.18270660718079457,\n",
       " 'Average Precision Score': 0.38889412587022426,\n",
       " 'False Omission Rate': 0.1814665459632952}"
      ]
     },
     "execution_count": 58,
     "metadata": {},
     "output_type": "execute_result"
    }
   ],
   "source": [
    "# Fit final optimized model and run cross-validation\n",
    "lgbc_params2 = lgbc_format_params(lgbc_best2, scale_pos_weight=1)\n",
    "\n",
    "lgbc_opt2 = lgb.LGBMClassifier(**lgbc_params2, random_state=SEED)\n",
    "\n",
    "lgbc_opt2.fit(X_train, y_train)\n",
    "model_metrics(lgbc_opt2, X_test, y_test)"
   ]
  },
  {
   "cell_type": "markdown",
   "id": "differential-implement",
   "metadata": {},
   "source": [
    "Not surprisingly the F2 Score is significantly lower using the default `scale_pos_weight` but we will now evaluate at different prediction thresholds."
   ]
  },
  {
   "cell_type": "code",
   "execution_count": 59,
   "id": "amazing-reynolds",
   "metadata": {},
   "outputs": [],
   "source": [
    "# Use threshold to get predictions\n",
    "def preds_threshold(probs, threshold):\n",
    "    return (probs >= threshold).astype('int')"
   ]
  },
  {
   "cell_type": "code",
   "execution_count": 60,
   "id": "recent-indian",
   "metadata": {},
   "outputs": [],
   "source": [
    "# Fit model and create prediction probs\n",
    "lgbc_opt2.fit(X_train, y_train)\n",
    "y_pred_prob = lgbc_opt2.predict_proba(X_test)[:, 1]\n",
    "\n",
    "# Create range of thresholds\n",
    "thresholds = np.arange(0.01, 1.01, .01)\n",
    "\n",
    "# Get F2 Scores\n",
    "scores = [metrics.fbeta_score(y_test, preds_threshold(y_pred_prob, th), beta=2) for th in thresholds]"
   ]
  },
  {
   "cell_type": "code",
   "execution_count": 61,
   "id": "broad-suspension",
   "metadata": {},
   "outputs": [
    {
     "data": {
      "image/png": "[encoded data removed]",
      "text/plain": [
       "<Figure size 720x360 with 1 Axes>"
      ]
     },
     "metadata": {
      "needs_background": "light"
     },
     "output_type": "display_data"
    }
   ],
   "source": [
    "# Plot thresholds and scores\n",
    "fig, ax = plt.subplots(figsize=(10,5))\n",
    "ax.plot(thresholds, scores)\n",
    "\n",
    "score_i = np.argmax(scores)\n",
    "\n",
    "best_score = scores[score_i]\n",
    "th_opt = thresholds[score_i]\n",
    "\n",
    "ax.axhline(y=best_score, color='g', linestyle='dashed')\n",
    "ax.axvline(x=th_opt, color='g', linestyle='dashed')\n",
    "plt.annotate('Best Score: {:.4f}'.format(best_score), xy=(0.85, .57))\n",
    "plt.annotate('Optimal Threshold: {:.2f}'.format(th_opt), xy=(0.13, 0))\n",
    "\n",
    "plt.ylabel('F2 Score')\n",
    "plt.xlabel('Threshold')\n",
    "plt.title('F2 Scores by Threshold')\n",
    "plt.show()"
   ]
  },
  {
   "cell_type": "markdown",
   "id": "graphic-management",
   "metadata": {},
   "source": [
    "### 4.6 Model Selection"
   ]
  },
  {
   "cell_type": "markdown",
   "id": "competent-canvas",
   "metadata": {},
   "source": [
    "7 different classification models were evaluated:\n",
    "\n",
    "1. LogisticRegression\n",
    "2. GaussianNB\n",
    "3. RandomForestClassifier\n",
    "4. AdaBoostClassifier\n",
    "5. GradientBoostingClassifier\n",
    "6. XGBClassifier\n",
    "7. LGBMClassifier\n",
    "\n",
    "The top 2 performing models (XGBClassifier and LGBMClassifier) were optimized for final model selection using a GridSearch and Automated Bayesian approach.\n",
    "\n",
    "The LGBMClassifier model with `pos_scale_weight` = 10 performs the best with an F2 Score and Average Precision Score of **.607** and **.418** respectively on the test data.  The False Omission Rate has improved significantly from **20.16%** in the naive Dummy Classifier to **5.5%**.  The training time is significantly faster as observed in each tuning trial of **10.17** seconds per trial vs. **163.46** seconds per trial for the XGBClassifier model."
   ]
  },
  {
   "cell_type": "code",
   "execution_count": 62,
   "id": "accessory-crystal",
   "metadata": {},
   "outputs": [
    {
     "data": {
      "image/png": "[encoded data removed]",
      "text/plain": [
       "<Figure size 1080x720 with 1 Axes>"
      ]
     },
     "metadata": {
      "needs_background": "light"
     },
     "output_type": "display_data"
    }
   ],
   "source": [
    "# Plot feature importances\n",
    "fig, ax = plt.subplots(figsize=(15,10))\n",
    "lgb.plot_importance(lgbc_opt, ax=ax)\n",
    "plt.show()"
   ]
  },
  {
   "cell_type": "code",
   "execution_count": 63,
   "id": "outside-michael",
   "metadata": {},
   "outputs": [
    {
     "name": "stdout",
     "output_type": "stream",
     "text": [
      "Final LGBMClassifier Classification Report:\n",
      "              precision    recall  f1-score   support\n",
      "\n",
      "     Paidoff       0.94      0.32      0.47    103588\n",
      "   Chargeoff       0.26      0.93      0.40     26178\n",
      "\n",
      "    accuracy                           0.44    129766\n",
      "   macro avg       0.60      0.62      0.44    129766\n",
      "weighted avg       0.81      0.44      0.46    129766\n",
      "\n"
     ]
    },
    {
     "data": {
      "image/png": "[encoded data removed]",
      "text/plain": [
       "<Figure size 432x288 with 2 Axes>"
      ]
     },
     "metadata": {
      "needs_background": "light"
     },
     "output_type": "display_data"
    }
   ],
   "source": [
    "# Run classification report and plot confusion matrix\n",
    "final_pred = lgbc_opt.predict(X_test)\n",
    "final_prob = lgbc_opt.predict_proba(X_test)[:, 1]\n",
    "print('Final LGBMClassifier Classification Report:')\n",
    "print(metrics.classification_report(y_test, final_pred, target_names=classes))\n",
    "plot_confusion_matrix(metrics.confusion_matrix(y_test, final_pred), \n",
    "                      classes=classes, title='Final LGBMClassifier Model')"
   ]
  },
  {
   "cell_type": "markdown",
   "id": "former-produce",
   "metadata": {},
   "source": [
    "As the confusion matrix shows the positive class scaling really forced the model to over predict `chargeoff` in order maximize performance.  In order to improve the model we need to obtain additional features with better predictive power.  We lost some features such as FICO score and many credit burearu fields simply because they were not populated for historical data when Prosper utilized Experian for credit scoring.\n",
    "\n",
    "Once Prosper has more historical loans that have closed and Transunion credit scoring was used, we can revisit model training and introduce additional features.  However, this model was able to accomplish 93% Recall without sacrificing all of the True Negative loans.  From the test set there are still 32K loans to choose investments from so in the next section we will explore if the model performs better for investment recommendations."
   ]
  },
  {
   "cell_type": "markdown",
   "id": "excessive-verse",
   "metadata": {},
   "source": [
    "# 5 Scenario Analysis<a id='5_scenario_analysis'></a> "
   ]
  },
  {
   "cell_type": "markdown",
   "id": "taken-meter",
   "metadata": {},
   "source": [
    "There are 3 different methods that we will compare for selecting investments:\n",
    "\n",
    "1. Random\n",
    "2. Rule Based Heuristic\n",
    "3. Model Prediction and Loan Scorecard\n",
    "\n",
    "The 1st option is simply just random selection.  When new listings become available we would just choose listings at random for investment.\n",
    "\n",
    "The 2nd option is selecting investments based on logic to minimize loss exposure.  As identified in the EDA phase `prosper_rating` = AA listings have the lowest chargeoff %.  In this scenario we will randomly select listings that meet this criteria.\n",
    "\n",
    "The 3rd option is utilizing the model to predict `chargeoff`. We will then score the listings based on 40% Interest Rate and 60% Prediction probability. \n",
    "\n",
    "Let's simulate those 3 scenarios and estimate a Simple Rate of Return for 40 loans.  Since each scenario will assume the investment amount is the same for each loan, a simple average of the Rate of Return is appropriate."
   ]
  },
  {
   "cell_type": "markdown",
   "id": "single-illustration",
   "metadata": {},
   "source": [
    "### 5.1 Random"
   ]
  },
  {
   "cell_type": "markdown",
   "id": "authorized-valentine",
   "metadata": {},
   "source": [
    "In order to make sure the scenarios are comparable we will select 40 loans from the same time period in the test data.  It was observed in EDA that a loan with a 60 month term has a higher chargeoff % compared to 36 months.  However, It is preferred not to go back 5 years to select the potential investments.  Therefore, to simplify the comparison process we will select loans originated in the month of January 2018 with a term of 36 months.  The original core data file was obtained in January 2021 so this means all loans if held to maturity would have paid off prior to the data being acquired."
   ]
  },
  {
   "cell_type": "code",
   "execution_count": 64,
   "id": "directed-discharge",
   "metadata": {},
   "outputs": [],
   "source": [
    "# Set paramaters\n",
    "orig_month = 201801\n",
    "listing_term = 36\n",
    "num_loans = 40\n",
    "\n",
    "df_investments = df_clean[(df_clean['origination_month'] == orig_month) & (df_clean['listing_term'] == listing_term)]\n",
    "df_investments['origination_month_dt'] = pd.to_datetime(df_investments['origination_month'], format='%Y%m')\n",
    "df_investments['closed_month_dt'] = pd.to_datetime(df_investments['closed_month'], format='%Y%m')\n",
    "# Calculate number of months the investment was paid\n",
    "df_investments['months'] = (df_investments['closed_month_dt'].dt.year - \n",
    "                           df_investments['origination_month_dt'].dt.year) * 12 + (df_investments['closed_month_dt'].dt.month \n",
    "                                                                                   - df_investments['origination_month_dt'].dt.month) + 1\n",
    "\n",
    "# Calculate gain\n",
    "df_investments['final_value'] = df_investments['principal_paid'] + df_investments['interest_paid'] + df_investments['debt_sale_recovery']\n",
    "\n",
    "# Calculate rate of return\n",
    "df_investments['ror'] = (df_investments['final_value'] / df_investments['listing_amount']) ** (1 / (df_investments['months']/12)) - 1\n"
   ]
  },
  {
   "cell_type": "code",
   "execution_count": 65,
   "id": "deadly-monday",
   "metadata": {},
   "outputs": [
    {
     "name": "stdout",
     "output_type": "stream",
     "text": [
      "The average interest rate in the total loan pool is: 15.77%\n",
      "The average number of chargeoffs in the total loan pool is: 20.00%\n",
      "The average rate of return is: -1.69%\n"
     ]
    }
   ],
   "source": [
    "df_random = df_investments.sample(num_loans, random_state=SEED)\n",
    "\n",
    "print('The average interest rate in the total loan pool is: ' + '{:.2%}'.format(df_random['borrower_rate'].mean()))\n",
    "print('The average number of chargeoffs in the total loan pool is: ' + '{:.2%}'.format(df_random['chargeoff'].mean()))\n",
    "print('The average rate of return is: ' + '{:.2%}'.format(df_random['ror'].mean()))"
   ]
  },
  {
   "cell_type": "markdown",
   "id": "super-cylinder",
   "metadata": {},
   "source": [
    "Randomly picking loans is not a great investment strategy.  20% of our investments would charge off and we would end up taking a loss of 1.69%"
   ]
  },
  {
   "cell_type": "markdown",
   "id": "hungry-isaac",
   "metadata": {},
   "source": [
    "### 5.2 Rule Based"
   ]
  },
  {
   "cell_type": "code",
   "execution_count": 66,
   "id": "wicked-combining",
   "metadata": {},
   "outputs": [
    {
     "name": "stdout",
     "output_type": "stream",
     "text": [
      "The average interest rate in the total loan pool is: 6.18%\n",
      "The average number of chargeoffs in the total loan pool is: 5.00%\n",
      "The average rate of return is: 1.71%\n"
     ]
    }
   ],
   "source": [
    "df_logic = df_investments[df_investments['prosper_rating'] == 'AA'].sample(num_loans, random_state=SEED)\n",
    "\n",
    "print('The average interest rate in the total loan pool is: ' + '{:.2%}'.format(df_logic['borrower_rate'].mean()))\n",
    "print('The average number of chargeoffs in the total loan pool is: ' + '{:.2%}'.format(df_logic['chargeoff'].mean()))\n",
    "print('The average rate of return is: ' + '{:.2%}'.format(df_logic['ror'].mean()))"
   ]
  },
  {
   "cell_type": "markdown",
   "id": "herbal-trace",
   "metadata": {},
   "source": [
    "This is a very simple rule based investment decision using the `prosper_rating` but focusing solely on higher quality features will really decrease the average interest rates in the loan pool.  This scenario reduced the charge off % to 5% but with the lower yields the average rate of return only improvies to 1.71%."
   ]
  },
  {
   "cell_type": "markdown",
   "id": "amended-earthquake",
   "metadata": {},
   "source": [
    "### 5.3 Model Prediction and Listing Scorecard"
   ]
  },
  {
   "cell_type": "markdown",
   "id": "proprietary-valentine",
   "metadata": {},
   "source": [
    "In this scenario we will make predictions on the test data utilizing the optimized LGBMClassififer model and then score the loans weighted by interest rate and chargeoff probability."
   ]
  },
  {
   "cell_type": "code",
   "execution_count": 67,
   "id": "thorough-permission",
   "metadata": {},
   "outputs": [],
   "source": [
    "# Create the scorecard\n",
    "def listing_scorecard(df, weights):\n",
    "    # Calculate weights and investment score\n",
    "    df['borrower_rate_weight'] = df['borrower_rate_scaled'] * weights[0]\n",
    "    df['chargeoff_probability_weight'] = (1 - df['chargeoff_probability']) * weights[1]\n",
    "    df['investment_score'] = df['borrower_rate_weight'] + df['chargeoff_probability_weight']\n",
    "\n",
    "    # Calculate investment rate of return\n",
    "    df.sort_values(by='investment_score', ascending=False, inplace=True)\n",
    "    \n",
    "    return df"
   ]
  },
  {
   "cell_type": "code",
   "execution_count": 68,
   "id": "completed-fiction",
   "metadata": {},
   "outputs": [
    {
     "name": "stdout",
     "output_type": "stream",
     "text": [
      "The average interest rate in the total loan pool is: 9.41%\n",
      "The average number of chargeoffs in the investment pool is: 5.00%\n",
      "The average rate of return is: 5.32%\n"
     ]
    }
   ],
   "source": [
    "from sklearn.preprocessing import MinMaxScaler\n",
    "scaler = MinMaxScaler()\n",
    "\n",
    "weights = [.50, .50]\n",
    "\n",
    "X_test_copy = X_test.copy()\n",
    "\n",
    "X_test_copy['chargeoff_prediction'] = final_pred\n",
    "X_test_copy['chargeoff_probability'] = final_prob\n",
    "\n",
    "# Scale Interest Rate so it is on the same scale as the probabilities\n",
    "df_investments['borrower_rate_scaled'] = scaler.fit_transform(df_investments[['borrower_rate']])\n",
    "\n",
    "# Combine with original df_investments\n",
    "df_scorecard = df_investments.merge(X_test_copy[['chargeoff_prediction', 'chargeoff_probability']], left_index=True, right_index=True)\n",
    "\n",
    "# Create scorecard\n",
    "df_scorecard = listing_scorecard(df_scorecard, weights)\n",
    "# Select top 40 investments\n",
    "df_investments_selected = df_scorecard[df_scorecard['chargeoff_prediction'] == 0].head(40)\n",
    "\n",
    "print('The average interest rate in the total loan pool is: ' + '{:.2%}'.format(df_investments_selected['borrower_rate'].mean()))\n",
    "print('The average number of chargeoffs in the investment pool is: ' + '{:.2%}'.format(df_investments_selected['chargeoff'].mean()))\n",
    "print('The average rate of return is: ' + '{:.2%}'.format(df_investments_selected['ror'].mean()))"
   ]
  },
  {
   "cell_type": "markdown",
   "id": "frequent-pottery",
   "metadata": {},
   "source": [
    "This is the best result so far.  We were able to increase the rate of return to 5.32%.  The chargeoff % is the same as the rule based scenario at 5% but by identifying higher quality and higher yield loans we are almost able to accomplish our objective of 6.5%.  Let's simulate different weight % in the Scorecard."
   ]
  },
  {
   "cell_type": "code",
   "execution_count": 69,
   "id": "proprietary-grenada",
   "metadata": {},
   "outputs": [
    {
     "data": {
      "text/plain": [
       "[{(0.1, 0.9): 0.029938726944107756},\n",
       " {(0.2, 0.8): 0.03334486294841595},\n",
       " {(0.3, 0.7): 0.038060877771717024},\n",
       " {(0.4, 0.6): 0.05002150272504311},\n",
       " {(0.5, 0.5): 0.05319639380697063},\n",
       " {(0.6, 0.4): 0.0724596339339744},\n",
       " {(0.7, 0.3): 0.04282043673609193},\n",
       " {(0.8, 0.2): 0.03670937339636845},\n",
       " {(0.9, 0.1): 0.037427474350235766}]"
      ]
     },
     "execution_count": 69,
     "metadata": {},
     "output_type": "execute_result"
    }
   ],
   "source": [
    "# Create weight combinations\n",
    "weights = [(np.round(v,1), np.round(1-v,1)) for v in np.arange(0.1, 1, .1)]\n",
    "results = []\n",
    "for w in weights:\n",
    "    df_scorecard = listing_scorecard(df_scorecard, w)\n",
    "    # Select top 40 investments\n",
    "    df_investments_selected = df_scorecard[df_scorecard['chargeoff_prediction'] == 0].head(40)\n",
    "    results.append({w: df_investments_selected['ror'].mean()})\n",
    "    \n",
    "results"
   ]
  },
  {
   "cell_type": "markdown",
   "id": "shared-psychology",
   "metadata": {},
   "source": [
    "The optimal weights is 60% Interest Rate and 40% Chargeoff Probability."
   ]
  },
  {
   "cell_type": "code",
   "execution_count": 70,
   "id": "willing-consultation",
   "metadata": {},
   "outputs": [
    {
     "name": "stdout",
     "output_type": "stream",
     "text": [
      "The average interest rate in the total loan pool is: 12.60%\n",
      "The average number of chargeoffs in the investment pool is: 5.00%\n",
      "The average rate of return is: 7.25%\n"
     ]
    }
   ],
   "source": [
    "weights = [.60, .40]\n",
    "# Create scorecard\n",
    "df_scorecard = listing_scorecard(df_scorecard, weights)\n",
    "# Select top 40 investments\n",
    "df_investments_selected = df_scorecard[df_scorecard['chargeoff_prediction'] == 0].head(40)\n",
    "\n",
    "print('The average interest rate in the total loan pool is: ' + '{:.2%}'.format(df_investments_selected['borrower_rate'].mean()))\n",
    "print('The average number of chargeoffs in the investment pool is: ' + '{:.2%}'.format(df_investments_selected['chargeoff'].mean()))\n",
    "print('The average rate of return is: ' + '{:.2%}'.format(df_investments_selected['ror'].mean()))"
   ]
  },
  {
   "cell_type": "markdown",
   "id": "jewish-favorite",
   "metadata": {},
   "source": [
    "Although performance based on model evaluation metrics is not very good we were still able to solve the problem by combining model predictions with a scoring system to minimize default risk exposure and maximize rate of return.  In the optimal scenario we were able to achieve 7.25% rate of return based on actual historical loan performance for a specific period of time.  Actual portfolio performance will vary but in the next stage we will finalize the model pipeline and create a live production investment selection system based on Prosper's loan listing API."
   ]
  },
  {
   "cell_type": "code",
   "execution_count": null,
   "id": "fourth-registration",
   "metadata": {},
   "outputs": [],
   "source": []
  }
 ],
 "metadata": {
  "kernelspec": {
   "display_name": "Python 3",
   "language": "python",
   "name": "python3"
  },
  "language_info": {
   "codemirror_mode": {
    "name": "ipython",
    "version": 3
   },
   "file_extension": ".py",
   "mimetype": "text/x-python",
   "name": "python",
   "nbconvert_exporter": "python",
   "pygments_lexer": "ipython3",
   "version": "3.9.1"
  }
 },
 "nbformat": 4,
 "nbformat_minor": 5
}
